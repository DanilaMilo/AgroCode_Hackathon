{
  "nbformat": 4,
  "nbformat_minor": 0,
  "metadata": {
    "colab": {
      "name": "data_augmentation.ipynb",
      "provenance": [],
      "collapsed_sections": []
    },
    "kernelspec": {
      "name": "python3",
      "display_name": "Python 3"
    },
    "language_info": {
      "name": "python"
    },
    "widgets": {
      "application/vnd.jupyter.widget-state+json": {
        "15a79f6a655849b0834250fed0a98754": {
          "model_module": "@jupyter-widgets/controls",
          "model_name": "HBoxModel",
          "model_module_version": "1.5.0",
          "state": {
            "_view_name": "HBoxView",
            "_dom_classes": [],
            "_model_name": "HBoxModel",
            "_view_module": "@jupyter-widgets/controls",
            "_model_module_version": "1.5.0",
            "_view_count": null,
            "_view_module_version": "1.5.0",
            "box_style": "",
            "layout": "IPY_MODEL_ca112f68f7714e26be30b87f571ce238",
            "_model_module": "@jupyter-widgets/controls",
            "children": [
              "IPY_MODEL_a9115b36c557465dbf227711d216e468",
              "IPY_MODEL_01b95a6481dc436bb1d7e4d0030a3b79",
              "IPY_MODEL_080f7a50a79047a88fd3d0a9c150bf8d"
            ]
          }
        },
        "ca112f68f7714e26be30b87f571ce238": {
          "model_module": "@jupyter-widgets/base",
          "model_name": "LayoutModel",
          "model_module_version": "1.2.0",
          "state": {
            "_view_name": "LayoutView",
            "grid_template_rows": null,
            "right": null,
            "justify_content": null,
            "_view_module": "@jupyter-widgets/base",
            "overflow": null,
            "_model_module_version": "1.2.0",
            "_view_count": null,
            "flex_flow": null,
            "width": null,
            "min_width": null,
            "border": null,
            "align_items": null,
            "bottom": null,
            "_model_module": "@jupyter-widgets/base",
            "top": null,
            "grid_column": null,
            "overflow_y": null,
            "overflow_x": null,
            "grid_auto_flow": null,
            "grid_area": null,
            "grid_template_columns": null,
            "flex": null,
            "_model_name": "LayoutModel",
            "justify_items": null,
            "grid_row": null,
            "max_height": null,
            "align_content": null,
            "visibility": null,
            "align_self": null,
            "height": null,
            "min_height": null,
            "padding": null,
            "grid_auto_rows": null,
            "grid_gap": null,
            "max_width": null,
            "order": null,
            "_view_module_version": "1.2.0",
            "grid_template_areas": null,
            "object_position": null,
            "object_fit": null,
            "grid_auto_columns": null,
            "margin": null,
            "display": null,
            "left": null
          }
        },
        "a9115b36c557465dbf227711d216e468": {
          "model_module": "@jupyter-widgets/controls",
          "model_name": "HTMLModel",
          "model_module_version": "1.5.0",
          "state": {
            "_view_name": "HTMLView",
            "style": "IPY_MODEL_531a1a419af043c3a40f67b78b45493c",
            "_dom_classes": [],
            "description": "",
            "_model_name": "HTMLModel",
            "placeholder": "​",
            "_view_module": "@jupyter-widgets/controls",
            "_model_module_version": "1.5.0",
            "value": "Downloading: 100%",
            "_view_count": null,
            "_view_module_version": "1.5.0",
            "description_tooltip": null,
            "_model_module": "@jupyter-widgets/controls",
            "layout": "IPY_MODEL_75352df1768e4d518e7f074314b41e3e"
          }
        },
        "01b95a6481dc436bb1d7e4d0030a3b79": {
          "model_module": "@jupyter-widgets/controls",
          "model_name": "FloatProgressModel",
          "model_module_version": "1.5.0",
          "state": {
            "_view_name": "ProgressView",
            "style": "IPY_MODEL_b9bcc2de06a84fb0839038eab25c8ed8",
            "_dom_classes": [],
            "description": "",
            "_model_name": "FloatProgressModel",
            "bar_style": "success",
            "max": 724,
            "_view_module": "@jupyter-widgets/controls",
            "_model_module_version": "1.5.0",
            "value": 724,
            "_view_count": null,
            "_view_module_version": "1.5.0",
            "orientation": "horizontal",
            "min": 0,
            "description_tooltip": null,
            "_model_module": "@jupyter-widgets/controls",
            "layout": "IPY_MODEL_84ec5941b2bd4845b9c8a874eeb377d2"
          }
        },
        "080f7a50a79047a88fd3d0a9c150bf8d": {
          "model_module": "@jupyter-widgets/controls",
          "model_name": "HTMLModel",
          "model_module_version": "1.5.0",
          "state": {
            "_view_name": "HTMLView",
            "style": "IPY_MODEL_6168413d8cbf4aad808d8dcd0e19418c",
            "_dom_classes": [],
            "description": "",
            "_model_name": "HTMLModel",
            "placeholder": "​",
            "_view_module": "@jupyter-widgets/controls",
            "_model_module_version": "1.5.0",
            "value": " 724/724 [00:00&lt;00:00, 11.5kB/s]",
            "_view_count": null,
            "_view_module_version": "1.5.0",
            "description_tooltip": null,
            "_model_module": "@jupyter-widgets/controls",
            "layout": "IPY_MODEL_b0ae69faa24d4892a79e341f96e2ee2c"
          }
        },
        "531a1a419af043c3a40f67b78b45493c": {
          "model_module": "@jupyter-widgets/controls",
          "model_name": "DescriptionStyleModel",
          "model_module_version": "1.5.0",
          "state": {
            "_view_name": "StyleView",
            "_model_name": "DescriptionStyleModel",
            "description_width": "",
            "_view_module": "@jupyter-widgets/base",
            "_model_module_version": "1.5.0",
            "_view_count": null,
            "_view_module_version": "1.2.0",
            "_model_module": "@jupyter-widgets/controls"
          }
        },
        "75352df1768e4d518e7f074314b41e3e": {
          "model_module": "@jupyter-widgets/base",
          "model_name": "LayoutModel",
          "model_module_version": "1.2.0",
          "state": {
            "_view_name": "LayoutView",
            "grid_template_rows": null,
            "right": null,
            "justify_content": null,
            "_view_module": "@jupyter-widgets/base",
            "overflow": null,
            "_model_module_version": "1.2.0",
            "_view_count": null,
            "flex_flow": null,
            "width": null,
            "min_width": null,
            "border": null,
            "align_items": null,
            "bottom": null,
            "_model_module": "@jupyter-widgets/base",
            "top": null,
            "grid_column": null,
            "overflow_y": null,
            "overflow_x": null,
            "grid_auto_flow": null,
            "grid_area": null,
            "grid_template_columns": null,
            "flex": null,
            "_model_name": "LayoutModel",
            "justify_items": null,
            "grid_row": null,
            "max_height": null,
            "align_content": null,
            "visibility": null,
            "align_self": null,
            "height": null,
            "min_height": null,
            "padding": null,
            "grid_auto_rows": null,
            "grid_gap": null,
            "max_width": null,
            "order": null,
            "_view_module_version": "1.2.0",
            "grid_template_areas": null,
            "object_position": null,
            "object_fit": null,
            "grid_auto_columns": null,
            "margin": null,
            "display": null,
            "left": null
          }
        },
        "b9bcc2de06a84fb0839038eab25c8ed8": {
          "model_module": "@jupyter-widgets/controls",
          "model_name": "ProgressStyleModel",
          "model_module_version": "1.5.0",
          "state": {
            "_view_name": "StyleView",
            "_model_name": "ProgressStyleModel",
            "description_width": "",
            "_view_module": "@jupyter-widgets/base",
            "_model_module_version": "1.5.0",
            "_view_count": null,
            "_view_module_version": "1.2.0",
            "bar_color": null,
            "_model_module": "@jupyter-widgets/controls"
          }
        },
        "84ec5941b2bd4845b9c8a874eeb377d2": {
          "model_module": "@jupyter-widgets/base",
          "model_name": "LayoutModel",
          "model_module_version": "1.2.0",
          "state": {
            "_view_name": "LayoutView",
            "grid_template_rows": null,
            "right": null,
            "justify_content": null,
            "_view_module": "@jupyter-widgets/base",
            "overflow": null,
            "_model_module_version": "1.2.0",
            "_view_count": null,
            "flex_flow": null,
            "width": null,
            "min_width": null,
            "border": null,
            "align_items": null,
            "bottom": null,
            "_model_module": "@jupyter-widgets/base",
            "top": null,
            "grid_column": null,
            "overflow_y": null,
            "overflow_x": null,
            "grid_auto_flow": null,
            "grid_area": null,
            "grid_template_columns": null,
            "flex": null,
            "_model_name": "LayoutModel",
            "justify_items": null,
            "grid_row": null,
            "max_height": null,
            "align_content": null,
            "visibility": null,
            "align_self": null,
            "height": null,
            "min_height": null,
            "padding": null,
            "grid_auto_rows": null,
            "grid_gap": null,
            "max_width": null,
            "order": null,
            "_view_module_version": "1.2.0",
            "grid_template_areas": null,
            "object_position": null,
            "object_fit": null,
            "grid_auto_columns": null,
            "margin": null,
            "display": null,
            "left": null
          }
        },
        "6168413d8cbf4aad808d8dcd0e19418c": {
          "model_module": "@jupyter-widgets/controls",
          "model_name": "DescriptionStyleModel",
          "model_module_version": "1.5.0",
          "state": {
            "_view_name": "StyleView",
            "_model_name": "DescriptionStyleModel",
            "description_width": "",
            "_view_module": "@jupyter-widgets/base",
            "_model_module_version": "1.5.0",
            "_view_count": null,
            "_view_module_version": "1.2.0",
            "_model_module": "@jupyter-widgets/controls"
          }
        },
        "b0ae69faa24d4892a79e341f96e2ee2c": {
          "model_module": "@jupyter-widgets/base",
          "model_name": "LayoutModel",
          "model_module_version": "1.2.0",
          "state": {
            "_view_name": "LayoutView",
            "grid_template_rows": null,
            "right": null,
            "justify_content": null,
            "_view_module": "@jupyter-widgets/base",
            "overflow": null,
            "_model_module_version": "1.2.0",
            "_view_count": null,
            "flex_flow": null,
            "width": null,
            "min_width": null,
            "border": null,
            "align_items": null,
            "bottom": null,
            "_model_module": "@jupyter-widgets/base",
            "top": null,
            "grid_column": null,
            "overflow_y": null,
            "overflow_x": null,
            "grid_auto_flow": null,
            "grid_area": null,
            "grid_template_columns": null,
            "flex": null,
            "_model_name": "LayoutModel",
            "justify_items": null,
            "grid_row": null,
            "max_height": null,
            "align_content": null,
            "visibility": null,
            "align_self": null,
            "height": null,
            "min_height": null,
            "padding": null,
            "grid_auto_rows": null,
            "grid_gap": null,
            "max_width": null,
            "order": null,
            "_view_module_version": "1.2.0",
            "grid_template_areas": null,
            "object_position": null,
            "object_fit": null,
            "grid_auto_columns": null,
            "margin": null,
            "display": null,
            "left": null
          }
        },
        "1b0457e21ec743199759487c054d3a24": {
          "model_module": "@jupyter-widgets/controls",
          "model_name": "HBoxModel",
          "model_module_version": "1.5.0",
          "state": {
            "_view_name": "HBoxView",
            "_dom_classes": [],
            "_model_name": "HBoxModel",
            "_view_module": "@jupyter-widgets/controls",
            "_model_module_version": "1.5.0",
            "_view_count": null,
            "_view_module_version": "1.5.0",
            "box_style": "",
            "layout": "IPY_MODEL_3f0c98efd6604bf0a373b9b4e4f9990b",
            "_model_module": "@jupyter-widgets/controls",
            "children": [
              "IPY_MODEL_c882db8d1db741878912749fa2b1d27a",
              "IPY_MODEL_3064f995fe1a4cbbbabb872e2bfa564d",
              "IPY_MODEL_96d8faa973424e6a97e8254de274962c"
            ]
          }
        },
        "3f0c98efd6604bf0a373b9b4e4f9990b": {
          "model_module": "@jupyter-widgets/base",
          "model_name": "LayoutModel",
          "model_module_version": "1.2.0",
          "state": {
            "_view_name": "LayoutView",
            "grid_template_rows": null,
            "right": null,
            "justify_content": null,
            "_view_module": "@jupyter-widgets/base",
            "overflow": null,
            "_model_module_version": "1.2.0",
            "_view_count": null,
            "flex_flow": null,
            "width": null,
            "min_width": null,
            "border": null,
            "align_items": null,
            "bottom": null,
            "_model_module": "@jupyter-widgets/base",
            "top": null,
            "grid_column": null,
            "overflow_y": null,
            "overflow_x": null,
            "grid_auto_flow": null,
            "grid_area": null,
            "grid_template_columns": null,
            "flex": null,
            "_model_name": "LayoutModel",
            "justify_items": null,
            "grid_row": null,
            "max_height": null,
            "align_content": null,
            "visibility": null,
            "align_self": null,
            "height": null,
            "min_height": null,
            "padding": null,
            "grid_auto_rows": null,
            "grid_gap": null,
            "max_width": null,
            "order": null,
            "_view_module_version": "1.2.0",
            "grid_template_areas": null,
            "object_position": null,
            "object_fit": null,
            "grid_auto_columns": null,
            "margin": null,
            "display": null,
            "left": null
          }
        },
        "c882db8d1db741878912749fa2b1d27a": {
          "model_module": "@jupyter-widgets/controls",
          "model_name": "HTMLModel",
          "model_module_version": "1.5.0",
          "state": {
            "_view_name": "HTMLView",
            "style": "IPY_MODEL_1b53b2395d2d4dab809fda37930e3b31",
            "_dom_classes": [],
            "description": "",
            "_model_name": "HTMLModel",
            "placeholder": "​",
            "_view_module": "@jupyter-widgets/controls",
            "_model_module_version": "1.5.0",
            "value": "Downloading: 100%",
            "_view_count": null,
            "_view_module_version": "1.5.0",
            "description_tooltip": null,
            "_model_module": "@jupyter-widgets/controls",
            "layout": "IPY_MODEL_b20352ccc69743cc81be407cc67ea975"
          }
        },
        "3064f995fe1a4cbbbabb872e2bfa564d": {
          "model_module": "@jupyter-widgets/controls",
          "model_name": "FloatProgressModel",
          "model_module_version": "1.5.0",
          "state": {
            "_view_name": "ProgressView",
            "style": "IPY_MODEL_52fa591c936744c1b6cd80455f241664",
            "_dom_classes": [],
            "description": "",
            "_model_name": "FloatProgressModel",
            "bar_style": "success",
            "max": 977359949,
            "_view_module": "@jupyter-widgets/controls",
            "_model_module_version": "1.5.0",
            "value": 977359949,
            "_view_count": null,
            "_view_module_version": "1.5.0",
            "orientation": "horizontal",
            "min": 0,
            "description_tooltip": null,
            "_model_module": "@jupyter-widgets/controls",
            "layout": "IPY_MODEL_5a229200c7d245f5a5b0997bbdead1eb"
          }
        },
        "96d8faa973424e6a97e8254de274962c": {
          "model_module": "@jupyter-widgets/controls",
          "model_name": "HTMLModel",
          "model_module_version": "1.5.0",
          "state": {
            "_view_name": "HTMLView",
            "style": "IPY_MODEL_fd766187eb2740be9348f3ff3f2b422a",
            "_dom_classes": [],
            "description": "",
            "_model_name": "HTMLModel",
            "placeholder": "​",
            "_view_module": "@jupyter-widgets/controls",
            "_model_module_version": "1.5.0",
            "value": " 932M/932M [00:26&lt;00:00, 33.2MB/s]",
            "_view_count": null,
            "_view_module_version": "1.5.0",
            "description_tooltip": null,
            "_model_module": "@jupyter-widgets/controls",
            "layout": "IPY_MODEL_fb223a8ceeb5464bb64559e8c041a63c"
          }
        },
        "1b53b2395d2d4dab809fda37930e3b31": {
          "model_module": "@jupyter-widgets/controls",
          "model_name": "DescriptionStyleModel",
          "model_module_version": "1.5.0",
          "state": {
            "_view_name": "StyleView",
            "_model_name": "DescriptionStyleModel",
            "description_width": "",
            "_view_module": "@jupyter-widgets/base",
            "_model_module_version": "1.5.0",
            "_view_count": null,
            "_view_module_version": "1.2.0",
            "_model_module": "@jupyter-widgets/controls"
          }
        },
        "b20352ccc69743cc81be407cc67ea975": {
          "model_module": "@jupyter-widgets/base",
          "model_name": "LayoutModel",
          "model_module_version": "1.2.0",
          "state": {
            "_view_name": "LayoutView",
            "grid_template_rows": null,
            "right": null,
            "justify_content": null,
            "_view_module": "@jupyter-widgets/base",
            "overflow": null,
            "_model_module_version": "1.2.0",
            "_view_count": null,
            "flex_flow": null,
            "width": null,
            "min_width": null,
            "border": null,
            "align_items": null,
            "bottom": null,
            "_model_module": "@jupyter-widgets/base",
            "top": null,
            "grid_column": null,
            "overflow_y": null,
            "overflow_x": null,
            "grid_auto_flow": null,
            "grid_area": null,
            "grid_template_columns": null,
            "flex": null,
            "_model_name": "LayoutModel",
            "justify_items": null,
            "grid_row": null,
            "max_height": null,
            "align_content": null,
            "visibility": null,
            "align_self": null,
            "height": null,
            "min_height": null,
            "padding": null,
            "grid_auto_rows": null,
            "grid_gap": null,
            "max_width": null,
            "order": null,
            "_view_module_version": "1.2.0",
            "grid_template_areas": null,
            "object_position": null,
            "object_fit": null,
            "grid_auto_columns": null,
            "margin": null,
            "display": null,
            "left": null
          }
        },
        "52fa591c936744c1b6cd80455f241664": {
          "model_module": "@jupyter-widgets/controls",
          "model_name": "ProgressStyleModel",
          "model_module_version": "1.5.0",
          "state": {
            "_view_name": "StyleView",
            "_model_name": "ProgressStyleModel",
            "description_width": "",
            "_view_module": "@jupyter-widgets/base",
            "_model_module_version": "1.5.0",
            "_view_count": null,
            "_view_module_version": "1.2.0",
            "bar_color": null,
            "_model_module": "@jupyter-widgets/controls"
          }
        },
        "5a229200c7d245f5a5b0997bbdead1eb": {
          "model_module": "@jupyter-widgets/base",
          "model_name": "LayoutModel",
          "model_module_version": "1.2.0",
          "state": {
            "_view_name": "LayoutView",
            "grid_template_rows": null,
            "right": null,
            "justify_content": null,
            "_view_module": "@jupyter-widgets/base",
            "overflow": null,
            "_model_module_version": "1.2.0",
            "_view_count": null,
            "flex_flow": null,
            "width": null,
            "min_width": null,
            "border": null,
            "align_items": null,
            "bottom": null,
            "_model_module": "@jupyter-widgets/base",
            "top": null,
            "grid_column": null,
            "overflow_y": null,
            "overflow_x": null,
            "grid_auto_flow": null,
            "grid_area": null,
            "grid_template_columns": null,
            "flex": null,
            "_model_name": "LayoutModel",
            "justify_items": null,
            "grid_row": null,
            "max_height": null,
            "align_content": null,
            "visibility": null,
            "align_self": null,
            "height": null,
            "min_height": null,
            "padding": null,
            "grid_auto_rows": null,
            "grid_gap": null,
            "max_width": null,
            "order": null,
            "_view_module_version": "1.2.0",
            "grid_template_areas": null,
            "object_position": null,
            "object_fit": null,
            "grid_auto_columns": null,
            "margin": null,
            "display": null,
            "left": null
          }
        },
        "fd766187eb2740be9348f3ff3f2b422a": {
          "model_module": "@jupyter-widgets/controls",
          "model_name": "DescriptionStyleModel",
          "model_module_version": "1.5.0",
          "state": {
            "_view_name": "StyleView",
            "_model_name": "DescriptionStyleModel",
            "description_width": "",
            "_view_module": "@jupyter-widgets/base",
            "_model_module_version": "1.5.0",
            "_view_count": null,
            "_view_module_version": "1.2.0",
            "_model_module": "@jupyter-widgets/controls"
          }
        },
        "fb223a8ceeb5464bb64559e8c041a63c": {
          "model_module": "@jupyter-widgets/base",
          "model_name": "LayoutModel",
          "model_module_version": "1.2.0",
          "state": {
            "_view_name": "LayoutView",
            "grid_template_rows": null,
            "right": null,
            "justify_content": null,
            "_view_module": "@jupyter-widgets/base",
            "overflow": null,
            "_model_module_version": "1.2.0",
            "_view_count": null,
            "flex_flow": null,
            "width": null,
            "min_width": null,
            "border": null,
            "align_items": null,
            "bottom": null,
            "_model_module": "@jupyter-widgets/base",
            "top": null,
            "grid_column": null,
            "overflow_y": null,
            "overflow_x": null,
            "grid_auto_flow": null,
            "grid_area": null,
            "grid_template_columns": null,
            "flex": null,
            "_model_name": "LayoutModel",
            "justify_items": null,
            "grid_row": null,
            "max_height": null,
            "align_content": null,
            "visibility": null,
            "align_self": null,
            "height": null,
            "min_height": null,
            "padding": null,
            "grid_auto_rows": null,
            "grid_gap": null,
            "max_width": null,
            "order": null,
            "_view_module_version": "1.2.0",
            "grid_template_areas": null,
            "object_position": null,
            "object_fit": null,
            "grid_auto_columns": null,
            "margin": null,
            "display": null,
            "left": null
          }
        },
        "47fa63a6cada48eea1435d07740a8c29": {
          "model_module": "@jupyter-widgets/controls",
          "model_name": "HBoxModel",
          "model_module_version": "1.5.0",
          "state": {
            "_view_name": "HBoxView",
            "_dom_classes": [],
            "_model_name": "HBoxModel",
            "_view_module": "@jupyter-widgets/controls",
            "_model_module_version": "1.5.0",
            "_view_count": null,
            "_view_module_version": "1.5.0",
            "box_style": "",
            "layout": "IPY_MODEL_4642ba421e2848dfbf540ab8d8ddf999",
            "_model_module": "@jupyter-widgets/controls",
            "children": [
              "IPY_MODEL_925b2832b4bd463e9c71c58d920712eb",
              "IPY_MODEL_fced60a02dea40ffb24c01c27e2b5f4e",
              "IPY_MODEL_9346b312d16548f5937e3ce3415c16fa"
            ]
          }
        },
        "4642ba421e2848dfbf540ab8d8ddf999": {
          "model_module": "@jupyter-widgets/base",
          "model_name": "LayoutModel",
          "model_module_version": "1.2.0",
          "state": {
            "_view_name": "LayoutView",
            "grid_template_rows": null,
            "right": null,
            "justify_content": null,
            "_view_module": "@jupyter-widgets/base",
            "overflow": null,
            "_model_module_version": "1.2.0",
            "_view_count": null,
            "flex_flow": null,
            "width": null,
            "min_width": null,
            "border": null,
            "align_items": null,
            "bottom": null,
            "_model_module": "@jupyter-widgets/base",
            "top": null,
            "grid_column": null,
            "overflow_y": null,
            "overflow_x": null,
            "grid_auto_flow": null,
            "grid_area": null,
            "grid_template_columns": null,
            "flex": null,
            "_model_name": "LayoutModel",
            "justify_items": null,
            "grid_row": null,
            "max_height": null,
            "align_content": null,
            "visibility": null,
            "align_self": null,
            "height": null,
            "min_height": null,
            "padding": null,
            "grid_auto_rows": null,
            "grid_gap": null,
            "max_width": null,
            "order": null,
            "_view_module_version": "1.2.0",
            "grid_template_areas": null,
            "object_position": null,
            "object_fit": null,
            "grid_auto_columns": null,
            "margin": null,
            "display": null,
            "left": null
          }
        },
        "925b2832b4bd463e9c71c58d920712eb": {
          "model_module": "@jupyter-widgets/controls",
          "model_name": "HTMLModel",
          "model_module_version": "1.5.0",
          "state": {
            "_view_name": "HTMLView",
            "style": "IPY_MODEL_c938514a8b664f44a3e35984bbd8ac22",
            "_dom_classes": [],
            "description": "",
            "_model_name": "HTMLModel",
            "placeholder": "​",
            "_view_module": "@jupyter-widgets/controls",
            "_model_module_version": "1.5.0",
            "value": "Downloading: 100%",
            "_view_count": null,
            "_view_module_version": "1.5.0",
            "description_tooltip": null,
            "_model_module": "@jupyter-widgets/controls",
            "layout": "IPY_MODEL_09cd879dd5b94af8a371126ae1ab2af5"
          }
        },
        "fced60a02dea40ffb24c01c27e2b5f4e": {
          "model_module": "@jupyter-widgets/controls",
          "model_name": "FloatProgressModel",
          "model_module_version": "1.5.0",
          "state": {
            "_view_name": "ProgressView",
            "style": "IPY_MODEL_5b0fa44247ab4612829712a4b2cc584c",
            "_dom_classes": [],
            "description": "",
            "_model_name": "FloatProgressModel",
            "bar_style": "success",
            "max": 827566,
            "_view_module": "@jupyter-widgets/controls",
            "_model_module_version": "1.5.0",
            "value": 827566,
            "_view_count": null,
            "_view_module_version": "1.5.0",
            "orientation": "horizontal",
            "min": 0,
            "description_tooltip": null,
            "_model_module": "@jupyter-widgets/controls",
            "layout": "IPY_MODEL_d1ff08a9fb8e41ada0f031da17e51505"
          }
        },
        "9346b312d16548f5937e3ce3415c16fa": {
          "model_module": "@jupyter-widgets/controls",
          "model_name": "HTMLModel",
          "model_module_version": "1.5.0",
          "state": {
            "_view_name": "HTMLView",
            "style": "IPY_MODEL_8e0d8f17724a43f99b19d61d4b79edea",
            "_dom_classes": [],
            "description": "",
            "_model_name": "HTMLModel",
            "placeholder": "​",
            "_view_module": "@jupyter-widgets/controls",
            "_model_module_version": "1.5.0",
            "value": " 808k/808k [00:00&lt;00:00, 5.66MB/s]",
            "_view_count": null,
            "_view_module_version": "1.5.0",
            "description_tooltip": null,
            "_model_module": "@jupyter-widgets/controls",
            "layout": "IPY_MODEL_678097b355dd4156aa3ed44fe3e09b4a"
          }
        },
        "c938514a8b664f44a3e35984bbd8ac22": {
          "model_module": "@jupyter-widgets/controls",
          "model_name": "DescriptionStyleModel",
          "model_module_version": "1.5.0",
          "state": {
            "_view_name": "StyleView",
            "_model_name": "DescriptionStyleModel",
            "description_width": "",
            "_view_module": "@jupyter-widgets/base",
            "_model_module_version": "1.5.0",
            "_view_count": null,
            "_view_module_version": "1.2.0",
            "_model_module": "@jupyter-widgets/controls"
          }
        },
        "09cd879dd5b94af8a371126ae1ab2af5": {
          "model_module": "@jupyter-widgets/base",
          "model_name": "LayoutModel",
          "model_module_version": "1.2.0",
          "state": {
            "_view_name": "LayoutView",
            "grid_template_rows": null,
            "right": null,
            "justify_content": null,
            "_view_module": "@jupyter-widgets/base",
            "overflow": null,
            "_model_module_version": "1.2.0",
            "_view_count": null,
            "flex_flow": null,
            "width": null,
            "min_width": null,
            "border": null,
            "align_items": null,
            "bottom": null,
            "_model_module": "@jupyter-widgets/base",
            "top": null,
            "grid_column": null,
            "overflow_y": null,
            "overflow_x": null,
            "grid_auto_flow": null,
            "grid_area": null,
            "grid_template_columns": null,
            "flex": null,
            "_model_name": "LayoutModel",
            "justify_items": null,
            "grid_row": null,
            "max_height": null,
            "align_content": null,
            "visibility": null,
            "align_self": null,
            "height": null,
            "min_height": null,
            "padding": null,
            "grid_auto_rows": null,
            "grid_gap": null,
            "max_width": null,
            "order": null,
            "_view_module_version": "1.2.0",
            "grid_template_areas": null,
            "object_position": null,
            "object_fit": null,
            "grid_auto_columns": null,
            "margin": null,
            "display": null,
            "left": null
          }
        },
        "5b0fa44247ab4612829712a4b2cc584c": {
          "model_module": "@jupyter-widgets/controls",
          "model_name": "ProgressStyleModel",
          "model_module_version": "1.5.0",
          "state": {
            "_view_name": "StyleView",
            "_model_name": "ProgressStyleModel",
            "description_width": "",
            "_view_module": "@jupyter-widgets/base",
            "_model_module_version": "1.5.0",
            "_view_count": null,
            "_view_module_version": "1.2.0",
            "bar_color": null,
            "_model_module": "@jupyter-widgets/controls"
          }
        },
        "d1ff08a9fb8e41ada0f031da17e51505": {
          "model_module": "@jupyter-widgets/base",
          "model_name": "LayoutModel",
          "model_module_version": "1.2.0",
          "state": {
            "_view_name": "LayoutView",
            "grid_template_rows": null,
            "right": null,
            "justify_content": null,
            "_view_module": "@jupyter-widgets/base",
            "overflow": null,
            "_model_module_version": "1.2.0",
            "_view_count": null,
            "flex_flow": null,
            "width": null,
            "min_width": null,
            "border": null,
            "align_items": null,
            "bottom": null,
            "_model_module": "@jupyter-widgets/base",
            "top": null,
            "grid_column": null,
            "overflow_y": null,
            "overflow_x": null,
            "grid_auto_flow": null,
            "grid_area": null,
            "grid_template_columns": null,
            "flex": null,
            "_model_name": "LayoutModel",
            "justify_items": null,
            "grid_row": null,
            "max_height": null,
            "align_content": null,
            "visibility": null,
            "align_self": null,
            "height": null,
            "min_height": null,
            "padding": null,
            "grid_auto_rows": null,
            "grid_gap": null,
            "max_width": null,
            "order": null,
            "_view_module_version": "1.2.0",
            "grid_template_areas": null,
            "object_position": null,
            "object_fit": null,
            "grid_auto_columns": null,
            "margin": null,
            "display": null,
            "left": null
          }
        },
        "8e0d8f17724a43f99b19d61d4b79edea": {
          "model_module": "@jupyter-widgets/controls",
          "model_name": "DescriptionStyleModel",
          "model_module_version": "1.5.0",
          "state": {
            "_view_name": "StyleView",
            "_model_name": "DescriptionStyleModel",
            "description_width": "",
            "_view_module": "@jupyter-widgets/base",
            "_model_module_version": "1.5.0",
            "_view_count": null,
            "_view_module_version": "1.2.0",
            "_model_module": "@jupyter-widgets/controls"
          }
        },
        "678097b355dd4156aa3ed44fe3e09b4a": {
          "model_module": "@jupyter-widgets/base",
          "model_name": "LayoutModel",
          "model_module_version": "1.2.0",
          "state": {
            "_view_name": "LayoutView",
            "grid_template_rows": null,
            "right": null,
            "justify_content": null,
            "_view_module": "@jupyter-widgets/base",
            "overflow": null,
            "_model_module_version": "1.2.0",
            "_view_count": null,
            "flex_flow": null,
            "width": null,
            "min_width": null,
            "border": null,
            "align_items": null,
            "bottom": null,
            "_model_module": "@jupyter-widgets/base",
            "top": null,
            "grid_column": null,
            "overflow_y": null,
            "overflow_x": null,
            "grid_auto_flow": null,
            "grid_area": null,
            "grid_template_columns": null,
            "flex": null,
            "_model_name": "LayoutModel",
            "justify_items": null,
            "grid_row": null,
            "max_height": null,
            "align_content": null,
            "visibility": null,
            "align_self": null,
            "height": null,
            "min_height": null,
            "padding": null,
            "grid_auto_rows": null,
            "grid_gap": null,
            "max_width": null,
            "order": null,
            "_view_module_version": "1.2.0",
            "grid_template_areas": null,
            "object_position": null,
            "object_fit": null,
            "grid_auto_columns": null,
            "margin": null,
            "display": null,
            "left": null
          }
        },
        "9a298ebcb5194df4bb66416b645294ab": {
          "model_module": "@jupyter-widgets/controls",
          "model_name": "HBoxModel",
          "model_module_version": "1.5.0",
          "state": {
            "_view_name": "HBoxView",
            "_dom_classes": [],
            "_model_name": "HBoxModel",
            "_view_module": "@jupyter-widgets/controls",
            "_model_module_version": "1.5.0",
            "_view_count": null,
            "_view_module_version": "1.5.0",
            "box_style": "",
            "layout": "IPY_MODEL_fc55cd9218794c738ab8d4e181769985",
            "_model_module": "@jupyter-widgets/controls",
            "children": [
              "IPY_MODEL_20f69c51c14149f0a15f9e0b3f02867c",
              "IPY_MODEL_633d956d90a74239b19c2d87ed3ebf87",
              "IPY_MODEL_3206ed47a97640daa7430c3338fea877"
            ]
          }
        },
        "fc55cd9218794c738ab8d4e181769985": {
          "model_module": "@jupyter-widgets/base",
          "model_name": "LayoutModel",
          "model_module_version": "1.2.0",
          "state": {
            "_view_name": "LayoutView",
            "grid_template_rows": null,
            "right": null,
            "justify_content": null,
            "_view_module": "@jupyter-widgets/base",
            "overflow": null,
            "_model_module_version": "1.2.0",
            "_view_count": null,
            "flex_flow": null,
            "width": null,
            "min_width": null,
            "border": null,
            "align_items": null,
            "bottom": null,
            "_model_module": "@jupyter-widgets/base",
            "top": null,
            "grid_column": null,
            "overflow_y": null,
            "overflow_x": null,
            "grid_auto_flow": null,
            "grid_area": null,
            "grid_template_columns": null,
            "flex": null,
            "_model_name": "LayoutModel",
            "justify_items": null,
            "grid_row": null,
            "max_height": null,
            "align_content": null,
            "visibility": null,
            "align_self": null,
            "height": null,
            "min_height": null,
            "padding": null,
            "grid_auto_rows": null,
            "grid_gap": null,
            "max_width": null,
            "order": null,
            "_view_module_version": "1.2.0",
            "grid_template_areas": null,
            "object_position": null,
            "object_fit": null,
            "grid_auto_columns": null,
            "margin": null,
            "display": null,
            "left": null
          }
        },
        "20f69c51c14149f0a15f9e0b3f02867c": {
          "model_module": "@jupyter-widgets/controls",
          "model_name": "HTMLModel",
          "model_module_version": "1.5.0",
          "state": {
            "_view_name": "HTMLView",
            "style": "IPY_MODEL_47f14fc83ac248dda35ba02870f635a4",
            "_dom_classes": [],
            "description": "",
            "_model_name": "HTMLModel",
            "placeholder": "​",
            "_view_module": "@jupyter-widgets/controls",
            "_model_module_version": "1.5.0",
            "value": "Downloading: 100%",
            "_view_count": null,
            "_view_module_version": "1.5.0",
            "description_tooltip": null,
            "_model_module": "@jupyter-widgets/controls",
            "layout": "IPY_MODEL_b4c71279e0ce41719a971659de08db4f"
          }
        },
        "633d956d90a74239b19c2d87ed3ebf87": {
          "model_module": "@jupyter-widgets/controls",
          "model_name": "FloatProgressModel",
          "model_module_version": "1.5.0",
          "state": {
            "_view_name": "ProgressView",
            "style": "IPY_MODEL_dd2d220066ef4612b07c8d517947be4f",
            "_dom_classes": [],
            "description": "",
            "_model_name": "FloatProgressModel",
            "bar_style": "success",
            "max": 65,
            "_view_module": "@jupyter-widgets/controls",
            "_model_module_version": "1.5.0",
            "value": 65,
            "_view_count": null,
            "_view_module_version": "1.5.0",
            "orientation": "horizontal",
            "min": 0,
            "description_tooltip": null,
            "_model_module": "@jupyter-widgets/controls",
            "layout": "IPY_MODEL_993465b763624aec97f9e91e1023ab44"
          }
        },
        "3206ed47a97640daa7430c3338fea877": {
          "model_module": "@jupyter-widgets/controls",
          "model_name": "HTMLModel",
          "model_module_version": "1.5.0",
          "state": {
            "_view_name": "HTMLView",
            "style": "IPY_MODEL_64c9f17249314fd586c0a1594b8de740",
            "_dom_classes": [],
            "description": "",
            "_model_name": "HTMLModel",
            "placeholder": "​",
            "_view_module": "@jupyter-widgets/controls",
            "_model_module_version": "1.5.0",
            "value": " 65.0/65.0 [00:00&lt;00:00, 847B/s]",
            "_view_count": null,
            "_view_module_version": "1.5.0",
            "description_tooltip": null,
            "_model_module": "@jupyter-widgets/controls",
            "layout": "IPY_MODEL_0747fb12ed004362996f3582ea971e1e"
          }
        },
        "47f14fc83ac248dda35ba02870f635a4": {
          "model_module": "@jupyter-widgets/controls",
          "model_name": "DescriptionStyleModel",
          "model_module_version": "1.5.0",
          "state": {
            "_view_name": "StyleView",
            "_model_name": "DescriptionStyleModel",
            "description_width": "",
            "_view_module": "@jupyter-widgets/base",
            "_model_module_version": "1.5.0",
            "_view_count": null,
            "_view_module_version": "1.2.0",
            "_model_module": "@jupyter-widgets/controls"
          }
        },
        "b4c71279e0ce41719a971659de08db4f": {
          "model_module": "@jupyter-widgets/base",
          "model_name": "LayoutModel",
          "model_module_version": "1.2.0",
          "state": {
            "_view_name": "LayoutView",
            "grid_template_rows": null,
            "right": null,
            "justify_content": null,
            "_view_module": "@jupyter-widgets/base",
            "overflow": null,
            "_model_module_version": "1.2.0",
            "_view_count": null,
            "flex_flow": null,
            "width": null,
            "min_width": null,
            "border": null,
            "align_items": null,
            "bottom": null,
            "_model_module": "@jupyter-widgets/base",
            "top": null,
            "grid_column": null,
            "overflow_y": null,
            "overflow_x": null,
            "grid_auto_flow": null,
            "grid_area": null,
            "grid_template_columns": null,
            "flex": null,
            "_model_name": "LayoutModel",
            "justify_items": null,
            "grid_row": null,
            "max_height": null,
            "align_content": null,
            "visibility": null,
            "align_self": null,
            "height": null,
            "min_height": null,
            "padding": null,
            "grid_auto_rows": null,
            "grid_gap": null,
            "max_width": null,
            "order": null,
            "_view_module_version": "1.2.0",
            "grid_template_areas": null,
            "object_position": null,
            "object_fit": null,
            "grid_auto_columns": null,
            "margin": null,
            "display": null,
            "left": null
          }
        },
        "dd2d220066ef4612b07c8d517947be4f": {
          "model_module": "@jupyter-widgets/controls",
          "model_name": "ProgressStyleModel",
          "model_module_version": "1.5.0",
          "state": {
            "_view_name": "StyleView",
            "_model_name": "ProgressStyleModel",
            "description_width": "",
            "_view_module": "@jupyter-widgets/base",
            "_model_module_version": "1.5.0",
            "_view_count": null,
            "_view_module_version": "1.2.0",
            "bar_color": null,
            "_model_module": "@jupyter-widgets/controls"
          }
        },
        "993465b763624aec97f9e91e1023ab44": {
          "model_module": "@jupyter-widgets/base",
          "model_name": "LayoutModel",
          "model_module_version": "1.2.0",
          "state": {
            "_view_name": "LayoutView",
            "grid_template_rows": null,
            "right": null,
            "justify_content": null,
            "_view_module": "@jupyter-widgets/base",
            "overflow": null,
            "_model_module_version": "1.2.0",
            "_view_count": null,
            "flex_flow": null,
            "width": null,
            "min_width": null,
            "border": null,
            "align_items": null,
            "bottom": null,
            "_model_module": "@jupyter-widgets/base",
            "top": null,
            "grid_column": null,
            "overflow_y": null,
            "overflow_x": null,
            "grid_auto_flow": null,
            "grid_area": null,
            "grid_template_columns": null,
            "flex": null,
            "_model_name": "LayoutModel",
            "justify_items": null,
            "grid_row": null,
            "max_height": null,
            "align_content": null,
            "visibility": null,
            "align_self": null,
            "height": null,
            "min_height": null,
            "padding": null,
            "grid_auto_rows": null,
            "grid_gap": null,
            "max_width": null,
            "order": null,
            "_view_module_version": "1.2.0",
            "grid_template_areas": null,
            "object_position": null,
            "object_fit": null,
            "grid_auto_columns": null,
            "margin": null,
            "display": null,
            "left": null
          }
        },
        "64c9f17249314fd586c0a1594b8de740": {
          "model_module": "@jupyter-widgets/controls",
          "model_name": "DescriptionStyleModel",
          "model_module_version": "1.5.0",
          "state": {
            "_view_name": "StyleView",
            "_model_name": "DescriptionStyleModel",
            "description_width": "",
            "_view_module": "@jupyter-widgets/base",
            "_model_module_version": "1.5.0",
            "_view_count": null,
            "_view_module_version": "1.2.0",
            "_model_module": "@jupyter-widgets/controls"
          }
        },
        "0747fb12ed004362996f3582ea971e1e": {
          "model_module": "@jupyter-widgets/base",
          "model_name": "LayoutModel",
          "model_module_version": "1.2.0",
          "state": {
            "_view_name": "LayoutView",
            "grid_template_rows": null,
            "right": null,
            "justify_content": null,
            "_view_module": "@jupyter-widgets/base",
            "overflow": null,
            "_model_module_version": "1.2.0",
            "_view_count": null,
            "flex_flow": null,
            "width": null,
            "min_width": null,
            "border": null,
            "align_items": null,
            "bottom": null,
            "_model_module": "@jupyter-widgets/base",
            "top": null,
            "grid_column": null,
            "overflow_y": null,
            "overflow_x": null,
            "grid_auto_flow": null,
            "grid_area": null,
            "grid_template_columns": null,
            "flex": null,
            "_model_name": "LayoutModel",
            "justify_items": null,
            "grid_row": null,
            "max_height": null,
            "align_content": null,
            "visibility": null,
            "align_self": null,
            "height": null,
            "min_height": null,
            "padding": null,
            "grid_auto_rows": null,
            "grid_gap": null,
            "max_width": null,
            "order": null,
            "_view_module_version": "1.2.0",
            "grid_template_areas": null,
            "object_position": null,
            "object_fit": null,
            "grid_auto_columns": null,
            "margin": null,
            "display": null,
            "left": null
          }
        },
        "3847a16d697f4dba9d5d6965fb8f3a8f": {
          "model_module": "@jupyter-widgets/controls",
          "model_name": "HBoxModel",
          "model_module_version": "1.5.0",
          "state": {
            "_view_name": "HBoxView",
            "_dom_classes": [],
            "_model_name": "HBoxModel",
            "_view_module": "@jupyter-widgets/controls",
            "_model_module_version": "1.5.0",
            "_view_count": null,
            "_view_module_version": "1.5.0",
            "box_style": "",
            "layout": "IPY_MODEL_0047240f63414a7587944f01b718aff5",
            "_model_module": "@jupyter-widgets/controls",
            "children": [
              "IPY_MODEL_32ae2709354241e38a1dd03322884204",
              "IPY_MODEL_f63ee94dbfca4123bbc92e8443d46800",
              "IPY_MODEL_4cb7c8e64e674e9986ca8d5c38ef3f2f"
            ]
          }
        },
        "0047240f63414a7587944f01b718aff5": {
          "model_module": "@jupyter-widgets/base",
          "model_name": "LayoutModel",
          "model_module_version": "1.2.0",
          "state": {
            "_view_name": "LayoutView",
            "grid_template_rows": null,
            "right": null,
            "justify_content": null,
            "_view_module": "@jupyter-widgets/base",
            "overflow": null,
            "_model_module_version": "1.2.0",
            "_view_count": null,
            "flex_flow": null,
            "width": null,
            "min_width": null,
            "border": null,
            "align_items": null,
            "bottom": null,
            "_model_module": "@jupyter-widgets/base",
            "top": null,
            "grid_column": null,
            "overflow_y": null,
            "overflow_x": null,
            "grid_auto_flow": null,
            "grid_area": null,
            "grid_template_columns": null,
            "flex": null,
            "_model_name": "LayoutModel",
            "justify_items": null,
            "grid_row": null,
            "max_height": null,
            "align_content": null,
            "visibility": null,
            "align_self": null,
            "height": null,
            "min_height": null,
            "padding": null,
            "grid_auto_rows": null,
            "grid_gap": null,
            "max_width": null,
            "order": null,
            "_view_module_version": "1.2.0",
            "grid_template_areas": null,
            "object_position": null,
            "object_fit": null,
            "grid_auto_columns": null,
            "margin": null,
            "display": null,
            "left": null
          }
        },
        "32ae2709354241e38a1dd03322884204": {
          "model_module": "@jupyter-widgets/controls",
          "model_name": "HTMLModel",
          "model_module_version": "1.5.0",
          "state": {
            "_view_name": "HTMLView",
            "style": "IPY_MODEL_55282abd55f245219ebc43bc293fd2e6",
            "_dom_classes": [],
            "description": "",
            "_model_name": "HTMLModel",
            "placeholder": "​",
            "_view_module": "@jupyter-widgets/controls",
            "_model_module_version": "1.5.0",
            "value": "Downloading: 100%",
            "_view_count": null,
            "_view_module_version": "1.5.0",
            "description_tooltip": null,
            "_model_module": "@jupyter-widgets/controls",
            "layout": "IPY_MODEL_3338e71d1e0f4779a2659f43e4667ba7"
          }
        },
        "f63ee94dbfca4123bbc92e8443d46800": {
          "model_module": "@jupyter-widgets/controls",
          "model_name": "FloatProgressModel",
          "model_module_version": "1.5.0",
          "state": {
            "_view_name": "ProgressView",
            "style": "IPY_MODEL_d9976626d98e4032bc0f65eb495dbdae",
            "_dom_classes": [],
            "description": "",
            "_model_name": "FloatProgressModel",
            "bar_style": "success",
            "max": 315,
            "_view_module": "@jupyter-widgets/controls",
            "_model_module_version": "1.5.0",
            "value": 315,
            "_view_count": null,
            "_view_module_version": "1.5.0",
            "orientation": "horizontal",
            "min": 0,
            "description_tooltip": null,
            "_model_module": "@jupyter-widgets/controls",
            "layout": "IPY_MODEL_7f3f0e90e47e41fe84470499cdf3b11d"
          }
        },
        "4cb7c8e64e674e9986ca8d5c38ef3f2f": {
          "model_module": "@jupyter-widgets/controls",
          "model_name": "HTMLModel",
          "model_module_version": "1.5.0",
          "state": {
            "_view_name": "HTMLView",
            "style": "IPY_MODEL_d07e9c0bd5294ee98c91bc7b6e492fc0",
            "_dom_classes": [],
            "description": "",
            "_model_name": "HTMLModel",
            "placeholder": "​",
            "_view_module": "@jupyter-widgets/controls",
            "_model_module_version": "1.5.0",
            "value": " 315/315 [00:00&lt;00:00, 4.11kB/s]",
            "_view_count": null,
            "_view_module_version": "1.5.0",
            "description_tooltip": null,
            "_model_module": "@jupyter-widgets/controls",
            "layout": "IPY_MODEL_3da00ef92dab401cb7f4b37a3eb44c08"
          }
        },
        "55282abd55f245219ebc43bc293fd2e6": {
          "model_module": "@jupyter-widgets/controls",
          "model_name": "DescriptionStyleModel",
          "model_module_version": "1.5.0",
          "state": {
            "_view_name": "StyleView",
            "_model_name": "DescriptionStyleModel",
            "description_width": "",
            "_view_module": "@jupyter-widgets/base",
            "_model_module_version": "1.5.0",
            "_view_count": null,
            "_view_module_version": "1.2.0",
            "_model_module": "@jupyter-widgets/controls"
          }
        },
        "3338e71d1e0f4779a2659f43e4667ba7": {
          "model_module": "@jupyter-widgets/base",
          "model_name": "LayoutModel",
          "model_module_version": "1.2.0",
          "state": {
            "_view_name": "LayoutView",
            "grid_template_rows": null,
            "right": null,
            "justify_content": null,
            "_view_module": "@jupyter-widgets/base",
            "overflow": null,
            "_model_module_version": "1.2.0",
            "_view_count": null,
            "flex_flow": null,
            "width": null,
            "min_width": null,
            "border": null,
            "align_items": null,
            "bottom": null,
            "_model_module": "@jupyter-widgets/base",
            "top": null,
            "grid_column": null,
            "overflow_y": null,
            "overflow_x": null,
            "grid_auto_flow": null,
            "grid_area": null,
            "grid_template_columns": null,
            "flex": null,
            "_model_name": "LayoutModel",
            "justify_items": null,
            "grid_row": null,
            "max_height": null,
            "align_content": null,
            "visibility": null,
            "align_self": null,
            "height": null,
            "min_height": null,
            "padding": null,
            "grid_auto_rows": null,
            "grid_gap": null,
            "max_width": null,
            "order": null,
            "_view_module_version": "1.2.0",
            "grid_template_areas": null,
            "object_position": null,
            "object_fit": null,
            "grid_auto_columns": null,
            "margin": null,
            "display": null,
            "left": null
          }
        },
        "d9976626d98e4032bc0f65eb495dbdae": {
          "model_module": "@jupyter-widgets/controls",
          "model_name": "ProgressStyleModel",
          "model_module_version": "1.5.0",
          "state": {
            "_view_name": "StyleView",
            "_model_name": "ProgressStyleModel",
            "description_width": "",
            "_view_module": "@jupyter-widgets/base",
            "_model_module_version": "1.5.0",
            "_view_count": null,
            "_view_module_version": "1.2.0",
            "bar_color": null,
            "_model_module": "@jupyter-widgets/controls"
          }
        },
        "7f3f0e90e47e41fe84470499cdf3b11d": {
          "model_module": "@jupyter-widgets/base",
          "model_name": "LayoutModel",
          "model_module_version": "1.2.0",
          "state": {
            "_view_name": "LayoutView",
            "grid_template_rows": null,
            "right": null,
            "justify_content": null,
            "_view_module": "@jupyter-widgets/base",
            "overflow": null,
            "_model_module_version": "1.2.0",
            "_view_count": null,
            "flex_flow": null,
            "width": null,
            "min_width": null,
            "border": null,
            "align_items": null,
            "bottom": null,
            "_model_module": "@jupyter-widgets/base",
            "top": null,
            "grid_column": null,
            "overflow_y": null,
            "overflow_x": null,
            "grid_auto_flow": null,
            "grid_area": null,
            "grid_template_columns": null,
            "flex": null,
            "_model_name": "LayoutModel",
            "justify_items": null,
            "grid_row": null,
            "max_height": null,
            "align_content": null,
            "visibility": null,
            "align_self": null,
            "height": null,
            "min_height": null,
            "padding": null,
            "grid_auto_rows": null,
            "grid_gap": null,
            "max_width": null,
            "order": null,
            "_view_module_version": "1.2.0",
            "grid_template_areas": null,
            "object_position": null,
            "object_fit": null,
            "grid_auto_columns": null,
            "margin": null,
            "display": null,
            "left": null
          }
        },
        "d07e9c0bd5294ee98c91bc7b6e492fc0": {
          "model_module": "@jupyter-widgets/controls",
          "model_name": "DescriptionStyleModel",
          "model_module_version": "1.5.0",
          "state": {
            "_view_name": "StyleView",
            "_model_name": "DescriptionStyleModel",
            "description_width": "",
            "_view_module": "@jupyter-widgets/base",
            "_model_module_version": "1.5.0",
            "_view_count": null,
            "_view_module_version": "1.2.0",
            "_model_module": "@jupyter-widgets/controls"
          }
        },
        "3da00ef92dab401cb7f4b37a3eb44c08": {
          "model_module": "@jupyter-widgets/base",
          "model_name": "LayoutModel",
          "model_module_version": "1.2.0",
          "state": {
            "_view_name": "LayoutView",
            "grid_template_rows": null,
            "right": null,
            "justify_content": null,
            "_view_module": "@jupyter-widgets/base",
            "overflow": null,
            "_model_module_version": "1.2.0",
            "_view_count": null,
            "flex_flow": null,
            "width": null,
            "min_width": null,
            "border": null,
            "align_items": null,
            "bottom": null,
            "_model_module": "@jupyter-widgets/base",
            "top": null,
            "grid_column": null,
            "overflow_y": null,
            "overflow_x": null,
            "grid_auto_flow": null,
            "grid_area": null,
            "grid_template_columns": null,
            "flex": null,
            "_model_name": "LayoutModel",
            "justify_items": null,
            "grid_row": null,
            "max_height": null,
            "align_content": null,
            "visibility": null,
            "align_self": null,
            "height": null,
            "min_height": null,
            "padding": null,
            "grid_auto_rows": null,
            "grid_gap": null,
            "max_width": null,
            "order": null,
            "_view_module_version": "1.2.0",
            "grid_template_areas": null,
            "object_position": null,
            "object_fit": null,
            "grid_auto_columns": null,
            "margin": null,
            "display": null,
            "left": null
          }
        }
      }
    }
  },
  "cells": [
    {
      "cell_type": "code",
      "metadata": {
        "id": "CLtQ8B7wzcQ-",
        "outputId": "7e096001-79ba-4b34-d6cb-ad87b7d8e479",
        "colab": {
          "base_uri": "https://localhost:8080/"
        }
      },
      "source": [
        "!pip install sentencepiece transformers"
      ],
      "execution_count": 1,
      "outputs": [
        {
          "output_type": "stream",
          "name": "stdout",
          "text": [
            "Collecting sentencepiece\n",
            "  Downloading sentencepiece-0.1.96-cp37-cp37m-manylinux_2_17_x86_64.manylinux2014_x86_64.whl (1.2 MB)\n",
            "\u001b[?25l\r\u001b[K     |▎                               | 10 kB 20.9 MB/s eta 0:00:01\r\u001b[K     |▌                               | 20 kB 27.9 MB/s eta 0:00:01\r\u001b[K     |▉                               | 30 kB 33.4 MB/s eta 0:00:01\r\u001b[K     |█                               | 40 kB 32.6 MB/s eta 0:00:01\r\u001b[K     |█▍                              | 51 kB 34.1 MB/s eta 0:00:01\r\u001b[K     |█▋                              | 61 kB 35.0 MB/s eta 0:00:01\r\u001b[K     |██                              | 71 kB 34.1 MB/s eta 0:00:01\r\u001b[K     |██▏                             | 81 kB 34.1 MB/s eta 0:00:01\r\u001b[K     |██▍                             | 92 kB 34.8 MB/s eta 0:00:01\r\u001b[K     |██▊                             | 102 kB 35.8 MB/s eta 0:00:01\r\u001b[K     |███                             | 112 kB 35.8 MB/s eta 0:00:01\r\u001b[K     |███▎                            | 122 kB 35.8 MB/s eta 0:00:01\r\u001b[K     |███▌                            | 133 kB 35.8 MB/s eta 0:00:01\r\u001b[K     |███▉                            | 143 kB 35.8 MB/s eta 0:00:01\r\u001b[K     |████                            | 153 kB 35.8 MB/s eta 0:00:01\r\u001b[K     |████▎                           | 163 kB 35.8 MB/s eta 0:00:01\r\u001b[K     |████▋                           | 174 kB 35.8 MB/s eta 0:00:01\r\u001b[K     |████▉                           | 184 kB 35.8 MB/s eta 0:00:01\r\u001b[K     |█████▏                          | 194 kB 35.8 MB/s eta 0:00:01\r\u001b[K     |█████▍                          | 204 kB 35.8 MB/s eta 0:00:01\r\u001b[K     |█████▊                          | 215 kB 35.8 MB/s eta 0:00:01\r\u001b[K     |██████                          | 225 kB 35.8 MB/s eta 0:00:01\r\u001b[K     |██████▏                         | 235 kB 35.8 MB/s eta 0:00:01\r\u001b[K     |██████▌                         | 245 kB 35.8 MB/s eta 0:00:01\r\u001b[K     |██████▊                         | 256 kB 35.8 MB/s eta 0:00:01\r\u001b[K     |███████                         | 266 kB 35.8 MB/s eta 0:00:01\r\u001b[K     |███████▎                        | 276 kB 35.8 MB/s eta 0:00:01\r\u001b[K     |███████▋                        | 286 kB 35.8 MB/s eta 0:00:01\r\u001b[K     |███████▉                        | 296 kB 35.8 MB/s eta 0:00:01\r\u001b[K     |████████                        | 307 kB 35.8 MB/s eta 0:00:01\r\u001b[K     |████████▍                       | 317 kB 35.8 MB/s eta 0:00:01\r\u001b[K     |████████▋                       | 327 kB 35.8 MB/s eta 0:00:01\r\u001b[K     |█████████                       | 337 kB 35.8 MB/s eta 0:00:01\r\u001b[K     |█████████▏                      | 348 kB 35.8 MB/s eta 0:00:01\r\u001b[K     |█████████▌                      | 358 kB 35.8 MB/s eta 0:00:01\r\u001b[K     |█████████▊                      | 368 kB 35.8 MB/s eta 0:00:01\r\u001b[K     |██████████                      | 378 kB 35.8 MB/s eta 0:00:01\r\u001b[K     |██████████▎                     | 389 kB 35.8 MB/s eta 0:00:01\r\u001b[K     |██████████▌                     | 399 kB 35.8 MB/s eta 0:00:01\r\u001b[K     |██████████▉                     | 409 kB 35.8 MB/s eta 0:00:01\r\u001b[K     |███████████                     | 419 kB 35.8 MB/s eta 0:00:01\r\u001b[K     |███████████▍                    | 430 kB 35.8 MB/s eta 0:00:01\r\u001b[K     |███████████▋                    | 440 kB 35.8 MB/s eta 0:00:01\r\u001b[K     |███████████▉                    | 450 kB 35.8 MB/s eta 0:00:01\r\u001b[K     |████████████▏                   | 460 kB 35.8 MB/s eta 0:00:01\r\u001b[K     |████████████▍                   | 471 kB 35.8 MB/s eta 0:00:01\r\u001b[K     |████████████▊                   | 481 kB 35.8 MB/s eta 0:00:01\r\u001b[K     |█████████████                   | 491 kB 35.8 MB/s eta 0:00:01\r\u001b[K     |█████████████▎                  | 501 kB 35.8 MB/s eta 0:00:01\r\u001b[K     |█████████████▌                  | 512 kB 35.8 MB/s eta 0:00:01\r\u001b[K     |█████████████▊                  | 522 kB 35.8 MB/s eta 0:00:01\r\u001b[K     |██████████████                  | 532 kB 35.8 MB/s eta 0:00:01\r\u001b[K     |██████████████▎                 | 542 kB 35.8 MB/s eta 0:00:01\r\u001b[K     |██████████████▋                 | 552 kB 35.8 MB/s eta 0:00:01\r\u001b[K     |██████████████▉                 | 563 kB 35.8 MB/s eta 0:00:01\r\u001b[K     |███████████████▏                | 573 kB 35.8 MB/s eta 0:00:01\r\u001b[K     |███████████████▍                | 583 kB 35.8 MB/s eta 0:00:01\r\u001b[K     |███████████████▋                | 593 kB 35.8 MB/s eta 0:00:01\r\u001b[K     |████████████████                | 604 kB 35.8 MB/s eta 0:00:01\r\u001b[K     |████████████████▏               | 614 kB 35.8 MB/s eta 0:00:01\r\u001b[K     |████████████████▌               | 624 kB 35.8 MB/s eta 0:00:01\r\u001b[K     |████████████████▊               | 634 kB 35.8 MB/s eta 0:00:01\r\u001b[K     |█████████████████               | 645 kB 35.8 MB/s eta 0:00:01\r\u001b[K     |█████████████████▎              | 655 kB 35.8 MB/s eta 0:00:01\r\u001b[K     |█████████████████▌              | 665 kB 35.8 MB/s eta 0:00:01\r\u001b[K     |█████████████████▉              | 675 kB 35.8 MB/s eta 0:00:01\r\u001b[K     |██████████████████              | 686 kB 35.8 MB/s eta 0:00:01\r\u001b[K     |██████████████████▍             | 696 kB 35.8 MB/s eta 0:00:01\r\u001b[K     |██████████████████▋             | 706 kB 35.8 MB/s eta 0:00:01\r\u001b[K     |███████████████████             | 716 kB 35.8 MB/s eta 0:00:01\r\u001b[K     |███████████████████▏            | 727 kB 35.8 MB/s eta 0:00:01\r\u001b[K     |███████████████████▍            | 737 kB 35.8 MB/s eta 0:00:01\r\u001b[K     |███████████████████▊            | 747 kB 35.8 MB/s eta 0:00:01\r\u001b[K     |████████████████████            | 757 kB 35.8 MB/s eta 0:00:01\r\u001b[K     |████████████████████▎           | 768 kB 35.8 MB/s eta 0:00:01\r\u001b[K     |████████████████████▌           | 778 kB 35.8 MB/s eta 0:00:01\r\u001b[K     |████████████████████▉           | 788 kB 35.8 MB/s eta 0:00:01\r\u001b[K     |█████████████████████           | 798 kB 35.8 MB/s eta 0:00:01\r\u001b[K     |█████████████████████▎          | 808 kB 35.8 MB/s eta 0:00:01\r\u001b[K     |█████████████████████▋          | 819 kB 35.8 MB/s eta 0:00:01\r\u001b[K     |█████████████████████▉          | 829 kB 35.8 MB/s eta 0:00:01\r\u001b[K     |██████████████████████▏         | 839 kB 35.8 MB/s eta 0:00:01\r\u001b[K     |██████████████████████▍         | 849 kB 35.8 MB/s eta 0:00:01\r\u001b[K     |██████████████████████▊         | 860 kB 35.8 MB/s eta 0:00:01\r\u001b[K     |███████████████████████         | 870 kB 35.8 MB/s eta 0:00:01\r\u001b[K     |███████████████████████▏        | 880 kB 35.8 MB/s eta 0:00:01\r\u001b[K     |███████████████████████▌        | 890 kB 35.8 MB/s eta 0:00:01\r\u001b[K     |███████████████████████▊        | 901 kB 35.8 MB/s eta 0:00:01\r\u001b[K     |████████████████████████        | 911 kB 35.8 MB/s eta 0:00:01\r\u001b[K     |████████████████████████▎       | 921 kB 35.8 MB/s eta 0:00:01\r\u001b[K     |████████████████████████▋       | 931 kB 35.8 MB/s eta 0:00:01\r\u001b[K     |████████████████████████▉       | 942 kB 35.8 MB/s eta 0:00:01\r\u001b[K     |█████████████████████████       | 952 kB 35.8 MB/s eta 0:00:01\r\u001b[K     |█████████████████████████▍      | 962 kB 35.8 MB/s eta 0:00:01\r\u001b[K     |█████████████████████████▋      | 972 kB 35.8 MB/s eta 0:00:01\r\u001b[K     |██████████████████████████      | 983 kB 35.8 MB/s eta 0:00:01\r\u001b[K     |██████████████████████████▏     | 993 kB 35.8 MB/s eta 0:00:01\r\u001b[K     |██████████████████████████▌     | 1.0 MB 35.8 MB/s eta 0:00:01\r\u001b[K     |██████████████████████████▊     | 1.0 MB 35.8 MB/s eta 0:00:01\r\u001b[K     |███████████████████████████     | 1.0 MB 35.8 MB/s eta 0:00:01\r\u001b[K     |███████████████████████████▎    | 1.0 MB 35.8 MB/s eta 0:00:01\r\u001b[K     |███████████████████████████▌    | 1.0 MB 35.8 MB/s eta 0:00:01\r\u001b[K     |███████████████████████████▉    | 1.1 MB 35.8 MB/s eta 0:00:01\r\u001b[K     |████████████████████████████    | 1.1 MB 35.8 MB/s eta 0:00:01\r\u001b[K     |████████████████████████████▍   | 1.1 MB 35.8 MB/s eta 0:00:01\r\u001b[K     |████████████████████████████▋   | 1.1 MB 35.8 MB/s eta 0:00:01\r\u001b[K     |████████████████████████████▉   | 1.1 MB 35.8 MB/s eta 0:00:01\r\u001b[K     |█████████████████████████████▏  | 1.1 MB 35.8 MB/s eta 0:00:01\r\u001b[K     |█████████████████████████████▍  | 1.1 MB 35.8 MB/s eta 0:00:01\r\u001b[K     |█████████████████████████████▊  | 1.1 MB 35.8 MB/s eta 0:00:01\r\u001b[K     |██████████████████████████████  | 1.1 MB 35.8 MB/s eta 0:00:01\r\u001b[K     |██████████████████████████████▎ | 1.1 MB 35.8 MB/s eta 0:00:01\r\u001b[K     |██████████████████████████████▌ | 1.2 MB 35.8 MB/s eta 0:00:01\r\u001b[K     |██████████████████████████████▊ | 1.2 MB 35.8 MB/s eta 0:00:01\r\u001b[K     |███████████████████████████████ | 1.2 MB 35.8 MB/s eta 0:00:01\r\u001b[K     |███████████████████████████████▎| 1.2 MB 35.8 MB/s eta 0:00:01\r\u001b[K     |███████████████████████████████▋| 1.2 MB 35.8 MB/s eta 0:00:01\r\u001b[K     |███████████████████████████████▉| 1.2 MB 35.8 MB/s eta 0:00:01\r\u001b[K     |████████████████████████████████| 1.2 MB 35.8 MB/s \n",
            "\u001b[?25hCollecting transformers\n",
            "  Downloading transformers-4.12.3-py3-none-any.whl (3.1 MB)\n",
            "\u001b[K     |████████████████████████████████| 3.1 MB 33.0 MB/s \n",
            "\u001b[?25hRequirement already satisfied: requests in /usr/local/lib/python3.7/dist-packages (from transformers) (2.23.0)\n",
            "Requirement already satisfied: filelock in /usr/local/lib/python3.7/dist-packages (from transformers) (3.3.0)\n",
            "Collecting pyyaml>=5.1\n",
            "  Downloading PyYAML-6.0-cp37-cp37m-manylinux_2_5_x86_64.manylinux1_x86_64.manylinux_2_12_x86_64.manylinux2010_x86_64.whl (596 kB)\n",
            "\u001b[K     |████████████████████████████████| 596 kB 28.7 MB/s \n",
            "\u001b[?25hCollecting tokenizers<0.11,>=0.10.1\n",
            "  Downloading tokenizers-0.10.3-cp37-cp37m-manylinux_2_5_x86_64.manylinux1_x86_64.manylinux_2_12_x86_64.manylinux2010_x86_64.whl (3.3 MB)\n",
            "\u001b[K     |████████████████████████████████| 3.3 MB 39.8 MB/s \n",
            "\u001b[?25hRequirement already satisfied: numpy>=1.17 in /usr/local/lib/python3.7/dist-packages (from transformers) (1.19.5)\n",
            "Requirement already satisfied: tqdm>=4.27 in /usr/local/lib/python3.7/dist-packages (from transformers) (4.62.3)\n",
            "Collecting sacremoses\n",
            "  Downloading sacremoses-0.0.46-py3-none-any.whl (895 kB)\n",
            "\u001b[K     |████████████████████████████████| 895 kB 58.9 MB/s \n",
            "\u001b[?25hRequirement already satisfied: importlib-metadata in /usr/local/lib/python3.7/dist-packages (from transformers) (4.8.1)\n",
            "Requirement already satisfied: packaging>=20.0 in /usr/local/lib/python3.7/dist-packages (from transformers) (21.0)\n",
            "Collecting huggingface-hub<1.0,>=0.1.0\n",
            "  Downloading huggingface_hub-0.1.0-py3-none-any.whl (59 kB)\n",
            "\u001b[K     |████████████████████████████████| 59 kB 7.8 MB/s \n",
            "\u001b[?25hRequirement already satisfied: regex!=2019.12.17 in /usr/local/lib/python3.7/dist-packages (from transformers) (2019.12.20)\n",
            "Requirement already satisfied: typing-extensions in /usr/local/lib/python3.7/dist-packages (from huggingface-hub<1.0,>=0.1.0->transformers) (3.7.4.3)\n",
            "Requirement already satisfied: pyparsing>=2.0.2 in /usr/local/lib/python3.7/dist-packages (from packaging>=20.0->transformers) (2.4.7)\n",
            "Requirement already satisfied: zipp>=0.5 in /usr/local/lib/python3.7/dist-packages (from importlib-metadata->transformers) (3.6.0)\n",
            "Requirement already satisfied: chardet<4,>=3.0.2 in /usr/local/lib/python3.7/dist-packages (from requests->transformers) (3.0.4)\n",
            "Requirement already satisfied: idna<3,>=2.5 in /usr/local/lib/python3.7/dist-packages (from requests->transformers) (2.10)\n",
            "Requirement already satisfied: certifi>=2017.4.17 in /usr/local/lib/python3.7/dist-packages (from requests->transformers) (2021.5.30)\n",
            "Requirement already satisfied: urllib3!=1.25.0,!=1.25.1,<1.26,>=1.21.1 in /usr/local/lib/python3.7/dist-packages (from requests->transformers) (1.24.3)\n",
            "Requirement already satisfied: joblib in /usr/local/lib/python3.7/dist-packages (from sacremoses->transformers) (1.0.1)\n",
            "Requirement already satisfied: click in /usr/local/lib/python3.7/dist-packages (from sacremoses->transformers) (7.1.2)\n",
            "Requirement already satisfied: six in /usr/local/lib/python3.7/dist-packages (from sacremoses->transformers) (1.15.0)\n",
            "Installing collected packages: pyyaml, tokenizers, sacremoses, huggingface-hub, transformers, sentencepiece\n",
            "  Attempting uninstall: pyyaml\n",
            "    Found existing installation: PyYAML 3.13\n",
            "    Uninstalling PyYAML-3.13:\n",
            "      Successfully uninstalled PyYAML-3.13\n",
            "Successfully installed huggingface-hub-0.1.0 pyyaml-6.0 sacremoses-0.0.46 sentencepiece-0.1.96 tokenizers-0.10.3 transformers-4.12.3\n"
          ]
        }
      ]
    },
    {
      "cell_type": "code",
      "metadata": {
        "id": "8YgQ9sIdzrBU"
      },
      "source": [
        "from transformers import T5ForConditionalGeneration, T5Tokenizer\n",
        "import torch"
      ],
      "execution_count": 2,
      "outputs": []
    },
    {
      "cell_type": "code",
      "metadata": {
        "colab": {
          "base_uri": "https://localhost:8080/",
          "height": 177,
          "referenced_widgets": [
            "15a79f6a655849b0834250fed0a98754",
            "ca112f68f7714e26be30b87f571ce238",
            "a9115b36c557465dbf227711d216e468",
            "01b95a6481dc436bb1d7e4d0030a3b79",
            "080f7a50a79047a88fd3d0a9c150bf8d",
            "531a1a419af043c3a40f67b78b45493c",
            "75352df1768e4d518e7f074314b41e3e",
            "b9bcc2de06a84fb0839038eab25c8ed8",
            "84ec5941b2bd4845b9c8a874eeb377d2",
            "6168413d8cbf4aad808d8dcd0e19418c",
            "b0ae69faa24d4892a79e341f96e2ee2c",
            "1b0457e21ec743199759487c054d3a24",
            "3f0c98efd6604bf0a373b9b4e4f9990b",
            "c882db8d1db741878912749fa2b1d27a",
            "3064f995fe1a4cbbbabb872e2bfa564d",
            "96d8faa973424e6a97e8254de274962c",
            "1b53b2395d2d4dab809fda37930e3b31",
            "b20352ccc69743cc81be407cc67ea975",
            "52fa591c936744c1b6cd80455f241664",
            "5a229200c7d245f5a5b0997bbdead1eb",
            "fd766187eb2740be9348f3ff3f2b422a",
            "fb223a8ceeb5464bb64559e8c041a63c",
            "47fa63a6cada48eea1435d07740a8c29",
            "4642ba421e2848dfbf540ab8d8ddf999",
            "925b2832b4bd463e9c71c58d920712eb",
            "fced60a02dea40ffb24c01c27e2b5f4e",
            "9346b312d16548f5937e3ce3415c16fa",
            "c938514a8b664f44a3e35984bbd8ac22",
            "09cd879dd5b94af8a371126ae1ab2af5",
            "5b0fa44247ab4612829712a4b2cc584c",
            "d1ff08a9fb8e41ada0f031da17e51505",
            "8e0d8f17724a43f99b19d61d4b79edea",
            "678097b355dd4156aa3ed44fe3e09b4a",
            "9a298ebcb5194df4bb66416b645294ab",
            "fc55cd9218794c738ab8d4e181769985",
            "20f69c51c14149f0a15f9e0b3f02867c",
            "633d956d90a74239b19c2d87ed3ebf87",
            "3206ed47a97640daa7430c3338fea877",
            "47f14fc83ac248dda35ba02870f635a4",
            "b4c71279e0ce41719a971659de08db4f",
            "dd2d220066ef4612b07c8d517947be4f",
            "993465b763624aec97f9e91e1023ab44",
            "64c9f17249314fd586c0a1594b8de740",
            "0747fb12ed004362996f3582ea971e1e",
            "3847a16d697f4dba9d5d6965fb8f3a8f",
            "0047240f63414a7587944f01b718aff5",
            "32ae2709354241e38a1dd03322884204",
            "f63ee94dbfca4123bbc92e8443d46800",
            "4cb7c8e64e674e9986ca8d5c38ef3f2f",
            "55282abd55f245219ebc43bc293fd2e6",
            "3338e71d1e0f4779a2659f43e4667ba7",
            "d9976626d98e4032bc0f65eb495dbdae",
            "7f3f0e90e47e41fe84470499cdf3b11d",
            "d07e9c0bd5294ee98c91bc7b6e492fc0",
            "3da00ef92dab401cb7f4b37a3eb44c08"
          ]
        },
        "id": "7o_Po4--znpY",
        "outputId": "41822f7a-fe3c-4ce1-8fdf-7cc53eb6db8c"
      },
      "source": [
        "MODEL_NAME = 'cointegrated/rut5-base-paraphraser'\n",
        "model = T5ForConditionalGeneration.from_pretrained(MODEL_NAME)\n",
        "tokenizer = T5Tokenizer.from_pretrained(MODEL_NAME)\n",
        "if torch.cuda.is_available():\n",
        "    model.cuda();"
      ],
      "execution_count": 3,
      "outputs": [
        {
          "output_type": "display_data",
          "data": {
            "application/vnd.jupyter.widget-view+json": {
              "model_id": "15a79f6a655849b0834250fed0a98754",
              "version_minor": 0,
              "version_major": 2
            },
            "text/plain": [
              "Downloading:   0%|          | 0.00/724 [00:00<?, ?B/s]"
            ]
          },
          "metadata": {}
        },
        {
          "output_type": "display_data",
          "data": {
            "application/vnd.jupyter.widget-view+json": {
              "model_id": "1b0457e21ec743199759487c054d3a24",
              "version_minor": 0,
              "version_major": 2
            },
            "text/plain": [
              "Downloading:   0%|          | 0.00/932M [00:00<?, ?B/s]"
            ]
          },
          "metadata": {}
        },
        {
          "output_type": "display_data",
          "data": {
            "application/vnd.jupyter.widget-view+json": {
              "model_id": "47fa63a6cada48eea1435d07740a8c29",
              "version_minor": 0,
              "version_major": 2
            },
            "text/plain": [
              "Downloading:   0%|          | 0.00/808k [00:00<?, ?B/s]"
            ]
          },
          "metadata": {}
        },
        {
          "output_type": "display_data",
          "data": {
            "application/vnd.jupyter.widget-view+json": {
              "model_id": "9a298ebcb5194df4bb66416b645294ab",
              "version_minor": 0,
              "version_major": 2
            },
            "text/plain": [
              "Downloading:   0%|          | 0.00/65.0 [00:00<?, ?B/s]"
            ]
          },
          "metadata": {}
        },
        {
          "output_type": "display_data",
          "data": {
            "application/vnd.jupyter.widget-view+json": {
              "model_id": "3847a16d697f4dba9d5d6965fb8f3a8f",
              "version_minor": 0,
              "version_major": 2
            },
            "text/plain": [
              "Downloading:   0%|          | 0.00/315 [00:00<?, ?B/s]"
            ]
          },
          "metadata": {}
        }
      ]
    },
    {
      "cell_type": "code",
      "metadata": {
        "id": "C3sUL7adzzyV"
      },
      "source": [
        "model.eval();\n",
        "\n",
        "def paraphrase_base(text, beams=5, grams=3, do_sample=False):\n",
        "    x = tokenizer(text, return_tensors='pt', padding=True).to(model.device)\n",
        "    max_size = int(x.input_ids.shape[1] * 1.5 + 10)\n",
        "    out = model.generate(**x, encoder_no_repeat_ngram_size=grams, do_sample=do_sample, num_beams=beams, max_length=max_size, no_repeat_ngram_size=4,)\n",
        "    return tokenizer.decode(out[0], skip_special_tokens=True)"
      ],
      "execution_count": 5,
      "outputs": []
    },
    {
      "cell_type": "markdown",
      "metadata": {
        "id": "Y6R3evCr0ICs"
      },
      "source": [
        "Чтобы перефразировать текст, просто выполните ячейку ниже"
      ]
    },
    {
      "cell_type": "code",
      "metadata": {
        "colab": {
          "base_uri": "https://localhost:8080/",
          "height": 36
        },
        "id": "brm4AYfVzRkn",
        "outputId": "42793ee1-ed11-41ef-b247-b9bdc2b0ed98"
      },
      "source": [
        "#@title Парафразер { run: \"auto\", form-width: \"50%\", display-mode: \"form\" }\n",
        "text = '\\u0417\\u0434\\u0440\\u0430\\u0432\\u0441\\u0442\\u0432\\u0443\\u0439\\u0442\\u0435, \\u043A\\u0442\\u043E \\u0437\\u043D\\u0430\\u0435\\u0442, \\u0447\\u0442\\u043E \\u0437\\u0430 \\u0431\\u043E\\u043B\\u0435\\u0437\\u043D\\u044C, \\u043A\\u043E\\u0433\\u0434\\u0430 \\u0443 \\u043A\\u043E\\u0440\\u043E\\u0432 \\u0432 \\u0434\\u043E\\u0439\\u043A\\u0430\\u0445 \\u0448\\u0438\\u0448\\u043A\\u0438? \\u041F\\u043E\\u0434\\u0441\\u043A\\u0430\\u0436\\u0438\\u0442\\u0435 \\u043A\\u0430\\u043A \\u043C\\u043E\\u0436\\u043D\\u043E \\u0432\\u044B\\u043B\\u0435\\u0447\\u0438\\u0442\\u044C. \\u0417\\u0430\\u0440\\u0430\\u043D\\u0435\\u0435 \\u0432\\u0441\\u0435\\u043C \\u0441\\u043F\\u0430\\u0441\\u0438\\u0431\\u043E!' #@param {type:\"string\"}\n",
        "beams = 5 #@param {type:\"slider\", min:1, max:10, step:1}\n",
        "grams = 6 #@param {type:\"slider\", min:1, max:10, step:1}\n",
        "randomize = False #@param {type:\"boolean\"}\n",
        "\n",
        "paraphrase_base(text, beams=beams, grams=grams, do_sample=randomize)"
      ],
      "execution_count": 16,
      "outputs": [
        {
          "output_type": "execute_result",
          "data": {
            "application/vnd.google.colaboratory.intrinsic+json": {
              "type": "string"
            },
            "text/plain": [
              "'Добрый день, кто знает что такое болезнь, когда шишки в дойках у коров? Подскажите как лечить. Спасибо всем заранее!'"
            ]
          },
          "metadata": {},
          "execution_count": 16
        }
      ]
    },
    {
      "cell_type": "code",
      "metadata": {
        "id": "d2nfHMzc0Gmy"
      },
      "source": [
        "import pandas as pd\n",
        "df = pd.read_csv('train.csv',sep=';')"
      ],
      "execution_count": 18,
      "outputs": []
    },
    {
      "cell_type": "code",
      "metadata": {
        "id": "eTbkKC2lNJ3O",
        "outputId": "60c13271-f911-4aa6-d287-7b30272b3a42",
        "colab": {
          "base_uri": "https://localhost:8080/"
        }
      },
      "source": [
        "from tqdm import tqdm\n",
        "\n",
        "for _,row in tqdm(df.iterrows()):\n",
        "  temp = row.copy()\n",
        "  new_text = paraphrase_base(temp.text,beams=beams,grams=grams,do_sample=randomize)\n",
        "  temp.text = new_text\n",
        "  print(new_text)\n",
        "  df = df.append(temp)"
      ],
      "execution_count": 33,
      "outputs": [
        {
          "output_type": "stream",
          "name": "stderr",
          "text": [
            "1it [00:24, 24.50s/it]"
          ]
        },
        {
          "output_type": "stream",
          "name": "stdout",
          "text": [
            "Корова, видимо, вставила, раздавила сосок. Развернула все в хлам, с сосковым каналом, доктор отказался что-то делать, мыл и уехала. Если корова в запуске, сосок бы зарос, да может быть и хорошо (и три сисии живут нормально), но все сложилось, что сегодня-завтра ей тело и теперь молоко постоянно бежит из середины соска, чего не знаю, хотя садись около нее и плачь, может кто подскажет выхода.\n"
          ]
        },
        {
          "output_type": "stream",
          "name": "stderr",
          "text": [
            "\r2it [00:41, 20.37s/it]"
          ]
        },
        {
          "output_type": "stream",
          "name": "stdout",
          "text": [
            "Корова 8 лет, месяц назад между четвертями вымени появилась бугорка, за несколько дней начала наполняться житкостью, похожей на гной, когда они лопаются, за два дня появляется корка, и ещё хуже, теперь я не знаю что делать, как лечить и как называется это балачка! Помогите пожалуйста, может кто такой?\n"
          ]
        },
        {
          "output_type": "stream",
          "name": "stderr",
          "text": [
            "\r3it [01:24, 30.36s/it]"
          ]
        },
        {
          "output_type": "stream",
          "name": "stdout",
          "text": [
            "Что же делать, если корова слаба, и молоко вытекает из нее сама. Помогите советом Купил корову, была 2 отеля, третья должна быть февраля. Еще доится. Утром, вечером по 2-3 литра. Иногда я вижу лужи на месте, на котором лежит молоко, которое не трогает. Понятно, что они слабы. Бывшая хозяина говорила, что когда возвращается с поля, молоко уже не вытекает сама. Но вот летом, полный вымен, на сочном корме. Сейчас не такая ситуация. В интернете все написано - применить коллодию. Но уже не выпускается лет 15!! Может знает кто иные недорогие средства, нашла импортные барьеры — цена 5000 рублей, дорого. Массаж сделал.\n"
          ]
        },
        {
          "output_type": "stream",
          "name": "stderr",
          "text": [
            "\r4it [01:33, 21.95s/it]"
          ]
        },
        {
          "output_type": "stream",
          "name": "stdout",
          "text": [
            "Нетель болит на вымени Здравствуйте, Нетель на поздних сроках. Нашла, что все вымычки покрылись маленькими болями. Вымычка массируется - стоит спокойно. На фото коричневые точки, что это? Помогите пожалуйста.\n"
          ]
        },
        {
          "output_type": "stream",
          "name": "stderr",
          "text": [
            "\r5it [01:41, 16.85s/it]"
          ]
        },
        {
          "output_type": "stream",
          "name": "stdout",
          "text": [
            "У меня первотелка на днях, у нее левый передний ящик как будто пуст, остальные три бухли и дольки тоже, скажите что делать, а до отела не стоит волноваться?\n"
          ]
        },
        {
          "output_type": "stream",
          "name": "stderr",
          "text": [
            "\r6it [01:52, 14.96s/it]"
          ]
        },
        {
          "output_type": "stream",
          "name": "stdout",
          "text": [
            "Чем пропить телёнку от поноса? Скажите пожалуйста, тёлочка 2 недели, отпаивается молоком коровья + козья, 2 л за раз, 3 л в день, слабый понос, ходит жидко, но нечасто.\n"
          ]
        },
        {
          "output_type": "stream",
          "name": "stderr",
          "text": [
            "\r7it [02:01, 13.14s/it]"
          ]
        },
        {
          "output_type": "stream",
          "name": "stdout",
          "text": [
            "У лейкозных коров язвы на сосках, что такое? Корова в стаде летнего лагеря с другим лейкозным коровам... Как лечить? Можно прижечь йод 5 %, асд-3 внутренний прием, а еще...?\n"
          ]
        },
        {
          "output_type": "stream",
          "name": "stderr",
          "text": [
            "\r8it [02:10, 11.78s/it]"
          ]
        },
        {
          "output_type": "stream",
          "name": "stdout",
          "text": [
            "Добрый день, у меня проблема, Бык-1,2 вдруг начал трястись, изредка трясется. Плохо стал есть, пить, ел тоже что и другие. Что с ним может быть? И чем его лечить?\n"
          ]
        },
        {
          "output_type": "stream",
          "name": "stderr",
          "text": [
            "\r9it [02:14,  9.33s/it]"
          ]
        },
        {
          "output_type": "stream",
          "name": "stdout",
          "text": [
            "Мне нужны советы по лечению язв у коровы. Появилось несколько дней назад, как лечить?\n"
          ]
        },
        {
          "output_type": "stream",
          "name": "stderr",
          "text": [
            "\r10it [02:19,  7.94s/it]"
          ]
        },
        {
          "output_type": "stream",
          "name": "stdout",
          "text": [
            "Можно ли смешать паратифовую сыворотку с стрептомицином двумя в одном и проколоть тело?\n"
          ]
        },
        {
          "output_type": "stream",
          "name": "stderr",
          "text": [
            "\r11it [02:24,  7.04s/it]"
          ]
        },
        {
          "output_type": "stream",
          "name": "stdout",
          "text": [
            "Вчера вечером месячный телёнок не до конца выпивал молоко, а утро вообще отказался выпивать. Что это может означать?\n"
          ]
        },
        {
          "output_type": "stream",
          "name": "stderr",
          "text": [
            "\r12it [02:43, 10.70s/it]"
          ]
        },
        {
          "output_type": "stream",
          "name": "stdout",
          "text": [
            "Форумчане, корова заболела. Симптомы: после отела, отела месяц назад, корова похудела. с недели назад стала очень худая и вялая, с 5 дней - только вечером - стала меньше сено, впоследствии вообще не поела. Внешность: бока впалы, внешне выраженная худоба. Помогите, что сделать.\n"
          ]
        },
        {
          "output_type": "stream",
          "name": "stderr",
          "text": [
            "\r13it [02:56, 11.35s/it]"
          ]
        },
        {
          "output_type": "stream",
          "name": "stdout",
          "text": [
            "Добрый день, пожалуйста, купила кобылу два дня назад, хозяин сказал, что недавно родила жеребку, а волк съел ее. Проблема, что сейчас у нее пошел огонь по брюху, твёрдый, не жаркий, у неё вроде температуры не было. Как помочь животному? Или надо пройти самому?\n"
          ]
        },
        {
          "output_type": "stream",
          "name": "stderr",
          "text": [
            "\r14it [03:00,  9.32s/it]"
          ]
        },
        {
          "output_type": "stream",
          "name": "stdout",
          "text": [
            "Телёнку год, уже два месяца плохо ест, пьётся, сегодня видел кал и кровь, что с ней?\n"
          ]
        },
        {
          "output_type": "stream",
          "name": "stderr",
          "text": [
            "\r15it [03:12, 10.13s/it]"
          ]
        },
        {
          "output_type": "stream",
          "name": "stdout",
          "text": [
            "Неделю назад в колхозе купили 3 телят, все дружно поносили, все стабилизировалось, но 2 дня назад все стали кашлять, одна носка забита сопельками, другая температура... Скажите пожалуйста, что можно дать им из лекарств?\n"
          ]
        },
        {
          "output_type": "stream",
          "name": "stderr",
          "text": [
            "\r16it [03:19,  9.16s/it]"
          ]
        },
        {
          "output_type": "stream",
          "name": "stdout",
          "text": [
            "Как остановить понос в двухнедельном телёнке. Подскажите, как остановить на 2–3 дня понос? Колол Диспаркол прекратился на 2-3 дня, потом снова начался.\n"
          ]
        },
        {
          "output_type": "stream",
          "name": "stderr",
          "text": [
            "\r17it [03:22,  7.31s/it]"
          ]
        },
        {
          "output_type": "stream",
          "name": "stdout",
          "text": [
            "Послеродовой парез у моей коровы, как можно продувать?\n"
          ]
        },
        {
          "output_type": "stream",
          "name": "stderr",
          "text": [
            "\r18it [03:31,  7.71s/it]"
          ]
        },
        {
          "output_type": "stream",
          "name": "stdout",
          "text": [
            "День добрый, скажите пожалуйста, вчера укол нитокса сделал теленка (4 месяца примерно), сегодня это место очень сильно опухло..подозреваю что чуть ниже попала.. что делать с отёком?(\n"
          ]
        },
        {
          "output_type": "stream",
          "name": "stderr",
          "text": [
            "\r19it [03:34,  6.22s/it]"
          ]
        },
        {
          "output_type": "stream",
          "name": "stdout",
          "text": [
            "Корова худеет и апитит вроде средней жвачки\n"
          ]
        },
        {
          "output_type": "stream",
          "name": "stderr",
          "text": [
            "\r20it [03:47,  8.29s/it]"
          ]
        },
        {
          "output_type": "stream",
          "name": "stdout",
          "text": [
            "На заднюю ногу корова не может напасть, как ее лечить? Здесь знают, что с коровой может быть, сначала хромает на заднюю, а теперь вообще не напасает, хвост поднимается дугой, копыто проверили — чисто, похудел, может какое-то заболевание.\n"
          ]
        },
        {
          "output_type": "stream",
          "name": "stderr",
          "text": [
            "\r21it [03:53,  7.71s/it]"
          ]
        },
        {
          "output_type": "stream",
          "name": "stdout",
          "text": [
            "Добрый день, кто знает что такое болезнь, когда шишки в дойках у коров? Подскажите как лечить. Спасибо всем заранее!\n"
          ]
        },
        {
          "output_type": "stream",
          "name": "stderr",
          "text": [
            "\r22it [03:57,  6.55s/it]"
          ]
        },
        {
          "output_type": "stream",
          "name": "stdout",
          "text": [
            "Послеродовой отёк вымениКак избавиться от небольшого отёка вымени после отёка?\n"
          ]
        },
        {
          "output_type": "stream",
          "name": "stderr",
          "text": [
            "\r23it [04:08,  7.87s/it]"
          ]
        },
        {
          "output_type": "stream",
          "name": "stdout",
          "text": [
            "После охоты корова чем-то отравилась, думаю сена плохая. понос зеленый, нос сухой, отрыжка не было, жвачка не было стояла, как в тумане. молоко упало с 14 до 5 литров. кто что подскажет. швиц первотелка.\n"
          ]
        },
        {
          "output_type": "stream",
          "name": "stderr",
          "text": [
            "\r24it [04:13,  6.90s/it]"
          ]
        },
        {
          "output_type": "stream",
          "name": "stdout",
          "text": [
            "У теленка нога сильно опухла. Не знаем, что делать, может кто-нибудь знает, что снимает?\n"
          ]
        },
        {
          "output_type": "stream",
          "name": "stderr",
          "text": [
            "\r25it [04:20,  7.11s/it]"
          ]
        },
        {
          "output_type": "stream",
          "name": "stdout",
          "text": [
            "Посоветуйте, у телят шишки подкожные (как будто кусали пчёлы), отказываются от еды, пьют, состояние вялое, температура, что это за болезнь и как лечить?\n"
          ]
        },
        {
          "output_type": "stream",
          "name": "stderr",
          "text": [
            "\r26it [04:39, 10.58s/it]"
          ]
        },
        {
          "output_type": "stream",
          "name": "stdout",
          "text": [
            "Отёк вымени у коров Чаще всего у коров возникает отёк вымени непосредственно перед кормлением или сразу после кормления. Основная причина возникновения отёка вымени у коровы - неправильное кормление телят и стельных сухостойных коров. Признаки заболевания - увеличение объема вымени, уплотнения кожи, часто опухоль распространяется на брюшную сторону коровы.\n"
          ]
        },
        {
          "output_type": "stream",
          "name": "stderr",
          "text": [
            "\r27it [04:50, 10.77s/it]"
          ]
        },
        {
          "output_type": "stream",
          "name": "stdout",
          "text": [
            "Лысые участки ног 1.5 месяца для телят, подскажите какие добавки и витамины дать? Телята содержатся в телятнике 1,5 месяца по 6 голов с утра по вечеру в летнем лагере (моционе) для толька в хорошей погоде. Может такая реакция от антибиотиков?\n"
          ]
        },
        {
          "output_type": "stream",
          "name": "stderr",
          "text": [
            "\r28it [04:58,  9.98s/it]"
          ]
        },
        {
          "output_type": "stream",
          "name": "stdout",
          "text": [
            "У коровы после отъезда часто стали появляться газы и немного жидкие стульяПосле отъезда коровы почему-то стали чаще выходить газы, и стул несколько жидкий.\n"
          ]
        },
        {
          "output_type": "stream",
          "name": "stderr",
          "text": [
            "\r29it [05:55, 24.11s/it]"
          ]
        },
        {
          "output_type": "stream",
          "name": "stdout",
          "text": [
            "Дорогие форумчане, с прошлыми праздниками всех, у нашей коровки появилась проблема, на второй день после еды начали горчить сливки, так молочко вкусное, жирное, а два дня постоять сливки становятся горькими. Сначала прокололи ивермек, не получилось, потом добавили порошок Клозолбен и добавили в еду пропиленгликоль, 10 дней, а с водой глюкоза 5 дней, нет результата. Коровка будет четвертая, до отела еще 5,5 месяца. Пока выходим из положения на подогрев молока до 50, но не выход. Какие варианты избавиться от глистов в сливках, а почему не помогают антигельминтики. Все коровы кормят одинаково, все проглистовали, а телят тоже. Еще прокололи Роленол, но мне кажется, что это слишком много отравы и вдруг теленок скинет? Еще можно проколоть Роленоль, но я думаю, что делать.\n"
          ]
        },
        {
          "output_type": "stream",
          "name": "stderr",
          "text": [
            "\r30it [06:25, 25.84s/it]"
          ]
        },
        {
          "output_type": "stream",
          "name": "stdout",
          "text": [
            "Привет, позавчера купил десятки телят: 7 коров, 3 телят. Возраст 2 недели до месяца. Перекупатель (у которого купил) забрал их в обед с фермы), к 23:00 они у меня были, кормить не стал сразу. Накормил. Посоветовала Марина Над, что надо их отварить чайным отваром, но был такой спешкой, что все к черту забыли... На следующий день(вчера) утром начал кормить: 2 л ЗЦМ (мустанг технология), в обед добавил к ЗЦМ прибиотик Вета 1.1. Понос в основном густой, как крем, некоторые жидкие. Как и что лечить?\n"
          ]
        },
        {
          "output_type": "stream",
          "name": "stderr",
          "text": [
            "\r31it [07:07, 30.59s/it]"
          ]
        },
        {
          "output_type": "stream",
          "name": "stdout",
          "text": [
            "Добрый день, Корова два года, первый раз отелился 5 месяцев назад, потом купили. Тип гольфштейн, молоко дает до 17 л. Анализ молока показал повышенный соматический, давал с каждого венчика, давал стафилококк, после антибиотиков (в анализе указали, какие отзываются) давал анализ опять зараза, только сейчас стрептококк, а в другом венчике, давал кровь, показатели плохие, Ответ прикреплён. Ветеринар разводит руки. В чем проблема не понятна. Корм, микроэлементы, по словам ветеринара, дают норму. Соматический растет, может есть какие-то мысли? П. С. Молоко без хлопка, ест нормальный, не худой, пьет нормальный.\n"
          ]
        },
        {
          "output_type": "stream",
          "name": "stderr",
          "text": [
            "\r32it [07:13, 23.25s/it]"
          ]
        },
        {
          "output_type": "stream",
          "name": "stdout",
          "text": [
            "Чем можно избавиться от маленького тела, если он часто подкашливает? Добрый день, подскажите, пожалуйста, теленок 1.5 месяца подкашливается. Чем его лечить?\n"
          ]
        },
        {
          "output_type": "stream",
          "name": "stderr",
          "text": [
            "\r33it [07:16, 17.27s/it]"
          ]
        },
        {
          "output_type": "stream",
          "name": "stdout",
          "text": [
            "Что на глазах коровы? интересно, чем и как это лечить?\n"
          ]
        },
        {
          "output_type": "stream",
          "name": "stderr",
          "text": [
            "\r34it [07:19, 12.86s/it]"
          ]
        },
        {
          "output_type": "stream",
          "name": "stdout",
          "text": [
            "Телёнок запонил при смене корма, что в корме не так?\n"
          ]
        },
        {
          "output_type": "stream",
          "name": "stderr",
          "text": [
            "\r35it [07:22,  9.96s/it]"
          ]
        },
        {
          "output_type": "stream",
          "name": "stdout",
          "text": [
            "Лечение телят с поносом. Подскажите, как лечить теляту с поноса.\n"
          ]
        },
        {
          "output_type": "stream",
          "name": "stderr",
          "text": [
            "\r36it [07:55, 16.98s/it]"
          ]
        },
        {
          "output_type": "stream",
          "name": "stdout",
          "text": [
            "Отелилась корова в течении дня, не больная, роды не затянулись, телёнка быстро поднялась (тёлка), в течение дня сосала. К вечеру стул был кашей, потом жидкий стул желтый, 2 раза. Вчера до вечера стул был кашицей, вечером жидким стулом желтый, с неприятными запахами До вечера 2 раза дали заварку черного чая с отваром из ивана и душицы, + 2 таблетки панкреатина, еще вечером добавили немного молока, но все это телёнок не сосал путём (как будто хочет, но не сосал). Пожалуйста, советуйте, как лечить телёнка дальше?\n"
          ]
        },
        {
          "output_type": "stream",
          "name": "stderr",
          "text": [
            "\r37it [08:16, 18.09s/it]"
          ]
        },
        {
          "output_type": "stream",
          "name": "stdout",
          "text": [
            "Добрый день, я такая проблема, бык обдулся, пришел ветврач, сказал, чтобы залить масло и он встанет, и нечего не делать. Но задние ноги он как парализован, мы залили масло, мяли голодную ямку, уже все нормально, начала работать желудок, но результата нет, он не встает и все. Связки не рвали, кушает теперь хорошо. Помогите, что делать? Ему полгода?\n"
          ]
        },
        {
          "output_type": "stream",
          "name": "stderr",
          "text": [
            "\r38it [08:27, 15.81s/it]"
          ]
        },
        {
          "output_type": "stream",
          "name": "stdout",
          "text": [
            "Помоги остановить понос на 10 дней телёнка Третий день понос был жёлто-зеленым, как вода, давала сладкий чай, яйца, отвар геркулесовый, вчера уколола 2 кубика «Дизпаркола» в стайке сухой, чистой.\n"
          ]
        },
        {
          "output_type": "stream",
          "name": "stderr",
          "text": [
            "\r39it [08:37, 14.02s/it]"
          ]
        },
        {
          "output_type": "stream",
          "name": "stdout",
          "text": [
            "У быка ноги заболели как-то резко, не ногами, а ногами. Передние ноги быка как будто не гнутся, а на задние хромают. Что это такое и как его лечить? Помогите пожалуйста!\n"
          ]
        },
        {
          "output_type": "stream",
          "name": "stderr",
          "text": [
            "\r40it [08:56, 15.67s/it]"
          ]
        },
        {
          "output_type": "stream",
          "name": "stdout",
          "text": [
            "Помогите, пожалуйста, Корова съела 10 кг мелкого сухаря (ржаного) у неё пропало жвачку, через полтора суток перестала вставать. Ветеринары не хотят ее лечить, 13 лет, мол менять и все, но больно жалко, молоко вкусное, замену ищем, но пока нет достойного... сами внутренне колем витаминов и кальция, корова активно пытается вставать.\n"
          ]
        },
        {
          "output_type": "stream",
          "name": "stderr",
          "text": [
            "\r41it [09:26, 19.88s/it]"
          ]
        },
        {
          "output_type": "stream",
          "name": "stdout",
          "text": [
            "Я работаю в СПК еще недавно. Ситуация такова: у нас с телятами ангар от 2 недели до 1,5 месяца, сначала не было поносов, единичные случаи, а теперь привозили обычные 4-10 градусов, нагревали до 20*, потом нагревали, теперь пастеризованные привозят 27* и сразу нагревают. Еще есть вариант, что грязь закинула и молоко просто не заквасила, или все вместе сразу, жара, молоко другой и температура еще ниже, может ли все это вызвать понос или бактерии закинули?\n"
          ]
        },
        {
          "output_type": "stream",
          "name": "stderr",
          "text": [
            "\r42it [09:30, 15.20s/it]"
          ]
        },
        {
          "output_type": "stream",
          "name": "stdout",
          "text": [
            "Тёлочка 2 месяца, забит нос (как насморк) Чем закапать нос, чтобы дышать нос?\n"
          ]
        },
        {
          "output_type": "stream",
          "name": "stderr",
          "text": [
            "\r43it [09:42, 14.34s/it]"
          ]
        },
        {
          "output_type": "stream",
          "name": "stdout",
          "text": [
            "Чем лечение кашля и сопли сгустками крови телёнка? У телёнка 3,5 месяца кашель и кашель, температура нормальная, аппетит хороший, характер Голштинки. До этого купили бычку, то же самое, просто лечили от носа, а всё прошло от антибиотика, а девочку надо колоть.\n"
          ]
        },
        {
          "output_type": "stream",
          "name": "stderr",
          "text": [
            "\r44it [09:45, 10.85s/it]"
          ]
        },
        {
          "output_type": "stream",
          "name": "stdout",
          "text": [
            "Белые сопли текут у телят, что это и как лечить?\n"
          ]
        },
        {
          "output_type": "stream",
          "name": "stderr",
          "text": [
            "\r45it [09:53, 10.03s/it]"
          ]
        },
        {
          "output_type": "stream",
          "name": "stdout",
          "text": [
            "У моей первой тёлки отёк не проходит. Здравствуйте, скажите пожалуйста, что может быть: У моей первой тёлки нет отёк на правой стороне вымени и массаж, доить я хожу через 2 часа.\n"
          ]
        },
        {
          "output_type": "stream",
          "name": "stderr",
          "text": [
            "\r46it [10:25, 16.47s/it]"
          ]
        },
        {
          "output_type": "stream",
          "name": "stdout",
          "text": [
            "В колхозе купили теленка черно-белой породы, ему месяц. Поначалу все хорошо, бежал и радовался жизни, потом заметили, что его коленный сустав рос, рос и вскрылся, прошел... Думали, что вообще не проходит, теленок не встает на ногу, прокололи антибиотики, обрабатывали так же и ихтеолку и перекись, но результата нет... Он весь исхудал... Но подходит к еде, если поднять, стоит... Помогите опытным ветеринарам или тем, кто это сталкивался... Жаль теленочка...\n"
          ]
        },
        {
          "output_type": "stream",
          "name": "stderr",
          "text": [
            "\r47it [10:30, 13.05s/it]"
          ]
        },
        {
          "output_type": "stream",
          "name": "stdout",
          "text": [
            "Высыпание коровы на шее Здравствуйте, сегодня я заметил какие-то высыпания коровы на шею, что это и как опасно?\n"
          ]
        },
        {
          "output_type": "stream",
          "name": "stderr",
          "text": [
            "\r48it [10:38, 11.56s/it]"
          ]
        },
        {
          "output_type": "stream",
          "name": "stdout",
          "text": [
            "Здравствуйте, я недавно заметил на шее корова небольшие шишки размером с комариным укусом, покрытые корочкой, легко сдирающей корочку, вроде как маленькие гнойники. Подскажите, что может быть, пожалуйста.\n"
          ]
        },
        {
          "output_type": "stream",
          "name": "stderr",
          "text": [
            "\r49it [10:42,  9.43s/it]"
          ]
        },
        {
          "output_type": "stream",
          "name": "stdout",
          "text": [
            "У теленка (2 месяца) утром заложили нос и отказались от молока.Что делать, скажите пожалуйста?\n"
          ]
        },
        {
          "output_type": "stream",
          "name": "stderr",
          "text": [
            "\r50it [11:01, 12.36s/it]"
          ]
        },
        {
          "output_type": "stream",
          "name": "stdout",
          "text": [
            "Что на бычке появилось? У меня бычка годовая, за 5 дней сильно похудела, вчера я смотрю, вижу, что шишки очень много появились на задних ножках и немного на шею, внизу, я впервые вижу такое, что может быть? шишки мелкие размером сантиметров и крепкие при трогании шишок — бык начинает сразу дрожать, что это, кто такой встречал?\n"
          ]
        },
        {
          "output_type": "stream",
          "name": "stderr",
          "text": [
            "\r51it [11:07, 10.22s/it]"
          ]
        },
        {
          "output_type": "stream",
          "name": "stdout",
          "text": [
            "Добрый день, нужен совет, теленка 2 дня, с кровью сильно поносится, что можно делать? Спасибо всем заранее!\n"
          ]
        },
        {
          "output_type": "stream",
          "name": "stderr",
          "text": [
            "\r52it [11:32, 14.70s/it]"
          ]
        },
        {
          "output_type": "stream",
          "name": "stdout",
          "text": [
            "Сталкивались с проблемой, не понимаем, что это такое, примерно две недели назад корова в тяжёлом состоянии, сначала жвачка пропала, аппетит ухудшился постепенно, молоко постепенно пропало, под скулами и шеей появилась небольшая отечность, не мягкая, без уплотнения, потом тоже отекла грудь в передних ногах. Корова не стоит, но плохо питается, нормально, без лишнего питья, а также мало двигается. Опасается, что она заразна.\n"
          ]
        },
        {
          "output_type": "stream",
          "name": "stderr",
          "text": [
            "\r53it [11:51, 15.91s/it]"
          ]
        },
        {
          "output_type": "stream",
          "name": "stdout",
          "text": [
            "Добрый день, тёлочка отелилась вчера, доела, всё нормально, сегодня стала доить с утра, и один сосок, как будто засоренный, молозиво идёт плохо, пока сцеживая сосок, аж посинел, я вижу, что больно, еще после отъезда она не очень спокойна, дою только с мужем, вымя на доле затвердело. Намазала хозяйственным мылом.\n"
          ]
        },
        {
          "output_type": "stream",
          "name": "stderr",
          "text": [
            "\r54it [11:55, 12.34s/it]"
          ]
        },
        {
          "output_type": "stream",
          "name": "stdout",
          "text": [
            "Это может быть какое-то заболевание? Кто сталкивался с подобной проблемой?\n"
          ]
        },
        {
          "output_type": "stream",
          "name": "stderr",
          "text": [
            "\r55it [12:03, 11.03s/it]"
          ]
        },
        {
          "output_type": "stream",
          "name": "stdout",
          "text": [
            "Что делать с теленком? У меня проблема с теленком поносит ему 14 дней, дают отвар риса, чай, правильно ли я делаю, а еще вопрос подскажите, он не умрет с голоду.\n"
          ]
        },
        {
          "output_type": "stream",
          "name": "stderr",
          "text": [
            "\r56it [12:09,  9.67s/it]"
          ]
        },
        {
          "output_type": "stream",
          "name": "stdout",
          "text": [
            "Бычка 7 месяцев выросла на щеке под глазами шишка, размером с мужским кулак, на ощупь твёрда, как кость,глаз не течет,подскажите что сделать.\n"
          ]
        },
        {
          "output_type": "stream",
          "name": "stderr",
          "text": [
            "\r57it [12:11,  7.45s/it]"
          ]
        },
        {
          "output_type": "stream",
          "name": "stdout",
          "text": [
            "Корова не встаёт на задние ноги, что делать?\n"
          ]
        },
        {
          "output_type": "stream",
          "name": "stderr",
          "text": [
            "\r58it [12:28, 10.35s/it]"
          ]
        },
        {
          "output_type": "stream",
          "name": "stdout",
          "text": [
            "Всем добрый день! Помогите тем, кто сталкивается с подобной проблемой: 14 телят умерли за неделю, возраст от недели до месяца, вялые, отказались от пищи, кто-то лежал и дрожал, у всех поносы, у некоторых - кровавые. Разрезали пару телят, что-то было в желудке, что-нибудь похожее на сыр, скажите что делать??\n"
          ]
        },
        {
          "output_type": "stream",
          "name": "stderr",
          "text": [
            "\r59it [12:32,  8.24s/it]"
          ]
        },
        {
          "output_type": "stream",
          "name": "stdout",
          "text": [
            "У коровы болячка на дойке что за болезнь и что делать\n"
          ]
        },
        {
          "output_type": "stream",
          "name": "stderr",
          "text": [
            "\r60it [13:00, 14.27s/it]"
          ]
        },
        {
          "output_type": "stream",
          "name": "stdout",
          "text": [
            "Добрый день, первый отел коровы, молозиво не идет из соска, очень сильный отёк от одной стороны с переходом на живот, а этот сосок отекший, можно и капли выдать. Аппарат тоже ничего. Поставили катетер, прошел без помех, легко, корова не обратила внимания. Но через катетер не выходит. Как я понимаю, канал свободный, не зарос. А как его сдать через капли? Может что не так? В чем вообще причина? А как помочь корову? Мы в ссоре! Очень ждем советов!\n"
          ]
        },
        {
          "output_type": "stream",
          "name": "stderr",
          "text": [
            "\r61it [13:04, 11.26s/it]"
          ]
        },
        {
          "output_type": "stream",
          "name": "stdout",
          "text": [
            "Добрый вечер, коровы доходят с кровью, что может быть, кто знает, скажите!\n"
          ]
        },
        {
          "output_type": "stream",
          "name": "stderr",
          "text": [
            "\r62it [13:07,  8.52s/it]"
          ]
        },
        {
          "output_type": "stream",
          "name": "stdout",
          "text": [
            "Теленок кашляет, чем его лечить?\n"
          ]
        },
        {
          "output_type": "stream",
          "name": "stderr",
          "text": [
            "\r63it [13:10,  6.96s/it]"
          ]
        },
        {
          "output_type": "stream",
          "name": "stdout",
          "text": [
            "Скажите, что делать, если теленок упал на ноги в возрасте 6 месяцев?\n"
          ]
        },
        {
          "output_type": "stream",
          "name": "stderr",
          "text": [
            "\r64it [13:17,  6.97s/it]"
          ]
        },
        {
          "output_type": "stream",
          "name": "stdout",
          "text": [
            "Добрый вечер, после зимы вывели телку на поле, пришла с таким выменам, скорее всего, мошкар покусывал.Чем лечить. Твердо и горячо все.\n"
          ]
        },
        {
          "output_type": "stream",
          "name": "stderr",
          "text": [
            "\r65it [13:35, 10.35s/it]"
          ]
        },
        {
          "output_type": "stream",
          "name": "stdout",
          "text": [
            "Добрый день, помогите, что с корой? Первые симптомы были 19 августа, корова резко снизилась удой, понос и так 2 дня. Далее стул пошел твердым, пить воду мало, трава ест плохо, отек морды, отек под челюсть. Язык белый, слизистая тоже.\n"
          ]
        },
        {
          "output_type": "stream",
          "name": "stderr",
          "text": [
            "\r66it [13:41,  9.05s/it]"
          ]
        },
        {
          "output_type": "stream",
          "name": "stdout",
          "text": [
            "По какой причине молоко горчит у коровыПочему горчит молоко коровы, мы обрабатываем корову каждый год, была с быком 2 сентября, с быком.\n"
          ]
        },
        {
          "output_type": "stream",
          "name": "stderr",
          "text": [
            "\r67it [13:48,  8.33s/it]"
          ]
        },
        {
          "output_type": "stream",
          "name": "stdout",
          "text": [
            "Чем мазать ногу коровы, которая опухла? Подскажите пожалуйста, корова припухла нога задней ноги (в сгибе под копытам) сильно хромает, чем лучше смазать?\n"
          ]
        },
        {
          "output_type": "stream",
          "name": "stderr",
          "text": [
            "\r68it [14:07, 11.67s/it]"
          ]
        },
        {
          "output_type": "stream",
          "name": "stdout",
          "text": [
            "В ночь на 28 декабря первая тёлка была довольно исправной, одна доля была молочной, вчера была правая задняя точка на ощупь твёрдая. Крупки, хлопья в молоке нет, привкус тоже нет. И второй вопрос о выделениях. Неприятный запах, но очень яркий выделение в последние дни, на что обратить внимание и не волноваться до 21 дня? Спасибо.\n"
          ]
        },
        {
          "output_type": "stream",
          "name": "stderr",
          "text": [
            "\r69it [14:10,  8.98s/it]"
          ]
        },
        {
          "output_type": "stream",
          "name": "stdout",
          "text": [
            "У коровы появился прыщ на боку\n"
          ]
        },
        {
          "output_type": "stream",
          "name": "stderr",
          "text": [
            "\r70it [14:33, 13.24s/it]"
          ]
        },
        {
          "output_type": "stream",
          "name": "stdout",
          "text": [
            "Хороший день, у коровы передняя нога опухла, от лопатки до колена, потом у лопатки прорвался гной, корова стает на ногу, но нога иногда дрожит, потом та ранка зажила и снова зажила, и вот снова прорвало уже на колене. Температуры нет, ест нормально, но не набирает вес (на нас досталась очень худая), вялость часто и грусть глаза, к сожалению, ветеринара не найти в моем глуши.\n"
          ]
        },
        {
          "output_type": "stream",
          "name": "stderr",
          "text": [
            "\r71it [14:38, 10.84s/it]"
          ]
        },
        {
          "output_type": "stream",
          "name": "stdout",
          "text": [
            "Тело уже неделю не встает после отеля, ударяется головой, пытаясь поднять его... Что такое? И как бороться с этим?\n"
          ]
        },
        {
          "output_type": "stream",
          "name": "stderr",
          "text": [
            "\r72it [14:54, 12.18s/it]"
          ]
        },
        {
          "output_type": "stream",
          "name": "stdout",
          "text": [
            "Привет всем, утром обнаружила слабость телки, есть жвачка но слабая, она на привязи, выпустил гулять и она как то без настроения,кал нормальный что может быть с ней, только сегодня была активная, кормлю ее дробленным пшеницей, сеном, ветеренар нет, да и колол гентамицином.\n"
          ]
        },
        {
          "output_type": "stream",
          "name": "stderr",
          "text": [
            "\r73it [15:00, 10.40s/it]"
          ]
        },
        {
          "output_type": "stream",
          "name": "stdout",
          "text": [
            "До отеля 9 дней кровь в сосках. Корова запустила 2 месяца, попробовала молоко и там кровь во всём соске, до отеля оставалось 9 дней.\n"
          ]
        },
        {
          "output_type": "stream",
          "name": "stderr",
          "text": [
            "\r74it [15:16, 12.21s/it]"
          ]
        },
        {
          "output_type": "stream",
          "name": "stdout",
          "text": [
            "У коровы опухали молочные каналы, а около пучка большая опухоль Первые дни были маленькие шишки и постепенно растет с каждым днем и сегодня стали огромными. Уже несколько ветеринаров показали, что не знают, что и как лечить, пожалуйста, кто сталкивался с этим, кто знает как лечить — пишите!\n"
          ]
        },
        {
          "output_type": "stream",
          "name": "stderr",
          "text": [
            "\r75it [15:38, 15.16s/it]"
          ]
        },
        {
          "output_type": "stream",
          "name": "stdout",
          "text": [
            "Всем привет, купили маленького телёнка, как привезли, сильно понёс корову, прямо молоком, струей белой и так много раз дали лекарство, стало лучше, кашей уже, пробовали попить электролит, не помогает, покупали таблетки в аптеках от поноса, не помогают, сам кушал, ходит, но не перестает поносить. Почему кал светлый, то жидкий и слизистый, то каша. У кого такое было, скажите что делать?\n"
          ]
        },
        {
          "output_type": "stream",
          "name": "stderr",
          "text": [
            "\r76it [15:51, 14.42s/it]"
          ]
        },
        {
          "output_type": "stream",
          "name": "stdout",
          "text": [
            "Здравствуйте теленку один 1 мес другой 2 мес после этого умер телёнок сказал что инфекция остальных телёнок проколола азитронит а ашиэнро пошел на поправку но ноги начали опухать телята угнетенные аппетиты хорошие кормим зцм с льном и экстрактными палочками добавляем сено\n"
          ]
        },
        {
          "output_type": "stream",
          "name": "stderr",
          "text": [
            "\r77it [16:02, 13.48s/it]"
          ]
        },
        {
          "output_type": "stream",
          "name": "stdout",
          "text": [
            "Как лечить гнойный сустав у собаки? Помогите лечением собаки, сустав гнойный, отросток с пальцем примерно, уже два ветеринара смотрели, диагноз разный ставили, лечение: антибиотик и мазь для иммунитета, результата нет, сталкивались, помогите.\n"
          ]
        },
        {
          "output_type": "stream",
          "name": "stderr",
          "text": [
            "\r78it [16:16, 13.55s/it]"
          ]
        },
        {
          "output_type": "stream",
          "name": "stdout",
          "text": [
            "Живот вялый, перистальтики, поноса нет, Что делать? Здравствуйте, взяли кота с фермы, всё было нормально, два дня живот вялый, не хотя встаёт, маленько скрипит зубы, перистальтика идёт в животе, давали корм и сухое молоко, поноса сегодня не наблюдаю, что делать? Что сегодня делать?\n"
          ]
        },
        {
          "output_type": "stream",
          "name": "stderr",
          "text": [
            "\r79it [16:20, 10.81s/it]"
          ]
        },
        {
          "output_type": "stream",
          "name": "stdout",
          "text": [
            "Помогите у теленка отеки в глазах и припухлости, да еще уши опухали что делать и как лечить)\n"
          ]
        },
        {
          "output_type": "stream",
          "name": "stderr",
          "text": [
            "\r80it [16:25,  8.87s/it]"
          ]
        },
        {
          "output_type": "stream",
          "name": "stdout",
          "text": [
            "Корову бодрили в вымя, молоко и кровь, что делать и как его лечить? Вымя было припухло.\n"
          ]
        },
        {
          "output_type": "stream",
          "name": "stderr",
          "text": [
            "\r81it [16:36,  9.50s/it]"
          ]
        },
        {
          "output_type": "stream",
          "name": "stdout",
          "text": [
            "Здравствуйте, снова нужна помощь, под левым глазом у коровы появилась шишка, Вет не идет смотреть, сказала, наверное кто-то укусил, велела мазать левом глазом, ничего не проходит, даже больше стала, что делать? Подскажите пожалуйста.\n"
          ]
        },
        {
          "output_type": "stream",
          "name": "stderr",
          "text": [
            "\r82it [16:38,  7.26s/it]"
          ]
        },
        {
          "output_type": "stream",
          "name": "stdout",
          "text": [
            "Телёнок сильно поносит, чем помогает, скажите.\n"
          ]
        },
        {
          "output_type": "stream",
          "name": "stderr",
          "text": [
            "\r83it [16:45,  7.23s/it]"
          ]
        },
        {
          "output_type": "stream",
          "name": "stdout",
          "text": [
            "Чем можно избавиться, если маленький бычок начнет кашлять? Скажите, пожалуйста, когда годовалый бычок начинает кашлять, что можно было избавиться?\n"
          ]
        },
        {
          "output_type": "stream",
          "name": "stderr",
          "text": [
            "\r84it [17:02, 10.31s/it]"
          ]
        },
        {
          "output_type": "stream",
          "name": "stdout",
          "text": [
            "Опухоль у тела под хвостом. Добрый день! Тела 14 месяцев, красные степные породы, вчера вошли в охоту, так что уделили внимание генитальной области. Утром было хорошо, теперь обратили внимание на то, что хвост имеет значительный новообраз размером с яйцом, полностью покрывающий (нависающий) задний проход. Фото пока не получается – в сарае сильный свет.\n"
          ]
        },
        {
          "output_type": "stream",
          "name": "stderr",
          "text": [
            "\r85it [17:18, 11.83s/it]"
          ]
        },
        {
          "output_type": "stream",
          "name": "stdout",
          "text": [
            "У телёнка пролысины Купил телёнку, чуть позже заметил, что на ногах образовались пролысины. Места голые и гладкие, кожа при этом розовая и гладкая. Есть хорошо, молоко, сено, хлопья овсяные, вода. Настроение хорошо. Подскажите, как лечить? Можно уколы проколоть? Может уколы нужно проколоть.\n"
          ]
        },
        {
          "output_type": "stream",
          "name": "stderr",
          "text": [
            "\r86it [17:34, 13.08s/it]"
          ]
        },
        {
          "output_type": "stream",
          "name": "stdout",
          "text": [
            "У коровы болит коленный сустав Здравствуйте, дайте совет, как быть после тяжелого отложения корова длительное время лежала, кровообращение в коленях передней ноги было нарушено, и опухоль не спадала, рана сейчас сухая, гной не выходит, но опухоль поднималась выше, корова тяжело наступает на ногу. Продлится 3 недели. Спасибо за совет!\n"
          ]
        },
        {
          "output_type": "stream",
          "name": "stderr",
          "text": [
            "\r87it [17:53, 15.00s/it]"
          ]
        },
        {
          "output_type": "stream",
          "name": "stdout",
          "text": [
            "Добрый вечер, помогите мне с проблемой, в понедельник утром я пришла кормить ему теленка 16 дней, и он какой-то вялый, еле ходит, температура 40 соплей, кашля тоже нет, Кал зеленый, как желе, теперь понос зеленый, кормлю молоком. Теперь пошла кормить, он вроде хочет есть и выпить немного и все. Затем заметила, что с ним сопли и пена выходят из зорта.\n"
          ]
        },
        {
          "output_type": "stream",
          "name": "stderr",
          "text": [
            "\r88it [18:02, 13.22s/it]"
          ]
        },
        {
          "output_type": "stream",
          "name": "stdout",
          "text": [
            "Скажите пожалуйста у коровы жидкое кресло, что делать? 3 месяца жидкое, не знаю что делать! Колол и от глистов и от поноса но толка нет. Уже нет сил.\n"
          ]
        },
        {
          "output_type": "stream",
          "name": "stderr",
          "text": [
            "\r89it [18:18, 13.89s/it]"
          ]
        },
        {
          "output_type": "stream",
          "name": "stdout",
          "text": [
            "Скажите пожалуйста, телёнку месяц и двадцать дней, даю молоко 2л 3 раза, кушает сено, но при введении молотого ячмени и овса стул стал жидким, сначала белым, теперь темным. Это нормально или нет, таблетки от поноса давали не помогают. Телят стоит двое, у второго всё нормально.\n"
          ]
        },
        {
          "output_type": "stream",
          "name": "stderr",
          "text": [
            "\r90it [18:42, 16.89s/it]"
          ]
        },
        {
          "output_type": "stream",
          "name": "stdout",
          "text": [
            "Пожалуйста, откликнитесь на ветеринара! Требуется квалифицированная помощь. У коровы сильная кашель, кашель, гнойное выделение из носа, болеть уже около 2 месяцев, потому что она сильная 5 мес. антибиотики боялись превышать дозировку. Ветеринар назначила препарат Нитокс-200 2 раза по 2 цикла, вроде помогает и повторяется. Аппетит хорошо, но удой упала от 18 до 6 литров в день, Сульприм 48 ставили - улучшения нет. Но видно что-то с дыханием. Откликнитесь!\n"
          ]
        },
        {
          "output_type": "stream",
          "name": "stderr",
          "text": [
            "\r91it [18:55, 15.75s/it]"
          ]
        },
        {
          "output_type": "stream",
          "name": "stdout",
          "text": [
            "Осенью мы купили две коровы, одна месяц назад отелилась, а сейчас просто чахнет — совсем высохла. Другая еще не отелилась. Заметили, что клещи на них очень много, там даже не десятки, ужас. Как от клещей избавиться и коровы могут худеть из-за этого? На других коровах клещей нет.\n"
          ]
        },
        {
          "output_type": "stream",
          "name": "stderr",
          "text": [
            "\r92it [19:03, 13.39s/it]"
          ]
        },
        {
          "output_type": "stream",
          "name": "stdout",
          "text": [
            "Добрый день, пожалуйста, у меня двое бычков красно-степных пород 5 месяцев, выделения из носа текут по утрам и часто кашляют, не знаю что делать, скажите что можно?\n"
          ]
        },
        {
          "output_type": "stream",
          "name": "stderr",
          "text": [
            "\r93it [19:08, 11.06s/it]"
          ]
        },
        {
          "output_type": "stream",
          "name": "stdout",
          "text": [
            "Что делать, когда бык поносится. Бык дома стоит, ест сухой сено, и дрищет. Как делать, советую?\n"
          ]
        },
        {
          "output_type": "stream",
          "name": "stderr",
          "text": [
            "\r94it [19:16, 10.01s/it]"
          ]
        },
        {
          "output_type": "stream",
          "name": "stdout",
          "text": [
            "Чем можно избавиться от шишки на животе у собаки? У собаки на месте пупка появилась твёрдая шишечка размером с детским кулаком. Бычка 4 месяца. Что может быть такое?\n"
          ]
        },
        {
          "output_type": "stream",
          "name": "stderr",
          "text": [
            "\r95it [19:24,  9.43s/it]"
          ]
        },
        {
          "output_type": "stream",
          "name": "stdout",
          "text": [
            "Тело 10 дней, после покачки, тужится, и из отверстия анального отверстия выходит какой-то прозрачный слиз. Кто-то сталкивался, что может быть и что сделать?\n"
          ]
        },
        {
          "output_type": "stream",
          "name": "stderr",
          "text": [
            "\r96it [19:37, 10.48s/it]"
          ]
        },
        {
          "output_type": "stream",
          "name": "stdout",
          "text": [
            "Телёнок поносит траву, что дать? Подскажите, тёлочка четвертый месяц, как вывела на траву, перестала молоко, все нормально, но вот 4-5 дней поносится, дала отвар черёмуха, таблетки поноса, но не прошло ничего. Так продолжает драться, что можно еще дать?\n"
          ]
        },
        {
          "output_type": "stream",
          "name": "stderr",
          "text": [
            "\r97it [19:43,  9.22s/it]"
          ]
        },
        {
          "output_type": "stream",
          "name": "stdout",
          "text": [
            "Здравствуйте, пожалуйста, купил ей телку 6 месяцев, привез домой, но жвачки у неё нет,сено кушает,кал нормально, что можно и как ей помочь?\n"
          ]
        },
        {
          "output_type": "stream",
          "name": "stderr",
          "text": [
            "\r98it [19:47,  7.72s/it]"
          ]
        },
        {
          "output_type": "stream",
          "name": "stdout",
          "text": [
            "Теленок скользнул по льду сначала, хромал на одной из задней ножек, а сейчас не встает, что делать.\n"
          ]
        },
        {
          "output_type": "stream",
          "name": "stderr",
          "text": [
            "\r99it [19:53,  7.07s/it]"
          ]
        },
        {
          "output_type": "stream",
          "name": "stdout",
          "text": [
            "Скажите кто знает, что на шее, ближе к ухе, появилась шишка, твёрдая размером кулак, как лечить?\n"
          ]
        },
        {
          "output_type": "stream",
          "name": "stderr",
          "text": [
            "\r100it [20:08,  9.50s/it]"
          ]
        },
        {
          "output_type": "stream",
          "name": "stdout",
          "text": [
            "Упала на ноги 8 месяцев, тёлка очень худая, ест сено каша отруби, пыталась поднять, не поджимает на ноги, третий день колю ей Тетрогидровит 2мл, посоветовали седин 2мл колоть 5 дней. Посоветуйте что еще можно сделать температуры нет нормального аппетита.\n"
          ]
        },
        {
          "output_type": "stream",
          "name": "stderr",
          "text": [
            "\r101it [20:24, 11.30s/it]"
          ]
        },
        {
          "output_type": "stream",
          "name": "stdout",
          "text": [
            "Добрый день, с коровкой проблема, с осени выходят на дойке, а затем и на вымени у сосков (сразу на одних дойках и поочередно на всех), мелкие прыщи, потом образуются ранки, чем только не лечили, антибиотики делали, проходит буквально две недели и опять все снова, ветврач не может ничего сказать.\n"
          ]
        },
        {
          "output_type": "stream",
          "name": "stderr",
          "text": [
            "\r102it [21:20, 24.87s/it]"
          ]
        },
        {
          "output_type": "stream",
          "name": "stdout",
          "text": [
            "Корова пошла на прогулку 14 марта и, наверное, пошла на вымя, на следующий день была вялая, не ела, обнаружила одну долю очень жёсткую, при сдаивании пошла гной, Корова не доела, пошла плохо ела, нашла одну часть вымени, не помогла, ввела Нороклав, три раза, тоже 12 часов. В общем, массаж, сдавление и натирание сделали около 6 раз в день. Горячий вымя было не было. У Коровы было молоко в остальных долях, а вот одна доля вымени была очень плотной, натиралась и стала лучше, если уже не хватало молока.\n"
          ]
        },
        {
          "output_type": "stream",
          "name": "stderr",
          "text": [
            "\r103it [21:29, 20.07s/it]"
          ]
        },
        {
          "output_type": "stream",
          "name": "stdout",
          "text": [
            "Что делать если корова запускает одну долю вымени и горячую? Здравствуйте, подскажите, корова в запуске опухла одна доля, остальные мягкие, телится через месяц. Сталкиваюсь с этим впервые.\n"
          ]
        },
        {
          "output_type": "stream",
          "name": "stderr",
          "text": [
            "\r104it [21:41, 17.57s/it]"
          ]
        },
        {
          "output_type": "stream",
          "name": "stdout",
          "text": [
            "Добрый день, занимаюсь кормлением быков вчера, заметил, что у быков выпадает шерсть вокруг хвоста и щеки, блох и волосы не заметили, скорее всего, клещи. Подскажите, пожалуйста, эффективен ли обработка неоцидола 1мл на 1л воды или ивермек?\n"
          ]
        },
        {
          "output_type": "stream",
          "name": "stderr",
          "text": [
            "\r105it [21:50, 14.99s/it]"
          ]
        },
        {
          "output_type": "stream",
          "name": "stdout",
          "text": [
            "Ребята подскажут, купили корову два года назад, так все нравится, спокойно, умно, а вот кровь иногда течет со спины, образуется дырка на хребте, течет сильно, сильно.\n"
          ]
        },
        {
          "output_type": "stream",
          "name": "stderr",
          "text": [
            "\r106it [21:55, 12.14s/it]"
          ]
        },
        {
          "output_type": "stream",
          "name": "stdout",
          "text": [
            "У нас на шее шишка большая, она прорвалась, появились язвы, и начали еще больше расти. Как лечить?\n"
          ]
        },
        {
          "output_type": "stream",
          "name": "stderr",
          "text": [
            "\r107it [22:08, 12.35s/it]"
          ]
        },
        {
          "output_type": "stream",
          "name": "stdout",
          "text": [
            "Добрый день, уважаемые форумчане, за три месяца выросла большая опухоль и продолжает расти, местные ветеринары разводят руки говорят, что первый раз видели такое, последние два дня кровоточат из-за трещин. Не грыжа, не абсцес, может кто-то столкнулся с подобной ситуацией.\n"
          ]
        },
        {
          "output_type": "stream",
          "name": "stderr",
          "text": [
            "\r108it [22:10,  9.37s/it]"
          ]
        },
        {
          "output_type": "stream",
          "name": "stdout",
          "text": [
            "Уважаемые форумчане помогите пожалуйста\n"
          ]
        },
        {
          "output_type": "stream",
          "name": "stderr",
          "text": [
            "\r109it [22:17,  8.48s/it]"
          ]
        },
        {
          "output_type": "stream",
          "name": "stdout",
          "text": [
            "Добрый день, Тёлка 11 месяцев, 3 дня плохо кушает и совершенно не пьет. Лижет золу, лёд и отворачивается от воды, что делать?\n"
          ]
        },
        {
          "output_type": "stream",
          "name": "stderr",
          "text": [
            "\r110it [22:22,  7.51s/it]"
          ]
        },
        {
          "output_type": "stream",
          "name": "stdout",
          "text": [
            "Корова сломала ногу гвоздем, как его лечить? Корова сломанула ногу очень сильно, как и чем ее лечить?\n"
          ]
        },
        {
          "output_type": "stream",
          "name": "stderr",
          "text": [
            "\r111it [22:33,  8.47s/it]"
          ]
        },
        {
          "output_type": "stream",
          "name": "stdout",
          "text": [
            "Добрый день, скажите что это за болезнь у коровы все вымычки в шишках, слезы текут в соплях температура 40,5 коровы вялая, по рекомендации ветеринара сделали нитокс 200 внутримышечный 30 кубиков сегодня утром шишки стали больше температуры так и держатся 40,5\n"
          ]
        },
        {
          "output_type": "stream",
          "name": "stderr",
          "text": [
            "\r112it [22:41,  8.44s/it]"
          ]
        },
        {
          "output_type": "stream",
          "name": "stdout",
          "text": [
            "Добрый день, скажите пожалуйста, что у нашего быка нарост и чем его лечение? Бык 1 г4м, месяц назад маленький рост, начал рост, теперь появляется на других участках тела, петит хороший. Спасибо заранее.\n"
          ]
        },
        {
          "output_type": "stream",
          "name": "stderr",
          "text": [
            "\r113it [23:21, 17.75s/it]"
          ]
        },
        {
          "output_type": "stream",
          "name": "stdout",
          "text": [
            "Что делать если тело перегрелось на солнце Телята ровно месяц перегрелись, стали вялыми, до этого просто живые! Сразу вызывали ветеринара, сделали капли в шею, кололи уколы, увидели названия каких-то препаратов: Калфосет, Энроксил, Катозал, Кофеин. Причём одного тела не попало в вену, кололи раз 10 и в конце концов вводили под кожу, второго тела попало и вводили в вену. Было вчера, и сегодня тело не поднималось и хрипело, но пытались кушать. Носики холодны, поноса нет!\n"
          ]
        },
        {
          "output_type": "stream",
          "name": "stderr",
          "text": [
            "\r114it [24:45, 37.62s/it]"
          ]
        },
        {
          "output_type": "stream",
          "name": "stdout",
          "text": [
            "Очень нужна была помощь всем, у нас была корова с телёнка, в этом году она родила девочку, а в марте она погибла от аварии, это был сильнейший удар, мы решили завести новый корову, но еще и дойную, завели 9 апреля, корова 5 лет, закрыта на декабрь, спокойная, можно было ходить жидко, но после этого я ее проглистогонила, потом всё прошло. Корова уже начала дышать, а ранки, как только вышла из коровника, она снова начала ходить, а потом уже и дышать стала, но потом снова и снова дышать. Корова начала брыкать, сильно поносить, Кал выходит со слизистой, и она уже не стала ходить, но она уже стала пить, не хочется ничего делать, ничего не сделала, и не стала раскаиваться.\n"
          ]
        },
        {
          "output_type": "stream",
          "name": "stderr",
          "text": [
            "\r115it [24:56, 29.82s/it]"
          ]
        },
        {
          "output_type": "stream",
          "name": "stdout",
          "text": [
            "На венах образовались, с такими, даже не понимаем, как их правильно называть, кровь, сначала была на одной стороне, справа, теперь появилась на другой. Температура нормальная. И какие-то болевые ощущения и облысение на ногах.\n"
          ]
        },
        {
          "output_type": "stream",
          "name": "stderr",
          "text": [
            "\r116it [25:01, 22.19s/it]"
          ]
        },
        {
          "output_type": "stream",
          "name": "stdout",
          "text": [
            "Телёнка 6 дней, поносит уже два дня, вчера поставил укол Tилозин, улучшений нет.\n"
          ]
        },
        {
          "output_type": "stream",
          "name": "stderr",
          "text": [
            "\r117it [25:03, 16.31s/it]"
          ]
        },
        {
          "output_type": "stream",
          "name": "stdout",
          "text": [
            "Сухой кашель у тела, с чем это может быть связано?\n"
          ]
        },
        {
          "output_type": "stream",
          "name": "stderr",
          "text": [
            "\r118it [25:10, 13.33s/it]"
          ]
        },
        {
          "output_type": "stream",
          "name": "stdout",
          "text": [
            "Здравствуйте, уважаемые, кто сталкивался с подобной проблемой у коровы на всем теле мелкие шишки подкожных размеров рубля, на что это похоже? может глисты?\n"
          ]
        },
        {
          "output_type": "stream",
          "name": "stderr",
          "text": [
            "\r119it [25:26, 14.11s/it]"
          ]
        },
        {
          "output_type": "stream",
          "name": "stdout",
          "text": [
            "Добрый день, помогите, кто знает! Корова не ест три дня и не пьет (заливаем воду сильно), молоко не дает (мастит), впала бока, худела, жвачка нет, отрыжка нет, ветеринары ничего не рассказывают...только измеряют температуру (она нормальная). Что делать - вывели на улицу - стоит как заканчивается!\n"
          ]
        },
        {
          "output_type": "stream",
          "name": "stderr",
          "text": [
            "\r120it [25:37, 13.43s/it]"
          ]
        },
        {
          "output_type": "stream",
          "name": "stdout",
          "text": [
            "У телёнка на пуповине шишка. Подскажите пожалуйста, телёнка 1,5 месяца, у него какая-то шишка размером с куриным яйцом. Телёнок нормально себя ведёт, кушает хорошо, может кто-нибудь сталкивался с этим. За ответы спасибо заранее.\n"
          ]
        },
        {
          "output_type": "stream",
          "name": "stderr",
          "text": [
            "\r121it [25:49, 12.93s/it]"
          ]
        },
        {
          "output_type": "stream",
          "name": "stdout",
          "text": [
            "У коров появились боли на сосках, увеличивающиеся при доении Добрый день у меня двое дойных коров, у них какие-то боляки на сосках вылезают, стоять спокойно, при доении они сначала мелкие, потом большие, скажите что это может?\n"
          ]
        },
        {
          "output_type": "stream",
          "name": "stderr",
          "text": [
            "\r122it [25:54, 10.56s/it]"
          ]
        },
        {
          "output_type": "stream",
          "name": "stdout",
          "text": [
            "У меня телёнок ему плохо пьёт 3 недели, температура 39,7 градусов, поноса нет, а что делать?\n"
          ]
        },
        {
          "output_type": "stream",
          "name": "stderr",
          "text": [
            "\r123it [25:59,  8.80s/it]"
          ]
        },
        {
          "output_type": "stream",
          "name": "stdout",
          "text": [
            "Добрый день, у коровы после оттела молоко не идёт с двух долей. Антибиотики ставим вымя разтираем.\n"
          ]
        },
        {
          "output_type": "stream",
          "name": "stderr",
          "text": [
            "\r124it [26:06,  8.19s/it]"
          ]
        },
        {
          "output_type": "stream",
          "name": "stdout",
          "text": [
            "Ребята, скажите, малыш, 4 месяца, упал на ноги в течение дня, кишечник нормально, суставы тоже не воспалились, скажите чем лечить?\n"
          ]
        },
        {
          "output_type": "stream",
          "name": "stderr",
          "text": [
            "\r125it [26:30, 12.89s/it]"
          ]
        },
        {
          "output_type": "stream",
          "name": "stdout",
          "text": [
            "Помогите пожалуйста, у меня корова заболела, ветврачи не помогают, температура поднялась, спит, хрипит, и спит вдох более или менее есть (вдох через нос), а выдох почти нет, пузырьки и щёки пускают. Антибиотики лечились, результат нулевой, колола Нитокс-200, Бицилин-5, Ривициклин и корм – Норсульфазол. Пьётся нормально, не могу запустить доить, хоть раз в неделю доить (значит молоко не сбавляется). Может что-нибудь посоветуете?\n"
          ]
        },
        {
          "output_type": "stream",
          "name": "stderr",
          "text": [
            "\r126it [26:40, 12.08s/it]"
          ]
        },
        {
          "output_type": "stream",
          "name": "stdout",
          "text": [
            "Корова беременная, беременность где-то 8 месяцев, начала болезненно ходить, кушать и понемногу пить воду, потом через неделю совсем не вставала, почти не кушала, температура 39. Плоды шевелились... Помогите, что делать с ней?\n"
          ]
        },
        {
          "output_type": "stream",
          "name": "stderr",
          "text": [
            "\r127it [26:58, 13.98s/it]"
          ]
        },
        {
          "output_type": "stream",
          "name": "stdout",
          "text": [
            "Помогите, пожалуйста, девятого апреля отелилась корова. Вымя до отела очень твёрдое. После отела ветврача советовали оставить тело с корой. Оставили, но и молоко сама дояли. Две дольки стали мягче и грубее, а вторая сторона стала грубее. Молок значительно меньше, советуйте, как вымя принять в нормальном состоянии. Спасибо заранее, за советы.\n"
          ]
        },
        {
          "output_type": "stream",
          "name": "stderr",
          "text": [
            "\r128it [27:01, 10.53s/it]"
          ]
        },
        {
          "output_type": "stream",
          "name": "stdout",
          "text": [
            "Что нужно сделать, чтобы корова не закупорила дойки.\n"
          ]
        },
        {
          "output_type": "stream",
          "name": "stderr",
          "text": [
            "\r129it [27:06,  9.05s/it]"
          ]
        },
        {
          "output_type": "stream",
          "name": "stdout",
          "text": [
            "У собаки кожное заболевание, скажите какое? Помогите ветеринары! У собаки кожа сзади, это что за херня? Что делать, если нет?\n"
          ]
        },
        {
          "output_type": "stream",
          "name": "stderr",
          "text": [
            "\r130it [27:11,  7.89s/it]"
          ]
        },
        {
          "output_type": "stream",
          "name": "stdout",
          "text": [
            "Приветствую всех, вопрос: вытащил корову на прогулке потянул заднюю ногу? Посмотрела перелом, что делать, скажите, пожалуйста.\n"
          ]
        },
        {
          "output_type": "stream",
          "name": "stderr",
          "text": [
            "\r131it [27:31, 11.45s/it]"
          ]
        },
        {
          "output_type": "stream",
          "name": "stdout",
          "text": [
            "Добрый день всем! Телка 1,5 года, 2 месяца стельности, шишка выросла на вымени. Сначала маленькая, размер горошины, вет сказал может папилломы, может наколоть, мазать йодом, стала мазать, изменений нет, продолжает увеличиваться, месяц вырос до размера куриного яйца Цвет ее как и вымени, не шелушатся, на ней нет ранок, как обычная кожа. Что это, как лечить, опасен ли это?\n"
          ]
        },
        {
          "output_type": "stream",
          "name": "stderr",
          "text": [
            "\r132it [28:51, 32.01s/it]"
          ]
        },
        {
          "output_type": "stream",
          "name": "stdout",
          "text": [
            "Мне нужна консультация ветеринара по КРС, проблема с корой. Постараюсь рассказать о ситуации максимально подробно, если нужно что-то уточнить или проверить, посмотреть и посмотреть, описать. И вдруг... Вечером удой 5... Утром 2... Утром 1... И молоко «запускное»!!! Есть, не ест, не пьет, не хочется пить! Даже сильно не ест! Даже не пить, не пить и не пить! Не ест, даже силой не вливать. Спина ровна, не ела, не пью, не пила (не хочется даже пить, даже не пьешь, не ешь. Не хочешь пить, а еще и пить очень сильно и очень избирательно, а не пить.\n"
          ]
        },
        {
          "output_type": "stream",
          "name": "stderr",
          "text": [
            "\r133it [28:54, 23.34s/it]"
          ]
        },
        {
          "output_type": "stream",
          "name": "stdout",
          "text": [
            "Телка имеет залысину и она его расцрапывает, что это?\n"
          ]
        },
        {
          "output_type": "stream",
          "name": "stderr",
          "text": [
            "\r134it [29:02, 18.53s/it]"
          ]
        },
        {
          "output_type": "stream",
          "name": "stdout",
          "text": [
            "Чем поить тёлку, если сильно поносит?Добрый день, тёлочка 2,5 месяца, очень поносит, ветврача разводит руки, поделитесь своим опытом, чем поить?\n"
          ]
        },
        {
          "output_type": "stream",
          "name": "stderr",
          "text": [
            "\r135it [29:08, 15.05s/it]"
          ]
        },
        {
          "output_type": "stream",
          "name": "stdout",
          "text": [
            "Тёлку чешется, шерсть стала облазить вокруг глаз, чем помочь? Тёлку один год, не беременная, сильно шелушится, шерсть вокруг глаз стали облазить, чем ее помочь?\n"
          ]
        },
        {
          "output_type": "stream",
          "name": "stderr",
          "text": [
            "\r136it [29:12, 11.56s/it]"
          ]
        },
        {
          "output_type": "stream",
          "name": "stdout",
          "text": [
            "Тело умерло, кал с кровью из заднего прохода, что это такое?\n"
          ]
        },
        {
          "output_type": "stream",
          "name": "stderr",
          "text": [
            "\r137it [30:09, 25.19s/it]"
          ]
        },
        {
          "output_type": "stream",
          "name": "stdout",
          "text": [
            "Привет, помогите моему телу! У нее было всего 24 дня колики, где-то 9 дней от роду, ее прокололи антибиотики (и думаю, что флора могла сильно нарушиться) До антибиотиков стул был обычный, но иногда капли крови капали из попы, а после антибиотиков - только один раз, и стул стал очень жидким, почти как понос, я стала добавлять в молоко овсяные и гречневые каши, а также по совету немного простыни и прокисного молока, чтобы улучшить питание.\n"
          ]
        },
        {
          "output_type": "stream",
          "name": "stderr",
          "text": [
            "\r138it [30:32, 24.59s/it]"
          ]
        },
        {
          "output_type": "stream",
          "name": "stdout",
          "text": [
            "Добрый день, вопрос к ветеринару. Подскажите пожалуйста. У нас в деревне тела начали кашлять, белая слизь в носу видна (немного), отказались от еды в течение 3 дней, подохло 7 шт (телки покупали неизвестно где), теперь у соседей началась та же проблема (телки куплены), вызывали местного ветеринара, он сказал что ничего не знает, не может поставить диагноз, назначил витамины, и уехали, потому что у нас тут не делают таких, это нереально.\n"
          ]
        },
        {
          "output_type": "stream",
          "name": "stderr",
          "text": [
            "\r139it [31:32, 35.22s/it]"
          ]
        },
        {
          "output_type": "stream",
          "name": "stdout",
          "text": [
            "Температура у телят Купили телят с авито, купили 3 мес, и максимум 2.5... Сначала всё хорошо, потом начали пить, и конъюнктивиты и сопли, одна кашля, мы прокололи антибиотики, стул восстановили, но сейчас через 5 дней тот, который меньше стал плохо вставать, и сегодня вообще не вставать (пытался, но ничего не получилось, надо было поить его лёд. Померила температура, 36.2, значит он болит... Купили витамины и железо, теперь муж поехал за еще одним лекарством, это будет лечение какое-то, что температура такая... Купили овс и мою воду, привыкли к еде, на вкус овс не горький, то есть нормальный, так сказали... У телят впервые держим, а для нас это еще два маленьких ребенка! Купил витамины (гранулы), они лежат на лизинге с витаминами, у кого такая температура у телят?\n"
          ]
        },
        {
          "output_type": "stream",
          "name": "stderr",
          "text": [
            "\r140it [31:52, 30.74s/it]"
          ]
        },
        {
          "output_type": "stream",
          "name": "stdout",
          "text": [
            "Что делать, если корова после отеля даёт мало молока? Вчера вечером у меня корова отелилась вторым отёлом, подоила ее, сразу сдала 8 литров, утром сдала 3 литров и в обед 2 литров, вымя при этом не сильно отёкло, в чём дело? Ведь в этом году при первом отёле она хорошо доела, 20 литров в день. Подскажите что делать, как делать? Но вот в чем проблема, вымя не отёкло.\n"
          ]
        },
        {
          "output_type": "stream",
          "name": "stderr",
          "text": [
            "\r141it [32:03, 24.57s/it]"
          ]
        },
        {
          "output_type": "stream",
          "name": "stdout",
          "text": [
            "Тёмно-коричневые жидкости из вымени коровы Помогите, корова сильная, через десять дней отошла, запускалась плохо, теперь решили сдать тёмно-коричневую жидкость из одной сиськи, что это, скажите пожалуйста?\n"
          ]
        },
        {
          "output_type": "stream",
          "name": "stderr",
          "text": [
            "\r142it [32:12, 19.89s/it]"
          ]
        },
        {
          "output_type": "stream",
          "name": "stdout",
          "text": [
            "Кашель у ребенка. У двухмесячного ребенка кашель и мокрота. Но они не откашляются. Состояние угнетенное. Аппетит и температуры нормальные. Три дня принимали Левотетрасульфина. Не помогало.\n"
          ]
        },
        {
          "output_type": "stream",
          "name": "stderr",
          "text": [
            "\r143it [32:24, 17.76s/it]"
          ]
        },
        {
          "output_type": "stream",
          "name": "stdout",
          "text": [
            "Телёнка пол года, проходят шишки, проходят слезы, глаза слезают, нос весь распух в ранах, лежать не встает. Кормлю сухой молоком, то есть заливаю, начались проблемы с задним проходом, тоже все распухание плохо опорожнялось, может кто-то знает что делать??\n"
          ]
        },
        {
          "output_type": "stream",
          "name": "stderr",
          "text": [
            "\r144it [32:28, 13.50s/it]"
          ]
        },
        {
          "output_type": "stream",
          "name": "stdout",
          "text": [
            "Что делать если тёлка сломалась? Тёлка сломалась полтора месяца.\n"
          ]
        },
        {
          "output_type": "stream",
          "name": "stderr",
          "text": [
            "\r145it [32:49, 15.77s/it]"
          ]
        },
        {
          "output_type": "stream",
          "name": "stdout",
          "text": [
            "Проблемы с ногами у коровы, как лечить, помогите! Скажите пожалуйста, корова первая, родила двойня, родила сама, роды были тяжелые и тяжёлые, теперь проблемы с задние ноги. Или стоит корова — не садится, или не встает, это не послеродовое порез, потому что чувствительность, врачи ничего не могут помочь, один хлористый делают и всё. После отъезда прошло 2 недели, спасибо.\n"
          ]
        },
        {
          "output_type": "stream",
          "name": "stderr",
          "text": [
            "\r146it [32:59, 13.94s/it]"
          ]
        },
        {
          "output_type": "stream",
          "name": "stdout",
          "text": [
            "У коровы на шее была небольшая рана, быстро зарубленная, но сейчас эта доля стала весьма твердой и опухшей, при этом дотягивается хорошо, но не дает дотрагиваться до шее для массажа. Посоветуйте что делать?\n"
          ]
        },
        {
          "output_type": "stream",
          "name": "stderr",
          "text": [
            "\r147it [33:04, 11.50s/it]"
          ]
        },
        {
          "output_type": "stream",
          "name": "stdout",
          "text": [
            "У нас такая проблема: тёлка, 7 месяцев, не растет, поносит целый месяц, что же делать? Лоперамид давали, не помогают.\n"
          ]
        },
        {
          "output_type": "stream",
          "name": "stderr",
          "text": [
            "\r148it [33:22, 13.23s/it]"
          ]
        },
        {
          "output_type": "stream",
          "name": "stdout",
          "text": [
            "Скажите пожалуйста, у меня были бычки на корме и одна из них начала кашлять, появились сопли, перестали набирать вес, затем рядом стоящий заболел и так поочередно, все стали кашлять. А мокрота летит во время кашля, а корова кашляет после покушения корма перед коровкой, а теленок кашляет при сосе, может кто-то сталкивался с подобной болезнью.\n"
          ]
        },
        {
          "output_type": "stream",
          "name": "stderr",
          "text": [
            "\r149it [33:50, 17.75s/it]"
          ]
        },
        {
          "output_type": "stream",
          "name": "stdout",
          "text": [
            "Добрый день, я хочу совета. У нас проблема. Корова первая, длинная (7 см) соска и тонкая. Три соска доходят отлично, как аппарат, так и руки. А четвертая очень плотная и с каждым днем всё тяжелее и тяжелее сдавать молоко, как будто канал растет, у матери три соска, Четвертая усоха. Но в доле, как бы молоко, дайте совет. Корова получена по наследству, у меня только пол года, может попробовать вставить катушку и так сдавать? А то боюсь, что у другой сосок зарастет.\n"
          ]
        },
        {
          "output_type": "stream",
          "name": "stderr",
          "text": [
            "\r150it [34:04, 16.67s/it]"
          ]
        },
        {
          "output_type": "stream",
          "name": "stdout",
          "text": [
            "Можно ли спасти 3-дневного телёнка из фермы без молока Здравствуйте, купил 3-дневной телёнок с фермы, даю ему ЗЦМ сейчас 6 дней, встает плохо, ослаб, продолжает пить не отказывается, понос нет, что это такое? Что с вторым телёнком всё нормально, молоко нет, можно ли спасти?\n"
          ]
        },
        {
          "output_type": "stream",
          "name": "stderr",
          "text": [
            "\r151it [34:07, 12.62s/it]"
          ]
        },
        {
          "output_type": "stream",
          "name": "stdout",
          "text": [
            "Добрый день, почему шерсть на шее у моей стельной кошки облезает?\n"
          ]
        },
        {
          "output_type": "stream",
          "name": "stderr",
          "text": [
            "\r152it [34:13, 10.42s/it]"
          ]
        },
        {
          "output_type": "stream",
          "name": "stdout",
          "text": [
            "У быка вдруг опухоль передних суставов на ногах лежит, лежит бык не встает, нет перелома, зерна не объедились.\n"
          ]
        },
        {
          "output_type": "stream",
          "name": "stderr",
          "text": [
            "\r153it [34:17,  8.49s/it]"
          ]
        },
        {
          "output_type": "stream",
          "name": "stdout",
          "text": [
            "Укоровы закупориваются одной дойки, уже дважды пробивали — не помогают. Что же делать?\n"
          ]
        },
        {
          "output_type": "stream",
          "name": "stderr",
          "text": [
            "\r154it [34:19,  6.77s/it]"
          ]
        },
        {
          "output_type": "stream",
          "name": "stdout",
          "text": [
            "Хотелось бы узнать о каких-то препаратах от клещей для коров.\n"
          ]
        },
        {
          "output_type": "stream",
          "name": "stderr",
          "text": [
            "\r155it [34:28,  7.33s/it]"
          ]
        },
        {
          "output_type": "stream",
          "name": "stdout",
          "text": [
            "Привет, помогите мне, у моей коровы правой стороны на челюсти шишка вылезла, она твердая, и корова стала редко жевывать жвачку, не понимаю что это такое, помогите, пожалуйста.\n"
          ]
        },
        {
          "output_type": "stream",
          "name": "stderr",
          "text": [
            "\r156it [34:33,  6.61s/it]"
          ]
        },
        {
          "output_type": "stream",
          "name": "stdout",
          "text": [
            "Скажите пожалуйста, бычка 5 мес. стала плохо стоять на ноге, ест нормально, что делать, чтобы поставить его на ноги?\n"
          ]
        },
        {
          "output_type": "stream",
          "name": "stderr",
          "text": [
            "\r157it [34:49,  9.61s/it]"
          ]
        },
        {
          "output_type": "stream",
          "name": "stdout",
          "text": [
            "Дегтеобразный селезёнок при осмотре теленка 7 месяцев. При осмотре телёнка обнаружено селезённое дегтеобразное, но не течет, а при скоблении, лимфоузлы нормальные, печень нормальная, кровоизлияния нигде нет, сердце чистое, рубец нормальный, почки нормальные, труп окоченения нормальный, кровь свернутая, что это такое?\n"
          ]
        },
        {
          "output_type": "stream",
          "name": "stderr",
          "text": [
            "\r158it [35:14, 14.16s/it]"
          ]
        },
        {
          "output_type": "stream",
          "name": "stdout",
          "text": [
            "Здравствуйте, уважаемые форумчане, у теленка пошел третий месяц, родился в мае от первотела, тело мы не видели, тело родилось очень маленькое, но сейчас выправило. Через два месяца после рождения стал нос облазить, сначала чуть-чуть потом заживает, потом только каждый раз слабее, теперь какие-то гнойные корочки покрылись и грязные. Наша ветврача сказала, что цинка не хватает, проставила ее витаминами цинка, а воз там и теперь.\n"
          ]
        },
        {
          "output_type": "stream",
          "name": "stderr",
          "text": [
            "\r159it [35:17, 10.61s/it]"
          ]
        },
        {
          "output_type": "stream",
          "name": "stdout",
          "text": [
            "У новорожденной опухоль на вымени, что делать?\n"
          ]
        },
        {
          "output_type": "stream",
          "name": "stderr",
          "text": [
            "\r160it [35:36, 13.38s/it]"
          ]
        },
        {
          "output_type": "stream",
          "name": "stdout",
          "text": [
            "У коровы перед отъездом появилась припухла и хромота Здравствуйте, проблема: корова тела 10 дней, но начинает хромать на правой ноге, припухла сверху ног и не полностью ее разгибает! Чем можно помочь и что это может быть? Я думаю, может, потому что она большая и пузатая, но отёки нет и прогулки как таковые нет, а ее большую часть времени она лежит в сарае!\n"
          ]
        },
        {
          "output_type": "stream",
          "name": "stderr",
          "text": [
            "\r161it [35:43, 11.39s/it]"
          ]
        },
        {
          "output_type": "stream",
          "name": "stdout",
          "text": [
            "Месячный теленок неожиданно стал пить. Лежит, встает, слабый совсем. Советуйте что-то. Забыл написать, что пьет хоть немного, но молоко.\n"
          ]
        },
        {
          "output_type": "stream",
          "name": "stderr",
          "text": [
            "\r162it [35:57, 12.23s/it]"
          ]
        },
        {
          "output_type": "stream",
          "name": "stdout",
          "text": [
            "У меня проблема, у меня корова два дня назад отелилась, не доносила бычка, сдохла! Ветеринар пришел, чистил место! Дой второй день, даёт мало молока, даже половину литра молока нет, типа вымя налилось и соски пустые! массаж делаю каждые 2 часа и все бестолково! Что делать?\n"
          ]
        },
        {
          "output_type": "stream",
          "name": "stderr",
          "text": [
            "\r163it [36:26, 17.03s/it]"
          ]
        },
        {
          "output_type": "stream",
          "name": "stdout",
          "text": [
            "Корова отказалась есть, пить и жвачку помогите советом!! Как всегда нельзя дозвониться до ветеринара... Корова будет второй отел сегодня с утра молока в 3 раза меньше, чем обычно отказалась, ела, пила и вроде нет жвачки, встает, потом встает, что-то попытается копытом, чтобы почесать вымя, и снова встает. С ночи у неё больше кучи. Кормится, кстати, её сено и вода, вечером даёт немного дробления и очистки овощей...\n"
          ]
        },
        {
          "output_type": "stream",
          "name": "stderr",
          "text": [
            "\r164it [36:55, 20.81s/it]"
          ]
        },
        {
          "output_type": "stream",
          "name": "stdout",
          "text": [
            "Телёнок не встаёт на переднюю ногу Телёнка 4 месяца, вечером весело бегал, утром плохо вставал, а вечером совсем не вставал. Передняя нога поджала под себя и задняя отталкивалась, так передвигалась по сараю. Есть и пьёт нормально, пытается вставать, но передняя нога не разгибается, стоит на коленях. Вид бодрый. Что сделать, скажите, если у кого-то такое заболевание. У нас в деревне у многих, которые покупали в колхозе телят, проблема.\n"
          ]
        },
        {
          "output_type": "stream",
          "name": "stderr",
          "text": [
            "\r165it [37:11, 19.27s/it]"
          ]
        },
        {
          "output_type": "stream",
          "name": "stdout",
          "text": [
            "По какой причине корова солёное молокоКорова два отошла здоровой по всему внешнему признаку, с помощью стала молоко давать. Мы в том году её не водили к быку, но стояла с быком на сегодняшний день, ему год. Ветеринар сказал, что она не стельная, корм хороший, вес 530 кг, у коровы плохое молоко.\n"
          ]
        },
        {
          "output_type": "stream",
          "name": "stderr",
          "text": [
            "\r166it [37:57, 27.21s/it]"
          ]
        },
        {
          "output_type": "stream",
          "name": "stdout",
          "text": [
            "Добрый день, форумчане, помогите советом, может кто-то сталкивался с этим... Купили корову два дня назад, когда ее сняли с машины, она опустилась и упала около 50 см, лежала долго (около часа), как-то растолкала, поднялась и шла во двор, прихрамывая и сдерживая заднюю ногу, но не получается! Поднимать заднюю не может, сегодня ветеринар повторил процедуру.... Помогите, может кому-то с этим сталкивался! Может стоит поднять ее на ногах, и легла ей легче, но не может! Заднюю ногу поднять не может.\n"
          ]
        },
        {
          "output_type": "stream",
          "name": "stderr",
          "text": [
            "\r167it [38:23, 26.90s/it]"
          ]
        },
        {
          "output_type": "stream",
          "name": "stdout",
          "text": [
            "Малыш не может пойти в туалет, что делать? Здравствуйте, Малыш родился сам, пришел и поднял его к матери, она не стала лизать его первый корм был нормальный он пил после этого на второй раз теленок не пил, жаловался на живот, не ходил в туалет уже ставили клизмы, масло пили и лекарства против запора не помогают уже третий день Малыша мучает нос красный, думала температура, колола укол, вроде помогает, но потом опять красный, при клизме выходит какая-то слизистая и кровь, скажите что делать.\n"
          ]
        },
        {
          "output_type": "stream",
          "name": "stderr",
          "text": [
            "\r168it [38:43, 24.77s/it]"
          ]
        },
        {
          "output_type": "stream",
          "name": "stdout",
          "text": [
            "Подскажите пожалуйста совет!! Теленка 3 недели взяла на ферме две недели назад, неделю назад шерсть стала выпадать местами клочками шеи, лоба, ног на заднем проходе, теперь еще и начала выпадать эти лысины, кормим ЗЦМ в день 6 литров, комбайн начал давать овощи по немножко, микс Гаврюша и мел. Позвонили на ферму, зоотехник сказал контакт с водой(попал под дождь), а что делать!!\n"
          ]
        },
        {
          "output_type": "stream",
          "name": "stderr",
          "text": [
            "\r169it [38:48, 19.02s/it]"
          ]
        },
        {
          "output_type": "stream",
          "name": "stdout",
          "text": [
            "Добрый день, у телят язвы между копытами и опух над копытом за два дня наблюдается у 6 телят. Что может быть такое?\n"
          ]
        },
        {
          "output_type": "stream",
          "name": "stderr",
          "text": [
            "\r170it [38:56, 15.62s/it]"
          ]
        },
        {
          "output_type": "stream",
          "name": "stdout",
          "text": [
            "Что делать, если корова загорелась без видимых причин Добрый день, у меня загорелась корова на левой заднице. Посмотрела копыт, камней нет, припухлости не было. Что же делать?\n"
          ]
        },
        {
          "output_type": "stream",
          "name": "stderr",
          "text": [
            "\r171it [39:03, 12.93s/it]"
          ]
        },
        {
          "output_type": "stream",
          "name": "stdout",
          "text": [
            "Добрый день, ребенок родился и на копытах не стоит. Они спереди подвёрнуты внутрь, стоит на суставах.Что делать, скажите. Телёнок 7 дней.\n"
          ]
        },
        {
          "output_type": "stream",
          "name": "stderr",
          "text": [
            "\r172it [39:08, 10.61s/it]"
          ]
        },
        {
          "output_type": "stream",
          "name": "stdout",
          "text": [
            "Быку 10 месяцев, слабый аппетит, угнетение, прозрачная сыпь в носу, температура 39,1 градуса, понос, как лечить?\n"
          ]
        },
        {
          "output_type": "stream",
          "name": "stderr",
          "text": [
            "\r173it [39:24, 12.21s/it]"
          ]
        },
        {
          "output_type": "stream",
          "name": "stdout",
          "text": [
            "Добрый вечер! Телка на шею на затылке внизу ближе к плечам огрубевшая кожа, как будто складки не расходятся и шелушятся корочки, ветеринар сказал, что нужно мазать \"ЯМ\", кто-то сталкивался с таким болячком что может и кто пользовался этой мазью? ветеринар не смотрел телку сразу сказал за мазь.\n"
          ]
        },
        {
          "output_type": "stream",
          "name": "stderr",
          "text": [
            "\r174it [40:14, 23.70s/it]"
          ]
        },
        {
          "output_type": "stream",
          "name": "stdout",
          "text": [
            "Добрый день, я очень жду вашего совета и помощи. Купил телят, начал поить зцм, начал понос. Кололи 4 дня, тилозин 200, потом 750, потом 1250, и вот на 4-5 дня приёма лечения, когда мы еще не собирались бросить лечение, чтобы сытно было добавить в смесь кусочек хлеба. Начался еще худший понос, Телята пукаются. Кал желтый, жидкий. И страшно, как дети, пусть даже коровы, но их очень жалко. Даже не вопрос о потере вложений, а жалко как ребенок, пусть и коров, но они же дети! Вопрос: что сейчас кормить? Чем кормить теперь, чтобы покормить и что покупать из лекарств? Помогите. Он первый опыт, до этого у нас не было коров и телят.\n"
          ]
        },
        {
          "output_type": "stream",
          "name": "stderr",
          "text": [
            "\r175it [40:22, 19.05s/it]"
          ]
        },
        {
          "output_type": "stream",
          "name": "stdout",
          "text": [
            "Чем лечение коровы, если они сильно хромают? Коровы очень хромают, удар был в заднюю ногу, какой-то дурачок ударил, чем лечить? Спасибо, милые ветеринары!\n"
          ]
        },
        {
          "output_type": "stream",
          "name": "stderr",
          "text": [
            "\r176it [41:01, 24.81s/it]"
          ]
        },
        {
          "output_type": "stream",
          "name": "stdout",
          "text": [
            "У телёнка желтый стул, серая рвота и потом смерть, что за болезнь, как лечить? Скажите, пожалуйста, а помогите, если можете! Мы уже консультировали и лечили многих ветеринаров! От коровы родились два телёнка, одна послабее, вторая покрепче, через 3 недели, тот послабее стал отказываться от еды, через 4 дня (телом было месяц) слегка, перестала вставать, стул желтый, густой массы, после кормления появились те же симптомы, что и у второго, третьего дня плохо ест, а вчера вечером появилось: желтой стул и серую рвоту. Телёнок погиб!\n"
          ]
        },
        {
          "output_type": "stream",
          "name": "stderr",
          "text": [
            "\r177it [41:22, 23.81s/it]"
          ]
        },
        {
          "output_type": "stream",
          "name": "stdout",
          "text": [
            "Мне нужно помочь в вопросе, сегодня утром на щеке бычка появилась шишка размером с куриным яйцом, твердая на ощупь, аппетит какой-то нормальный, корма не меняла, воды всегда чистые даю без всякого труда. Сено тоже нормальный, не твердый, не промокал. Что делать, пожалуйста?\n"
          ]
        },
        {
          "output_type": "stream",
          "name": "stderr",
          "text": [
            "\r178it [41:36, 20.88s/it]"
          ]
        },
        {
          "output_type": "stream",
          "name": "stdout",
          "text": [
            "У коровы отёк около пупка. Через месяц после отеля корова начала какую-то непонятную опухоль в области пупка за 5 день выросла и сравнялась с выменем советовался с ветеринаром они не знают, что это такое советуют гентамицин 5 день по 20 мл проводил 3 вроде немного спать может кто-нибудь посоветует.\n"
          ]
        },
        {
          "output_type": "stream",
          "name": "stderr",
          "text": [
            "\r179it [41:44, 17.08s/it]"
          ]
        },
        {
          "output_type": "stream",
          "name": "stdout",
          "text": [
            "Корова не может вставать на ноги, но и есть и пить, жвачку есть, отруби даю(очень хорошо едят), молоко нормальное, 2 месяца до еды, что делать, а какие причины?\n"
          ]
        },
        {
          "output_type": "stream",
          "name": "stderr",
          "text": [
            "\r180it [41:59, 16.33s/it]"
          ]
        },
        {
          "output_type": "stream",
          "name": "stdout",
          "text": [
            "Добрый день, дорогие коллеги, помогите советом! Купили телята (3 месяца), столкнулись с диареей, чем лечить? Говорят владельцы - содержание хорошее, получили материнское молоко, просмотрели много препаратов, наткнулись на пробиотик Спороват, отзывы впечатляют и нет нареканий по инструкции, может кто применил?\n"
          ]
        },
        {
          "output_type": "stream",
          "name": "stderr",
          "text": [
            "\r181it [42:02, 12.43s/it]"
          ]
        },
        {
          "output_type": "stream",
          "name": "stdout",
          "text": [
            "Как проводить профилактику нарушений пищеварения у животных с 5 до 10 дней жизни?\n"
          ]
        },
        {
          "output_type": "stream",
          "name": "stderr",
          "text": [
            "\r182it [42:14, 12.13s/it]"
          ]
        },
        {
          "output_type": "stream",
          "name": "stdout",
          "text": [
            "Здравствуйте, скажите пожалуйста, что может быть корова 9 лет стянута месяца 7 где-то, три дня как невесёлая, мало ест и сегодня заметил, что жвачку ест. Может быть, что причина? Дробленка ест, а сено ест неохотно.\n"
          ]
        },
        {
          "output_type": "stream",
          "name": "stderr",
          "text": [
            "\r183it [42:21, 10.61s/it]"
          ]
        },
        {
          "output_type": "stream",
          "name": "stdout",
          "text": [
            "Как лечить пятна на носу у тела как лечить? У тела три месяца на носу появились пятна, похожие на пятна, что это может и как их лечить? Теленок на заменитель.\n"
          ]
        },
        {
          "output_type": "stream",
          "name": "stderr",
          "text": [
            "\r184it [42:27,  9.35s/it]"
          ]
        },
        {
          "output_type": "stream",
          "name": "stdout",
          "text": [
            "Новообразование у неё. Добрый день, пожалуйста, помогите разобраться с ростом живота у неё, появилось 1,5 года назад, растет, не как беспокоит.\n"
          ]
        },
        {
          "output_type": "stream",
          "name": "stderr",
          "text": [
            "\r185it [42:37,  9.37s/it]"
          ]
        },
        {
          "output_type": "stream",
          "name": "stdout",
          "text": [
            "Первотелка отелялась, а молока из одного соска не было.Пробовали вставить катетер, двигаться на 1 см и всё.Дальше двигаться боимся. Теленок сосет, но быстро бросает, потому что молока в ней нет.\n"
          ]
        },
        {
          "output_type": "stream",
          "name": "stderr",
          "text": [
            "\r186it [42:48, 10.08s/it]"
          ]
        },
        {
          "output_type": "stream",
          "name": "stdout",
          "text": [
            "Ножки выпрямились, теленок родился, активно ест, весело, но не может встать на ноги, хотя и попытки были, пробовал ставить сам, но как бы не понял, как стоит стоять. Ставить ноги правильно, потом суставы гибнут в другую сторону, как это исправить?\n"
          ]
        },
        {
          "output_type": "stream",
          "name": "stderr",
          "text": [
            "\r187it [42:54,  8.84s/it]"
          ]
        },
        {
          "output_type": "stream",
          "name": "stdout",
          "text": [
            "У ребенка (8 месяцев) мочой пахнет лекарство (но не давал ничего), а на шеи струп, шерсть не выпала, чешется. Скажите что это?\n"
          ]
        },
        {
          "output_type": "stream",
          "name": "stderr",
          "text": [
            "\r188it [43:05,  9.51s/it]"
          ]
        },
        {
          "output_type": "stream",
          "name": "stdout",
          "text": [
            "Добрый день, уважаемые форумчане хочу купить корову, но сталкивался с таким вопросом, коровочка на венах болит, хозяин говорит что они периодически возникают, а затем исчезают, возможно кто-то сталкивался такой проблемой, что это за болезнь, как её лечить?\n"
          ]
        },
        {
          "output_type": "stream",
          "name": "stderr",
          "text": [
            "\r189it [43:18, 10.49s/it]"
          ]
        },
        {
          "output_type": "stream",
          "name": "stdout",
          "text": [
            "Добрый день, моя первотелка должна через неделю отелиться, решила проверить ее на молозив, кровь идет из сосков или что-то подобное, должен ли это быть или это порода (герефорд полукровка)? Это впервые в моей практике двадцать лет. Заранее благодарю за ответ.\n"
          ]
        },
        {
          "output_type": "stream",
          "name": "stderr",
          "text": [
            "\r190it [43:29, 10.45s/it]"
          ]
        },
        {
          "output_type": "stream",
          "name": "stdout",
          "text": [
            "Что делать, пожалуйста, сегодня брали кровь коровы на анализы, для этого в поисках вены искали пол шеи, в этом месте появилось большое шише, вероятно, внутреннее кровоизлияние, корова орет и не подпускает к себе.\n"
          ]
        },
        {
          "output_type": "stream",
          "name": "stderr",
          "text": [
            "\r191it [43:37,  9.77s/it]"
          ]
        },
        {
          "output_type": "stream",
          "name": "stdout",
          "text": [
            "У корова большой отёк на шею, ветврача сказали, что корова была наколота и нарывом. Прописали мазь, но ничего не было. Может кто-то похож?\n"
          ]
        },
        {
          "output_type": "stream",
          "name": "stderr",
          "text": [
            "\r192it [43:45,  9.22s/it]"
          ]
        },
        {
          "output_type": "stream",
          "name": "stdout",
          "text": [
            "Кто подскажет что это за ерунда. Телка сильная (вот-вот тела), молозив в венах нет, есть какая-то коричневая вода. Как это может быть, и как ее лечить? Спасибо заранее.\n"
          ]
        },
        {
          "output_type": "stream",
          "name": "stderr",
          "text": [
            "\r193it [44:14, 15.31s/it]"
          ]
        },
        {
          "output_type": "stream",
          "name": "stdout",
          "text": [
            "После отела корова заболела Через пять дней после отела заболела корова. Упала аппетитная и жвачная сыпь, появилась опухоль под брюшной стороной (подбородок вывисает мешком), голова закидает набок. Также проблемы с стулом, реагирует. Эти симптомы были и прошлым годом после отела. Вызвали ветеринара, с диагнозом не может определиться. Говорит, что это инородное тело. 2 дня ставят фосфор и кальций, тоже водка с растительным маслом напоила корову.\n"
          ]
        },
        {
          "output_type": "stream",
          "name": "stderr",
          "text": [
            "\r194it [44:19, 12.03s/it]"
          ]
        },
        {
          "output_type": "stream",
          "name": "stdout",
          "text": [
            "Упала на ноги упитанная бычка 11 месяцев, вечером все было в порядке, что сделать, температура 38.8\n"
          ]
        },
        {
          "output_type": "stream",
          "name": "stderr",
          "text": [
            "\r195it [44:58, 20.28s/it]"
          ]
        },
        {
          "output_type": "stream",
          "name": "stdout",
          "text": [
            "Что делать если корова опухла, а молока нет? Помогите! У меня корова 1.08 вечером опухла задняя левая доля, молока было, утром 2 - тоже, но молока не было, вечером - и передняя левая, молока всё равно нигде, корова неела, не пила Вечером 3 - левая доля посинела, пила по полу ведра, 4 - стала кушать, отдохнуть, пить, но улучшения нет. Ветбилин колю 3 дня подряд. Что может быть, может гадюка укусила, и всё это пройдёт? А еще та доля, которая первая опухла и кровь внизу холодна... Помогите, я не хочу терять корову...\n"
          ]
        },
        {
          "output_type": "stream",
          "name": "stderr",
          "text": [
            "\r196it [45:27, 23.03s/it]"
          ]
        },
        {
          "output_type": "stream",
          "name": "stdout",
          "text": [
            "Послеродовые отеки у коровы, как избавиться от отёка? Здравствуйте! Корова вчера утром отела сильно, отёка, наверное послеродовые, вчера за весь день пила 8,5 л молока всего, или нормально? Корова 3 отела. В норме молока всегда давала в среднем 12 л. Вчера доела 3 раза, сегодня наверное 4 буду, вот сегодня утром давала практически 5 л. Мне интересно, как снять отёк? И надо ли? Вмя массирую, оно не беспокоит, я думаю, и сколько в среднем должно давать кровь этого первого молочного дня? Спасибо.\n"
          ]
        },
        {
          "output_type": "stream",
          "name": "stderr",
          "text": [
            "\r197it [45:50, 22.76s/it]"
          ]
        },
        {
          "output_type": "stream",
          "name": "stdout",
          "text": [
            "Что делать если у бычков проплешины, что делать? Скажите пожалуйста, у двух четырехмесячных бычков были проплешины. Я смогла снять у одного, у первого на ноге, у второго тоже на плече и на попе, витамины проставлены. Можно ли так шерсть обветрить? Или что вообще? Шерсть как клочок выдрана и видно розовую кожу. Болячки нет. Чистая просто проплешина. Появилась у одного недели две назад, сегодня увидела.\n"
          ]
        },
        {
          "output_type": "stream",
          "name": "stderr",
          "text": [
            "\r198it [46:01, 19.45s/it]"
          ]
        },
        {
          "output_type": "stream",
          "name": "stdout",
          "text": [
            "У нас сегодня случилась беда у нас молоко у коровушки молоко с кровью в заднем правом соске и упругим вымя а молочная железа опухшая опухшая походу артерия или в задние вены прошупываются что делать, у нас с паводком не дозвониться до ветренаров\n"
          ]
        },
        {
          "output_type": "stream",
          "name": "stderr",
          "text": [
            "\r199it [47:04, 32.37s/it]"
          ]
        },
        {
          "output_type": "stream",
          "name": "stdout",
          "text": [
            "У меня первый год коровы, опыта нет. Купили осенью, первый теленок с ее первым телом, запустили в декабре (в последний раз попробовали 31 февраля, около 2 л), в начале февраля начался отек, ветеринары сказали убрать все корма кроме сена, сокращать воду, только отек стал спадать, коровы отелились (10 февраля), снова отекли, отек стал расти, а потом отек снова пошел. Вчера замечала, что молозиво рассыпалось на три фракции, с каждым разом после подачи (с 2 часа вчера) и мазь стала меньше, потому что отек пошел на спад. Сейчас коровы на сене и на воде (вода ограничена по 5 л после каждой дойки), боюсь вводить что-то ещё из-за отеков.\n"
          ]
        },
        {
          "output_type": "stream",
          "name": "stderr",
          "text": [
            "\r200it [47:06, 23.33s/it]"
          ]
        },
        {
          "output_type": "stream",
          "name": "stdout",
          "text": [
            "Что делать если у коровы есть шишки на теле\n"
          ]
        },
        {
          "output_type": "stream",
          "name": "stderr",
          "text": [
            "\r201it [47:08, 16.89s/it]"
          ]
        },
        {
          "output_type": "stream",
          "name": "stdout",
          "text": [
            "Что давать корову от поноса?\n"
          ]
        },
        {
          "output_type": "stream",
          "name": "stderr",
          "text": [
            "\r202it [47:14, 13.68s/it]"
          ]
        },
        {
          "output_type": "stream",
          "name": "stdout",
          "text": [
            "Телёнка 6 месяцев, повышение температуры достигает 40 градусов, учащенное дыхание, нос теплый и влажный, что нужно делать для телёнки?\n"
          ]
        },
        {
          "output_type": "stream",
          "name": "stderr",
          "text": [
            "\r203it [47:39, 16.95s/it]"
          ]
        },
        {
          "output_type": "stream",
          "name": "stdout",
          "text": [
            "Всем добрый день, прошу совета знающим людям. Ситуация такая: взяли месячных телят с фермы, слабые конечно, с поносами, но боремся с этим потихоньку. Одна маленькая теленка три дня назад начала слабеть, стул стал жиже, а не вода, ЗСМ пьет очень охотно, сена жует, жвачка. Но лежит все время, вообще не активная, ел еле вставать, иногда вообще стоять не может, сильно похудела, нос и рот очень холодные.\n"
          ]
        },
        {
          "output_type": "stream",
          "name": "stderr",
          "text": [
            "\r204it [47:56, 17.03s/it]"
          ]
        },
        {
          "output_type": "stream",
          "name": "stdout",
          "text": [
            "В одном соске у коровы возникло уплотнение, потом она перестала дышать, пыталась дышать всю зиму, а вы ходили одну каплю и не всегда, теперь коровы отелились. А эта доля очень оттекла и краснела, покраска перешла на другую и тоже стала жёсткой и горячей. Как снять отек?\n"
          ]
        },
        {
          "output_type": "stream",
          "name": "stderr",
          "text": [
            "\r205it [48:04, 14.39s/it]"
          ]
        },
        {
          "output_type": "stream",
          "name": "stdout",
          "text": [
            "Что делать если телёнок всё хуже встаёт? Друзья, пожалуйста, теленка 1,5 месяца, вялый, встаёт плохо, все хуже, витамины кололи, селен беломышечный тоже.\n"
          ]
        },
        {
          "output_type": "stream",
          "name": "stderr",
          "text": [
            "\r206it [48:09, 11.54s/it]"
          ]
        },
        {
          "output_type": "stream",
          "name": "stdout",
          "text": [
            "Телёнка 1 месяц, шотландская высокая порода, очень вспотела и поношена, что делать? Мама умерла.\n"
          ]
        },
        {
          "output_type": "stream",
          "name": "stderr",
          "text": [
            "\r207it [48:22, 11.82s/it]"
          ]
        },
        {
          "output_type": "stream",
          "name": "stdout",
          "text": [
            "Здравствуйте, помогите! Бычок самостоятельно не может встать на ноги уже 2 дня. Попытки подняться сохраняются, но не может. Поднимается, стоит уверенно, ходит. Пьет активно, ест комбикорм, сено, траву. Этот состояний предшествовал длительный понос, поставили дизпаркол.\n"
          ]
        },
        {
          "output_type": "stream",
          "name": "stderr",
          "text": [
            "\r208it [48:37, 13.02s/it]"
          ]
        },
        {
          "output_type": "stream",
          "name": "stdout",
          "text": [
            "Мой теленок постоянно рвущийся наотрез кушать отказался от еды сегодня во дворе на 15 минут оставил без внимания. Во время прогулок он часто схватывал с земли гравий, два - это дал небольшой кусочек свежей травы, а сено пришлось поменять на люцерновый, до этого было другое сорто. Кто что может подсказать, буду благодарен.\n"
          ]
        },
        {
          "output_type": "stream",
          "name": "stderr",
          "text": [
            "\r209it [48:44, 11.23s/it]"
          ]
        },
        {
          "output_type": "stream",
          "name": "stdout",
          "text": [
            "У коровы появились пролысины на шею. Подскажите, что может быть. Корова (12 февраля отелилась) появилась какая-то пролысина на шею с двух сторон.\n"
          ]
        },
        {
          "output_type": "stream",
          "name": "stderr",
          "text": [
            "\r210it [49:01, 12.92s/it]"
          ]
        },
        {
          "output_type": "stream",
          "name": "stdout",
          "text": [
            "Вчера у нашей первой тёлки родилась тёлка, отела сложная, ветврача вызывали, сказали нужно вырвать тёлку (тёлка не может родить) и мы помогли, тёлка ушла, но молока нет, и даем тёлке молоко от других кошек, но сегодня заметил у него зеленый как резина понос, может из-за чужого молока?\n"
          ]
        },
        {
          "output_type": "stream",
          "name": "stderr",
          "text": [
            "\r211it [49:25, 16.06s/it]"
          ]
        },
        {
          "output_type": "stream",
          "name": "stdout",
          "text": [
            "Здравствуйте! Теленок уже 3 дня не встаёт на ноги, когда поить поднимается и стоит, молоко выпить и падать, а сегодня даже не стоит, Теленок месяц, поел ЗЦМ, кал как каша, бело-желтый, как будто не переваривается и похудел, колол тилозин 2 мл-2 дня, а затем сыворотку колол для того, чтобы улучшить пищеварение (название не помню, пузырь выкинул), что делать?\n"
          ]
        },
        {
          "output_type": "stream",
          "name": "stderr",
          "text": [
            "\r212it [49:33, 13.66s/it]"
          ]
        },
        {
          "output_type": "stream",
          "name": "stdout",
          "text": [
            "Как избавиться от бородавок на вымени коровы. Коровы на соске имеют большие бородавки. Сначала они вырастают, потом они лопаются, кровоточат, отпадают, а затем они снова растут.\n"
          ]
        },
        {
          "output_type": "stream",
          "name": "stderr",
          "text": [
            "\r213it [49:45, 13.11s/it]"
          ]
        },
        {
          "output_type": "stream",
          "name": "stdout",
          "text": [
            "Добрый вечер, корова визуально здорова, и не ест плохо, и пить воду почти не пьёт, ест лишь сочную с аппетитом, Уда снизилась за несколько дней прилично, помет нормальный, но мало, потому что мало ест. Ничего не выделяет. Подскажите кто что может.\n"
          ]
        },
        {
          "output_type": "stream",
          "name": "stderr",
          "text": [
            "\r214it [49:55, 12.16s/it]"
          ]
        },
        {
          "output_type": "stream",
          "name": "stdout",
          "text": [
            "Твоя тёлка уже недели две кашляет и вытягивает шею, как-то похудела, посоветовали проколоть метронидозол. Проколола. Похоже, аппетит лучше, так что делать, скажите. У меня тёлка 1,5 года.\n"
          ]
        },
        {
          "output_type": "stream",
          "name": "stderr",
          "text": [
            "\r215it [50:09, 12.98s/it]"
          ]
        },
        {
          "output_type": "stream",
          "name": "stdout",
          "text": [
            "По срокам отеля переходила 8 дней. Сильный отёк вен, капли крови выдавливаются со всех четырех долей, в рационе сено, свекла, дрожжевое зерно.С прошлого дня в рационе только сено, вода полностью нормы.Как еще предотвратить такую отёчность, ведь через месяц отел еще 2 нетелей?\n"
          ]
        },
        {
          "output_type": "stream",
          "name": "stderr",
          "text": [
            "\r216it [50:35, 16.63s/it]"
          ]
        },
        {
          "output_type": "stream",
          "name": "stdout",
          "text": [
            "Добрый день, товарищи фуромчане, снова прошу помощи, два дня назад заметили внизу живота непонятные опухоли, ветеринар не сказал ничего внятного(потрогал,пощупал,сказал нужно посмотреть). Мы переживаем и переживаем, если на нее надавить сильнее, корова брычит даже переднюю ногу, температуры нет,поведение нормальное,не грустно.Что-то такое было в раздойке, но после доек все исчезло. На последней фотографии правая сторона,а шишка слева.\n"
          ]
        },
        {
          "output_type": "stream",
          "name": "stderr",
          "text": [
            "\r217it [50:37, 12.35s/it]"
          ]
        },
        {
          "output_type": "stream",
          "name": "stdout",
          "text": [
            "Что делать если вымя у коровы опухло?\n"
          ]
        },
        {
          "output_type": "stream",
          "name": "stderr",
          "text": [
            "\r218it [50:47, 11.70s/it]"
          ]
        },
        {
          "output_type": "stream",
          "name": "stdout",
          "text": [
            "Чем лечить ребенка, если он заболел кашлем, выделением из носа и не встает? Месячный ребенок заболел, стал кашлять, выделяются из носа, а теперь совсем не встает. У нас ветврача нигде нет. Помочь ему можно?\n"
          ]
        },
        {
          "output_type": "stream",
          "name": "stderr",
          "text": [
            "\r219it [50:54, 10.19s/it]"
          ]
        },
        {
          "output_type": "stream",
          "name": "stdout",
          "text": [
            "Чем можно лечить гной на ноге у тела? У тела опух суставы около копыта, гной появился через неделю, на ноге не встает что делать?\n"
          ]
        },
        {
          "output_type": "stream",
          "name": "stderr",
          "text": [
            "\r220it [51:15, 13.42s/it]"
          ]
        },
        {
          "output_type": "stream",
          "name": "stdout",
          "text": [
            "У коровы горчит молоко, помогите советом. Корова телится в мае, искусственное осеменение, с января месяца молоко стало горчить, сначала появился посторонний, не навозный привкус, а теперь уже сильно горчит, пока парня ещё можно пить, а постоять и горчит, чем дольше стоит и тем больше горчит, что может быть, ничего врач подсказать не может, хотя врач опытный, и мы доверяем ему.\n"
          ]
        },
        {
          "output_type": "stream",
          "name": "stderr",
          "text": [
            "\r221it [51:24, 12.16s/it]"
          ]
        },
        {
          "output_type": "stream",
          "name": "stdout",
          "text": [
            "\"Моему телу 6 месяцев, стул очень жидкий примерно месяц, давала \"\"Лоперамид\"\" и \"\"Левомецитин\"\" ничего не помогают! Скажите, что это может и чем лечить?\"\n"
          ]
        },
        {
          "output_type": "stream",
          "name": "stderr",
          "text": [
            "\r222it [51:37, 12.41s/it]"
          ]
        },
        {
          "output_type": "stream",
          "name": "stdout",
          "text": [
            "У коровы 2 месяца после отъезда перевели на двукратный доек, в заднем месте под концом доения начали катиться мелкие шарики, вместе с молоком кровь появилась, остальные дольки нормальные, вымычка после доения мягкая, уплотнения и шишек нет как тряпочки, что это такое?\n"
          ]
        },
        {
          "output_type": "stream",
          "name": "stderr",
          "text": [
            "\r223it [51:48, 11.87s/it]"
          ]
        },
        {
          "output_type": "stream",
          "name": "stdout",
          "text": [
            "Скажите, кто знает как лечить корову в венах уплотнение размером с кулак? Я уже 3 месяца не могу лечить, антибиотики вводила, мазала согревающими мазями – улучшений нет. Молок в этой доске поллитра, жаль, если не лечу, хорошая кора.\n"
          ]
        },
        {
          "output_type": "stream",
          "name": "stderr",
          "text": [
            "\r224it [51:50,  9.01s/it]"
          ]
        },
        {
          "output_type": "stream",
          "name": "stdout",
          "text": [
            "Тёлка месяца отказывается есть и носит, что же делать?\n"
          ]
        },
        {
          "output_type": "stream",
          "name": "stderr",
          "text": [
            "\r225it [52:01,  9.64s/it]"
          ]
        },
        {
          "output_type": "stream",
          "name": "stdout",
          "text": [
            "Ветеринар не знает, что такое болезнь – шишка под челюстью с куриным яйцом, в прошлом году у другого такая же, зимой прорвали, теперь подсохли, но все равно есть, ветеринар не понимает, что это. анализы нормальные, прививки все, что делать?\n"
          ]
        },
        {
          "output_type": "stream",
          "name": "stderr",
          "text": [
            "\r226it [52:28, 14.89s/it]"
          ]
        },
        {
          "output_type": "stream",
          "name": "stdout",
          "text": [
            "Привет, корова 4 дня назад нашла под животом огромный шишку, стал искать веточку, но увы уволился и нет нового вета, так вот я заметил под животом 2 надреза, один прям где шишке и другой чуть ниже на см 15, ребята подскажите, что делать, эту шишку дальше сегодня утром пошла, подумал что у нее собрался гной, и в шишке вышла алая кровь такая же как и слюна, как лечить?\n"
          ]
        },
        {
          "output_type": "stream",
          "name": "stderr",
          "text": [
            "\r227it [52:35, 12.36s/it]"
          ]
        },
        {
          "output_type": "stream",
          "name": "stdout",
          "text": [
            "Помогите, пожалуйста, у меня теленок 2 недели, пару дней носил, не ел ничего, но сегодня упала на ноги, что делать? Спасибо!\n"
          ]
        },
        {
          "output_type": "stream",
          "name": "stderr",
          "text": [
            "\r228it [53:02, 16.80s/it]"
          ]
        },
        {
          "output_type": "stream",
          "name": "stdout",
          "text": [
            "В конце лета на животе появилась шишка, была меньше, стала такой. Пока не растет, еще одна, но маленькая. На ощупь мягкая. Телка 1.5 года сильная(после второго раза не приходила в охоту). Ей сама эти шишки не доставляют беспокойства, мы больше беспокоимся. Перед выпасом все коровы и телки постоянно обрабатывались Оксарепом. Хватает не долго, но лучше ничего. Наши ветеринары не могут сказать что это такое. Помогите определить, что это за шишка и как от нее избавиться.\n"
          ]
        },
        {
          "output_type": "stream",
          "name": "stderr",
          "text": [
            "\r229it [53:10, 14.34s/it]"
          ]
        },
        {
          "output_type": "stream",
          "name": "stdout",
          "text": [
            "Здравствуйте, такая проблема: новорожденная теленка (3-4 дня) не может выпрямиться и вставать на передние ноги, скажите пожалуйста, почему это может быть? Может быть как-то исправить?\n"
          ]
        },
        {
          "output_type": "stream",
          "name": "stderr",
          "text": [
            "\r230it [53:21, 13.33s/it]"
          ]
        },
        {
          "output_type": "stream",
          "name": "stdout",
          "text": [
            "Что делать если корова ест плохо и молоко в два раза убрала Дней десять назад, купила корову, 5 отелей, все было в порядке, кушала с аппетитом и сейчас второй день плохо ест, молоко убрала в два раза. Нос сухой, холодный.\n"
          ]
        },
        {
          "output_type": "stream",
          "name": "stderr",
          "text": [
            "\r231it [53:26, 10.88s/it]"
          ]
        },
        {
          "output_type": "stream",
          "name": "stdout",
          "text": [
            "У быка шея сильно отекает и отёк идет на грудь, справная быка, но аппетит слаб. Что же делать?\n"
          ]
        },
        {
          "output_type": "stream",
          "name": "stderr",
          "text": [
            "\r232it [53:41, 11.95s/it]"
          ]
        },
        {
          "output_type": "stream",
          "name": "stdout",
          "text": [
            "Перед отелом корова сорвала кожа на передней левой доске, около 1/3 всей доски, после отела, травмированная дойка и задняя левая постепенно уменьшилась количество молока, теперь почти нет. Рана жила полностью, опухоль уже нет. Помогите советом, если кто-то сталкивался с таким.\n"
          ]
        },
        {
          "output_type": "stream",
          "name": "stderr",
          "text": [
            "\r233it [53:45,  9.72s/it]"
          ]
        },
        {
          "output_type": "stream",
          "name": "stdout",
          "text": [
            "У коровы после аборта недавно стало плотное вымя, чем ей помочь? А молока было 7 литров.\n"
          ]
        },
        {
          "output_type": "stream",
          "name": "stderr",
          "text": [
            "\r234it [53:48,  7.62s/it]"
          ]
        },
        {
          "output_type": "stream",
          "name": "stdout",
          "text": [
            "Теленок поносит, что делать, если поносит?\n"
          ]
        },
        {
          "output_type": "stream",
          "name": "stderr",
          "text": [
            "\r235it [54:13, 12.92s/it]"
          ]
        },
        {
          "output_type": "stream",
          "name": "stdout",
          "text": [
            "У теленка одна нога отнялась, чем лечить? Добрый день, у ребенка 2,5 месяца весом около 70 кг отнялась одна задняя нога. Копытец подогнан, не встает на него, нога тащится при ходьбе, при трогании — реакции нет, то есть теленка не больна. Встает сам, кушает хорошо, даже сказал бы — очень хорошо Настроение невесело, как у других. По симптомам из интернета, типа это паралич задней ноги. Подскажите пожалуйста, чем или чем лечить, какие дозировки и где колоть?\n"
          ]
        },
        {
          "output_type": "stream",
          "name": "stderr",
          "text": [
            "\r236it [54:33, 14.95s/it]"
          ]
        },
        {
          "output_type": "stream",
          "name": "stdout",
          "text": [
            "У меня первотелки крс отелились 20 октября 2018 г. 2019 10 февраля самостоятельно не могу встать на заднюю ногу я поднимаюсь с хвоста стоит 2 часа потом опять лежать так уже почти 50 дней почти колили 2 раза (1 ватт с 4-100 мг калций борглюкана) и 1 раза глюкозу 400 мг. Аппетит иногда очень хороший иногда нет. Соно мало есть. Драбленка в день 5-7 кг есть.\n"
          ]
        },
        {
          "output_type": "stream",
          "name": "stderr",
          "text": [
            "\r237it [54:45, 13.88s/it]"
          ]
        },
        {
          "output_type": "stream",
          "name": "stdout",
          "text": [
            "\"Сегодня у коровы срок, но не встает на ноги с утра, пытается, но ничего не выходит.\" Пьёт, есть, но ползает на \"\"коленях\"\".\"\n"
          ]
        },
        {
          "output_type": "stream",
          "name": "stderr",
          "text": [
            "\r238it [54:53, 12.19s/it]"
          ]
        },
        {
          "output_type": "stream",
          "name": "stdout",
          "text": [
            "Бычка 3 месяца, примерно месяц назад упала на заднюю ногу и не вставала. У него аппетит в порядке. Кормём кукурузу и сена. Что делать уже не знаем.\n"
          ]
        },
        {
          "output_type": "stream",
          "name": "stderr",
          "text": [
            "\r239it [55:17, 15.66s/it]"
          ]
        },
        {
          "output_type": "stream",
          "name": "stdout",
          "text": [
            "Ребята, прямо крик души, как выращиваете черно-пестрых телят. Четыре раза берем - дохнут, привозят плюшевые, красивые, блестящие, проходит пару дней - и начинается, понос, не жрут, потом не встают, дохнут и ветврача не помогут. Начинаем поить все как надо, чуть чуть потом добавляем 0.5 л. Сейчас из четырех осталось 2 поноса нет, аппетит хороший, но не встают сами, что может быть и чем помочь?\n"
          ]
        },
        {
          "output_type": "stream",
          "name": "stderr",
          "text": [
            "\r240it [55:20, 11.93s/it]"
          ]
        },
        {
          "output_type": "stream",
          "name": "stdout",
          "text": [
            "Что делать если тело кашляет после каждого пойки? Что такое, что дать?\n"
          ]
        },
        {
          "output_type": "stream",
          "name": "stderr",
          "text": [
            "\r241it [55:29, 11.28s/it]"
          ]
        },
        {
          "output_type": "stream",
          "name": "stdout",
          "text": [
            "Здравствуйте, проблемы с ногами быка, задние ноги стали \"лапами у человека\", ноги видимо падали, очень аккуратно стоит на них. Прокалывали витамины, не помогают. Похудел, плохой аппетит. Скажите как лечить?\n"
          ]
        },
        {
          "output_type": "stream",
          "name": "stderr",
          "text": [
            "\r242it [55:51, 14.23s/it]"
          ]
        },
        {
          "output_type": "stream",
          "name": "stdout",
          "text": [
            "Тороплюсь волнуется, попытаюсь объяснить... В 21:00 корова отелилась сама, без помощи, вроде хорошо, подала почти сразу, потому что вымя большое, сосочки как пуговицы, промучилась чуть-чуть с полчаса... Я вышла посмотреть, не упал ли место, и там перед вымя как будто второй вымя!!!? Она мягкая полукруглая, посоветуйте, что это, что делать? Да ещё в одной соске с кровью.\n"
          ]
        },
        {
          "output_type": "stream",
          "name": "stderr",
          "text": [
            "\r243it [56:10, 15.65s/it]"
          ]
        },
        {
          "output_type": "stream",
          "name": "stdout",
          "text": [
            "Скажите, пожалуйста, у теленка кал с слизью. Теленка неделя и два, вроде все нормально, но я волнуюсь, как он какает, то есть цвет кала не бледный, а оранжевый, и там слизь, вызвала ветеринара, она сказала, что и должно, но не уверена. И сегодня после кормления сосёт корову, левый бок больше правого, может я зря беспокоюсь?\n"
          ]
        },
        {
          "output_type": "stream",
          "name": "stderr",
          "text": [
            "\r244it [56:12, 11.79s/it]"
          ]
        },
        {
          "output_type": "stream",
          "name": "stdout",
          "text": [
            "Скажите, у меня бычка поносится, я даю чай, не помогает!\n"
          ]
        },
        {
          "output_type": "stream",
          "name": "stderr",
          "text": [
            "\r245it [56:15,  8.96s/it]"
          ]
        },
        {
          "output_type": "stream",
          "name": "stdout",
          "text": [
            "Подскажите, чем корову проглистовать. молоко горит.\n"
          ]
        },
        {
          "output_type": "stream",
          "name": "stderr",
          "text": [
            "\r246it [56:19,  7.47s/it]"
          ]
        },
        {
          "output_type": "stream",
          "name": "stdout",
          "text": [
            "Срок отела, скорее всего через две недели.\n"
          ]
        },
        {
          "output_type": "stream",
          "name": "stderr",
          "text": [
            "\r247it [56:23,  6.37s/it]"
          ]
        },
        {
          "output_type": "stream",
          "name": "stdout",
          "text": [
            "Что делать если корова поносится? Здравствуйте, подскажите пожалуйста, корова поносит что делать?\n"
          ]
        },
        {
          "output_type": "stream",
          "name": "stderr",
          "text": [
            "\r248it [56:30,  6.77s/it]"
          ]
        },
        {
          "output_type": "stream",
          "name": "stdout",
          "text": [
            "У нас корова отелилась, мы посмотрели, а сейчас телёнок не встает на передние копытцы в месте, где они путают, что может быть причиной, как помочь?\n"
          ]
        },
        {
          "output_type": "stream",
          "name": "stderr",
          "text": [
            "\r249it [56:53, 11.72s/it]"
          ]
        },
        {
          "output_type": "stream",
          "name": "stdout",
          "text": [
            "Что делать если корова появилась из стада с опухой половиной вымени? Всем добрый день! Подскажите пожалуйста! Корова появилась в стаде с опухолью половины вымени, кровь с молоком идёт с одной доли, в основном кровь преобладает, все болезненно, молоко убрали с этой половины... Вводили гентамицин и новокаин в сосок. Врач уверяет, что ушиб, но чем помогать, что-то молчит, чем корова может помочь и от чего?\n"
          ]
        },
        {
          "output_type": "stream",
          "name": "stderr",
          "text": [
            "\r250it [57:01, 10.40s/it]"
          ]
        },
        {
          "output_type": "stream",
          "name": "stdout",
          "text": [
            "Может быть, у кого была, если бычка сломалась иглой и осталась там, что делать и что делать, сразу скажу, у нас в районе нет рентгенов и УЗИ.\n"
          ]
        },
        {
          "output_type": "stream",
          "name": "stderr",
          "text": [
            "\r251it [57:41, 19.38s/it]"
          ]
        },
        {
          "output_type": "stream",
          "name": "stdout",
          "text": [
            "Вчера кормила корову, раньше 15 дней, прошло 24 часа, телилась легко, дали теленку молозиво из соски, но отказался пить, потом попробовали дать только из груши (типа клизмы), выпили 2 литра, около 45 минут, потом еще раз выпили с груши, около 1.5 литра. Больше пить отказался. Сегодня в 6 часов отказался даже из груши, попробуй дать с груши через палец 2 л. По наблюдению теленка не очень активна, больше лежит, не скачет, как и другие тела. Состояние более угнетено. Подскажите, что делать, как делать? Не может быть беломышечной болезнью? Мне очень нужна ваша помощь.\n"
          ]
        },
        {
          "output_type": "stream",
          "name": "stderr",
          "text": [
            "\r252it [57:56, 17.95s/it]"
          ]
        },
        {
          "output_type": "stream",
          "name": "stdout",
          "text": [
            "Добрый день, уважаемые форумчане, с Рождеством помогите советом.Корова в первый раз пошла на запуск, но перед этим появились как пески под кожей в белых сосках, но ветврач сказал, что пройдет, но они только увеличивались и стали больше,как сейчас это вылечить Корову уже не доходит.Как сейчас быть?\n"
          ]
        },
        {
          "output_type": "stream",
          "name": "stderr",
          "text": [
            "\r253it [58:10, 16.90s/it]"
          ]
        },
        {
          "output_type": "stream",
          "name": "stdout",
          "text": [
            "Добрый день, подскажите тёлке 8 месяцев появилась кровь в кале,какба кал обливается кровью,и сегодня заметил еще и сгустки и крови какой-то больше,кушает пьет всё как обычно и жвачку есть из изменений только вода холодная и пару раз вышла на траву что это может быть?Ветеринар говорит что не страшно\n"
          ]
        },
        {
          "output_type": "stream",
          "name": "stderr",
          "text": [
            "\r254it [58:20, 14.64s/it]"
          ]
        },
        {
          "output_type": "stream",
          "name": "stdout",
          "text": [
            "Здравствуйте, помогите, теленку больше месяца всё было нормально, давали утро и вечер молока по 3 л молока, дня три назад стали добавлять геркулесовую кашу, сегодня теленок не может вставать на ноги, что делать?\n"
          ]
        },
        {
          "output_type": "stream",
          "name": "stderr",
          "text": [
            "\r255it [58:25, 11.96s/it]"
          ]
        },
        {
          "output_type": "stream",
          "name": "stdout",
          "text": [
            "Купили 1 месячный телятину, поносят, пью мочу друда друга! Что это за диагноз, как лечить, что колоть?\n"
          ]
        },
        {
          "output_type": "stream",
          "name": "stderr",
          "text": [
            "\r256it [58:28,  9.32s/it]"
          ]
        },
        {
          "output_type": "stream",
          "name": "stdout",
          "text": [
            "У коровы мягкая опухоль в нижней челюсти. Что такое?\n"
          ]
        },
        {
          "output_type": "stream",
          "name": "stderr",
          "text": [
            "\r257it [59:37, 27.23s/it]"
          ]
        },
        {
          "output_type": "stream",
          "name": "stdout",
          "text": [
            "Хороший вечер всем! Купили 2 фермерских теленка (2 недели и 1 мес), они были сильные, можно сказать, струя, какой-то вирус, никогда не встречались, наши ветеринары работают ради того, чтобы отметить, только руки помахали... Вот и пришлось лечить сами, что под рукой дали, ничего не сказали, только для кота и собаки, делать 40 подкожно, пришли домой, прочитали 40 нельзя, а на второй день дали в кипятку с солью, а вот и посоветуйте что-нибудь. Сегодня уже 3 дня, дали ничего, дали отвар от поноса, сказали только от того что было под рукой, только отвар от ромашки, чая и лимона, а вообще ничего делать не хочется, только молоко попить.\n"
          ]
        },
        {
          "output_type": "stream",
          "name": "stderr",
          "text": [
            "\r258it [1:00:25, 33.38s/it]"
          ]
        },
        {
          "output_type": "stream",
          "name": "stdout",
          "text": [
            "Добрый день, помогите вылечить собаку, я не знаю что делать и кому уже обратиться. Купила двоих собак, их 3 недели, сейчас около 2 месяцев. Сразу одна собака слегка подкашлялась, думала, от сени, от пыли, морда чистая, ни слезы, ни слюны - ничего, аппетит хороший. Вчера в ветклинике посоветовали делать энрофлон 3 л, в рот активированный уголь - ходила в туалет. У него такая особенность, а вот и кашель усилился, ветеринар сказала пропить бифидумбактерин, пропить - кал посветлел.\n"
          ]
        },
        {
          "output_type": "stream",
          "name": "stderr",
          "text": [
            "\r259it [1:00:37, 26.93s/it]"
          ]
        },
        {
          "output_type": "stream",
          "name": "stdout",
          "text": [
            "Корова не может ходить на ноги - тяжело, но при помощи поднимается, ходит шатаясь, пасется, есть аппетит как обычно, есть жвачка, пьет Чувство на ногах (проверено иглой) что лечить и что произошло с ней - травмы нет?\n"
          ]
        },
        {
          "output_type": "stream",
          "name": "stderr",
          "text": [
            "\r260it [1:00:44, 20.95s/it]"
          ]
        },
        {
          "output_type": "stream",
          "name": "stdout",
          "text": [
            "Добрый день, у меня вопрос: корова еще не отелилась, жду с дня на день, а сыворотки с кровью в одной доске, что это может и как их лечить?\n"
          ]
        },
        {
          "output_type": "stream",
          "name": "stderr",
          "text": [
            "\r261it [1:01:11, 22.71s/it]"
          ]
        },
        {
          "output_type": "stream",
          "name": "stdout",
          "text": [
            "Корова отела почти 1,5 месяца назад, отела четвертая. После отела корова была сильная, уменьшила концентраты, ограничила воду, давала отруби и зерно. За две недели отела спала. Стала постепенно выходить в полный рацион, как только вышла на него, отек начался, в обед - не очень, в вечер - очень, а утром - нет, и так всегда. Вымя холодно, молоко чистое, никаких мазей не помогает. Что делать? Откуда отек? И может не отек?\n"
          ]
        },
        {
          "output_type": "stream",
          "name": "stderr",
          "text": [
            "\r262it [1:01:40, 24.58s/it]"
          ]
        },
        {
          "output_type": "stream",
          "name": "stdout",
          "text": [
            "Добрый день, у моей буренки 1.5 месяца волосы опадают с шеи (именно с двух сторон шеи, залысин нет на остальных участках организма) и чешутся. Связалась с ветеринаром, проставила вакцину LTF-130 и дважды с перерывом 2 недели тетрагидровита, но шея продолжает лысеть, отелилась 2 мес назад, буквально через несколько недель началась. Ветеринар разводит руки. Может ли это действительно витамин, только сильный, что не прошло с двух доз? П.С. Корова стоит на одном сарае с кошками и кроликами – все остальные здоровы и не заразились.\n"
          ]
        },
        {
          "output_type": "stream",
          "name": "stderr",
          "text": [
            "\r263it [1:01:57, 22.44s/it]"
          ]
        },
        {
          "output_type": "stream",
          "name": "stdout",
          "text": [
            "Хороший день всем. Дело было так вечером, заметил, что одна тёлка годовалая начала кашлять и не набрала веса, прокололи позже, но среди них есть крупный бык, он вроде и не кашляет. вечером после паздбищи я даю ячмень и кукурузу молотый сплю на улице, что может причинить (ветеринар сказал потому что я кушал траву)\n"
          ]
        },
        {
          "output_type": "stream",
          "name": "stderr",
          "text": [
            "\r264it [1:02:06, 18.34s/it]"
          ]
        },
        {
          "output_type": "stream",
          "name": "stdout",
          "text": [
            "У коровы нет жвачки. Добрый день, нужна твоя помощь. Корова с прошлого дня грустная, Сено хорошо кушает, пьет тоже, молоко тоже в норме, а жвачки нет где?\n"
          ]
        },
        {
          "output_type": "stream",
          "name": "stderr",
          "text": [
            "\r265it [1:02:08, 13.33s/it]"
          ]
        },
        {
          "output_type": "stream",
          "name": "stdout",
          "text": [
            "У коровы за две недели упало молоко\n"
          ]
        },
        {
          "output_type": "stream",
          "name": "stderr",
          "text": [
            "\r266it [1:02:18, 12.53s/it]"
          ]
        },
        {
          "output_type": "stream",
          "name": "stdout",
          "text": [
            "Как избавиться от высыпаний на коже коровы? Здравствуйте, у коровы высыпание на лопатке где-то 2-3 месяца, на другой месте нет. Слеза, слюны и сопель не течет, аппетит хороший, молока не убавила.\n"
          ]
        },
        {
          "output_type": "stream",
          "name": "stderr",
          "text": [
            "\r267it [1:02:29, 11.84s/it]"
          ]
        },
        {
          "output_type": "stream",
          "name": "stdout",
          "text": [
            "У коровы болит вымя перед отелом, а при отелении вымя увеличилось и становилось просто каменным, молоко идет нормально, никаких сгустков и крови, но видимо, вымя болит у коровы. Кто-нибудь подскажет, как ему помочь?\n"
          ]
        },
        {
          "output_type": "stream",
          "name": "stderr",
          "text": [
            "\r268it [1:02:46, 13.63s/it]"
          ]
        },
        {
          "output_type": "stream",
          "name": "stdout",
          "text": [
            "Теленок месяц, с утра жива здорова, пила молоко от коровы, загнали обратно к загончику. Прошло два часа, смотрим, лежит, не встает, стонет, охается. Ветеринар посоветовал клизму, предположил, что что-то беломышечное заболевание после клизмы, говно нормальное, даже встал, делал ей массаж живота, кто сталкивался, посоветуйте что делать?\n"
          ]
        },
        {
          "output_type": "stream",
          "name": "stderr",
          "text": [
            "\r269it [1:03:03, 14.49s/it]"
          ]
        },
        {
          "output_type": "stream",
          "name": "stdout",
          "text": [
            "За месяц до отела корова начинает давать кровь Здравствуйте! У мамы корова, теперь корова стельная в третий раз, отела в конце февраля, но каждый год, за 36-37 дней до отела, начинает доить кровь, лечение не помогает, а чем ближе, тем страшнее молоко и сгустки крови.\n"
          ]
        },
        {
          "output_type": "stream",
          "name": "stderr",
          "text": [
            "\r270it [1:03:36, 20.02s/it]"
          ]
        },
        {
          "output_type": "stream",
          "name": "stdout",
          "text": [
            "Телята доросли до определенного возраста, начинаются проблемы с ногами Теленок 4 месяца, играет вечером, бежит во дворе и утром не встает передние ноги поджатые под себя, пытается ставить на ноги, упирается на задние, и передние даже не сгибает. Есть и пьет хорошо У нас в селе многие такие проблемы, кто купил телят в колхозе Телят дорастают до определенных возрастов и начинают проблемы со ногами, если сталкиваетесь с такими симптомами, скажите, хоть что за болезнь, думаю это врожденное что-то, только не знаю, какие заболевания могут быть проблемы со стопами с возрастом.\n"
          ]
        },
        {
          "output_type": "stream",
          "name": "stderr",
          "text": [
            "\r271it [1:03:56, 20.12s/it]"
          ]
        },
        {
          "output_type": "stream",
          "name": "stdout",
          "text": [
            "Всем добрый день! Пришло время попросить помощи, сколько коров держим, с этим впервые столкнулся вчера. Первотелка отелилась вчера. Вымя растерлось до такого степени, что сосков не было. Правая сторона - не даёт притронуться, оставила теленка, но продолжала сдавать (не сгусток). Помогите советом, что делать? Что лечить? Корову погубить, что не сдаётся до конца?\n"
          ]
        },
        {
          "output_type": "stream",
          "name": "stderr",
          "text": [
            "\r272it [1:04:08, 17.48s/it]"
          ]
        },
        {
          "output_type": "stream",
          "name": "stdout",
          "text": [
            "Помоги друзьям, корова не есть, не пьет, с утра пила чуток воды и весь день вялость. Молока не пила с утра, кормила как всегда, не давала ничего особенного, днём сделала бициллин — сдвигов не было.\n"
          ]
        },
        {
          "output_type": "stream",
          "name": "stderr",
          "text": [
            "\r273it [1:04:12, 13.53s/it]"
          ]
        },
        {
          "output_type": "stream",
          "name": "stdout",
          "text": [
            "Телёнок потерял зрение, не есть и температуру не ест. Что тебе посоветовать? Спасибо заранее.\n"
          ]
        },
        {
          "output_type": "stream",
          "name": "stderr",
          "text": [
            "\r274it [1:04:16, 10.67s/it]"
          ]
        },
        {
          "output_type": "stream",
          "name": "stdout",
          "text": [
            "У меня 3 месяца, у них жидкий стул уже 15 дней, что делать? Урезал пойло.\n"
          ]
        },
        {
          "output_type": "stream",
          "name": "stderr",
          "text": [
            "\r275it [1:04:20,  8.68s/it]"
          ]
        },
        {
          "output_type": "stream",
          "name": "stdout",
          "text": [
            "Волдыри появляются по телу и вымени, но это не овод. Ветеринар не знает, что это такое\n"
          ]
        },
        {
          "output_type": "stream",
          "name": "stderr",
          "text": [
            "\r276it [1:04:32,  9.64s/it]"
          ]
        },
        {
          "output_type": "stream",
          "name": "stdout",
          "text": [
            "Здравствуйте, телка выросла на ноге шишка, сначала это было мелкое черное пятно размером пятирублевой монеты, в зиму выросло раза в двадцать. Кожа на поверхности шишки лопается и кровь течет. Скажите, что это за образование, и можно ли его лечить?\n"
          ]
        },
        {
          "output_type": "stream",
          "name": "stderr",
          "text": [
            "\r277it [1:04:51, 12.49s/it]"
          ]
        },
        {
          "output_type": "stream",
          "name": "stdout",
          "text": [
            "Добрый день, у коровы шишка выросла большой за 6 месяцев. Раньше это шишка было очень маленьким, мы мазали мазью, она почти прошла, но однажды она расчесала её копытом, шишка начала гноиться, текла кровь, чем только не мазали, врачи не знают, что это такое, обкололи антибиотиками, шишки перестали расти, но все равно не проходят. Что это такое?\n"
          ]
        },
        {
          "output_type": "stream",
          "name": "stderr",
          "text": [
            "\r278it [1:05:02, 12.13s/it]"
          ]
        },
        {
          "output_type": "stream",
          "name": "stdout",
          "text": [
            "Купил корову, и на ногах прыщи, бородавки, бугорки... Вет-врач сказал мазить цинковую мазь, и как они начинают проходить и сколько? Наверное, ей больно, потому что они разные по ногам.\n"
          ]
        },
        {
          "output_type": "stream",
          "name": "stderr",
          "text": [
            "\r279it [1:05:24, 15.06s/it]"
          ]
        },
        {
          "output_type": "stream",
          "name": "stdout",
          "text": [
            "Может ли у крупного рогатого скота возникать асцит, когда я закончился запасом прочности и силы, зарезали, оказалось водянка брюшного полости, тёлочка от этой коровы теперь 4 месяца, и сейчас она бежит на поле, а брюхо бурлит как бочка с водой, а утром обычно отказывается от питья, но сейчас боюсь, что будет как с мамой.\n"
          ]
        },
        {
          "output_type": "stream",
          "name": "stderr",
          "text": [
            "\r280it [1:05:47, 17.55s/it]"
          ]
        },
        {
          "output_type": "stream",
          "name": "stdout",
          "text": [
            "Добрый день всем! В июле 17 года наша корова стала телиться. Оказалось, что ялова, и мы успели запустить, крыли пару раз, да и не покрыли(плохой врач работает, у нее из трех коров ни один не покрылся), в начале февраля, когда я подходю к корове, она течет из двух задних долей. Из одной струи, из другой - капает. Что делать? Телится она ещё не скоро, только середина дня.\n"
          ]
        },
        {
          "output_type": "stream",
          "name": "stderr",
          "text": [
            "\r281it [1:06:01, 16.36s/it]"
          ]
        },
        {
          "output_type": "stream",
          "name": "stdout",
          "text": [
            "Делаем опыт лечения копыт на крупном рогатом скота. Прошу поделиться опытом лечения КРС копыт. Гнил, свищ, гнойник на копытах скота. Делайте опыт, чем пользовались. Можете открыть какой-то секрет при приготовлении мази), а какие копытные болячки лучше помогают.\n"
          ]
        },
        {
          "output_type": "stream",
          "name": "stderr",
          "text": [
            "\r282it [1:06:07, 13.17s/it]"
          ]
        },
        {
          "output_type": "stream",
          "name": "stdout",
          "text": [
            "Моя корова после отела забилась или искривилась молочной каналом, молоко доходит фонтаном. Подскажите, что делать, это очень тяжело.\n"
          ]
        },
        {
          "output_type": "stream",
          "name": "stderr",
          "text": [
            "\r283it [1:06:14, 11.47s/it]"
          ]
        },
        {
          "output_type": "stream",
          "name": "stdout",
          "text": [
            "Почему корова не ходит, отёл пять месяцев назад, скажите пожалуйста, корова уже отела пять месяц назад, отель прошел отлично, но почему-то не ходит.\n"
          ]
        },
        {
          "output_type": "stream",
          "name": "stderr",
          "text": [
            "\r284it [1:06:25, 11.28s/it]"
          ]
        },
        {
          "output_type": "stream",
          "name": "stdout",
          "text": [
            "Всем привет! Подскажите пожалуйста, у нас на животе и ушей появились шишки, резко появились, оба сразу. Роды Джейсерские. Возраст 1,5 года, стоит месяц без выгула, зимой. Коровы рядом чистые, что это может и как лечить?\n"
          ]
        },
        {
          "output_type": "stream",
          "name": "stderr",
          "text": [
            "\r285it [1:07:17, 23.50s/it]"
          ]
        },
        {
          "output_type": "stream",
          "name": "stdout",
          "text": [
            "У нас такая проблема: перед отъездом в пятницу корова легла с вечера и утром не вставала, мы сразу вызывали вет врача, но, увы, сразу не ходили... Вет врач пришел во вторник в обед, сделал ему глюкозу, кальций хлорид внутривенно и 7 мл кофеина, советовал поднять ее с помощью лба, но стало еще хуже, бедный коров просто висел и снова положил ее только на правый бок, корова ест сено и варёную булочку, пьет, нормально глотает, но не встает. Помогите советом? Я сдаю ее как можно, молоко мало, телятину пою из другой коровы, сегодня понедельник, корова не встает, пожалуйста, дайте мне ответ на почту Снегирева060457.\n"
          ]
        },
        {
          "output_type": "stream",
          "name": "stderr",
          "text": [
            "\r286it [1:07:48, 25.77s/it]"
          ]
        },
        {
          "output_type": "stream",
          "name": "stdout",
          "text": [
            "У коровы волосы стали краснеть, будто на солнце загорелось, сначала чуть-чуть и теперь всё краснеет, как на ожоги, волосы обычные, красные, молоко вкус не менялось и даёт молоко как всегда, хлопья нет, не твёрдые. Несколько недели назад я заметила, что волосы на волосах как на солнце, после того как отошла, раздавила, массажировала, думала, что мышки пробовали мазь, потом все розовое, как солнце припало. Не понимаю, что это такое? Блин может аллергия, но на что? Корм одинаковый, подстилка одинаковая...\n"
          ]
        },
        {
          "output_type": "stream",
          "name": "stderr",
          "text": [
            "\r287it [1:07:52, 19.27s/it]"
          ]
        },
        {
          "output_type": "stream",
          "name": "stdout",
          "text": [
            "У меня корова заболела, надой снизилось с 20 до 2 л. молоко с кисловатым вкусом.\n"
          ]
        },
        {
          "output_type": "stream",
          "name": "stderr",
          "text": [
            "\r288it [1:07:59, 15.55s/it]"
          ]
        },
        {
          "output_type": "stream",
          "name": "stdout",
          "text": [
            "Корова внутри соска практически у выхода образовалась какая-то уплотнение — корова больна, когда берешь за сосок в шишке. Доить проблема не дается, лягнет.\n"
          ]
        },
        {
          "output_type": "stream",
          "name": "stderr",
          "text": [
            "\r289it [1:08:26, 19.02s/it]"
          ]
        },
        {
          "output_type": "stream",
          "name": "stdout",
          "text": [
            "Добрый день, я хочу помочь маме, которая живёт в деревне и не имеет интернета, позвонила сегодня, рассказала, что её корова, которая отелилась недавно, два последних дня, мягко говоря странно ведет себя, время от времени идет пена из рта, грызет корм, лижет пол, стену, словно пытается что-то вытащить. Пожалуйста, что с животным происходит? Как помочь?\n"
          ]
        },
        {
          "output_type": "stream",
          "name": "stderr",
          "text": [
            "\r290it [1:08:32, 15.08s/it]"
          ]
        },
        {
          "output_type": "stream",
          "name": "stdout",
          "text": [
            "Чем лечение поноса с кровью у ребенка? У ребенка понос с кровью что делать? Не кушает ничего.\n"
          ]
        },
        {
          "output_type": "stream",
          "name": "stderr",
          "text": [
            "\r291it [1:10:07, 38.93s/it]"
          ]
        },
        {
          "output_type": "stream",
          "name": "stdout",
          "text": [
            "Умер бык 1 год 3 месяца, рано утром увидел в загоне лежащего быка, сразу понял, что он злится, на месте видно следы конвульсии, ноги раскидали снегом и сильно махали головой, да и РОГ не слышал ничего. Бык еще был теплым на улице 15 градусов, в поселке было всего 6 коров, 2 из которых я слышал, ничего не заметил. Бык не кашел, активно ел, буквально перед идущим вечером его гладил, не слышала ничего, было много крови, Бык был еще тёплым на улице, на улице всего 6 кошек, 2 из них у меня, Рязанская область, о сибирках в регионе не слышали, т.к. теперь должен пройти забой.\n"
          ]
        },
        {
          "output_type": "stream",
          "name": "stderr",
          "text": [
            "\r292it [1:10:13, 29.16s/it]"
          ]
        },
        {
          "output_type": "stream",
          "name": "stdout",
          "text": [
            "Привет всем,корова сегодня отела отек вымени надо ли убрать или сдавать пощадно,подскажите пожалуйста,\n"
          ]
        },
        {
          "output_type": "stream",
          "name": "stderr",
          "text": [
            "\r293it [1:10:30, 25.54s/it]"
          ]
        },
        {
          "output_type": "stream",
          "name": "stdout",
          "text": [
            "Бычок не есть, что делать? Добрый день, я бычок не ест почти неделю, ветеринара вызывали, но он ничего не знал, не мог ничего сказать и предположил, что может что-то укусилось. Даю корм, смесь всех зернов. У него температура и пот, ну а жвачку есть.\n"
          ]
        },
        {
          "output_type": "stream",
          "name": "stderr",
          "text": [
            "\r294it [1:10:38, 20.13s/it]"
          ]
        },
        {
          "output_type": "stream",
          "name": "stdout",
          "text": [
            "Добрый вечер, кто знает, что такое заболевание, когда в дойках коров шишки? Подскажите, как лечить, спасибо заранее всем!\n"
          ]
        },
        {
          "output_type": "stream",
          "name": "stderr",
          "text": [
            "\r295it [1:10:46, 16.51s/it]"
          ]
        },
        {
          "output_type": "stream",
          "name": "stdout",
          "text": [
            "Добрый вечер, кто знает, что такое заболевание, когда в дойках коров шишки? Подскажите, как лечить, спасибо заранее всем!\n"
          ]
        },
        {
          "output_type": "stream",
          "name": "stderr",
          "text": [
            "296it [1:10:52, 14.37s/it]"
          ]
        },
        {
          "output_type": "stream",
          "name": "stdout",
          "text": [
            "Добрый вечер, кто знает, что такое заболевание, когда в дойках коров шишки? Подскажите, как лечить, спасибо заранее всем!\n"
          ]
        },
        {
          "output_type": "stream",
          "name": "stderr",
          "text": [
            "\n"
          ]
        }
      ]
    },
    {
      "cell_type": "code",
      "metadata": {
        "id": "yPq-vLbpe_ON",
        "outputId": "b4157ed7-165d-46a3-9095-e4f1be92e24a",
        "colab": {
          "base_uri": "https://localhost:8080/",
          "height": 742
        }
      },
      "source": [
        "df"
      ],
      "execution_count": 34,
      "outputs": [
        {
          "output_type": "execute_result",
          "data": {
            "text/html": [
              "<div>\n",
              "<style scoped>\n",
              "    .dataframe tbody tr th:only-of-type {\n",
              "        vertical-align: middle;\n",
              "    }\n",
              "\n",
              "    .dataframe tbody tr th {\n",
              "        vertical-align: top;\n",
              "    }\n",
              "\n",
              "    .dataframe thead th {\n",
              "        text-align: right;\n",
              "    }\n",
              "</style>\n",
              "<table border=\"1\" class=\"dataframe\">\n",
              "  <thead>\n",
              "    <tr style=\"text-align: right;\">\n",
              "      <th></th>\n",
              "      <th>text_id</th>\n",
              "      <th>text</th>\n",
              "      <th>text_to_span</th>\n",
              "      <th>эймериоз</th>\n",
              "      <th>абсцесс</th>\n",
              "      <th>диспепсия молодняка</th>\n",
              "      <th>остертагиоз</th>\n",
              "      <th>мастит</th>\n",
              "      <th>инфекционный ринотрахеит</th>\n",
              "      <th>отёк вымени</th>\n",
              "      <th>тенденит</th>\n",
              "      <th>сибирская язва</th>\n",
              "      <th>лишай</th>\n",
              "      <th>другое</th>\n",
              "    </tr>\n",
              "  </thead>\n",
              "  <tbody>\n",
              "    <tr>\n",
              "      <th>0</th>\n",
              "      <td>0</td>\n",
              "      <td>Корова, видимо вставая, раздавила себе сосок. ...</td>\n",
              "      <td>раздавила себе сосок', 'постоянно бежит молоко'</td>\n",
              "      <td>0</td>\n",
              "      <td>0</td>\n",
              "      <td>0</td>\n",
              "      <td>0</td>\n",
              "      <td>1</td>\n",
              "      <td>0</td>\n",
              "      <td>0</td>\n",
              "      <td>0</td>\n",
              "      <td>0</td>\n",
              "      <td>0</td>\n",
              "      <td>0</td>\n",
              "    </tr>\n",
              "    <tr>\n",
              "      <th>1</th>\n",
              "      <td>1</td>\n",
              "      <td>Корове 8 лет! Месяц назад промеж четвертей вым...</td>\n",
              "      <td>промеж четвертей вымени появились бугорки’, ‘г...</td>\n",
              "      <td>0</td>\n",
              "      <td>0</td>\n",
              "      <td>0</td>\n",
              "      <td>0</td>\n",
              "      <td>0</td>\n",
              "      <td>0</td>\n",
              "      <td>0</td>\n",
              "      <td>0</td>\n",
              "      <td>1</td>\n",
              "      <td>1</td>\n",
              "      <td>1</td>\n",
              "    </tr>\n",
              "    <tr>\n",
              "      <th>2</th>\n",
              "      <td>2</td>\n",
              "      <td>Молоко течёт само у коровы. Что делать, если у...</td>\n",
              "      <td>Молоко течёт',\\n  x’слабые соски',\\n  'молоко ...</td>\n",
              "      <td>0</td>\n",
              "      <td>0</td>\n",
              "      <td>0</td>\n",
              "      <td>0</td>\n",
              "      <td>1</td>\n",
              "      <td>0</td>\n",
              "      <td>1</td>\n",
              "      <td>0</td>\n",
              "      <td>0</td>\n",
              "      <td>0</td>\n",
              "      <td>0</td>\n",
              "    </tr>\n",
              "    <tr>\n",
              "      <th>3</th>\n",
              "      <td>3</td>\n",
              "      <td>У нетели болячки на вымени.\\nЗдравствуйте. Нет...</td>\n",
              "      <td>болячки на вымени',\\n  'вымя покрылось маленьк...</td>\n",
              "      <td>0</td>\n",
              "      <td>0</td>\n",
              "      <td>0</td>\n",
              "      <td>0</td>\n",
              "      <td>0</td>\n",
              "      <td>0</td>\n",
              "      <td>0</td>\n",
              "      <td>0</td>\n",
              "      <td>1</td>\n",
              "      <td>1</td>\n",
              "      <td>1</td>\n",
              "    </tr>\n",
              "    <tr>\n",
              "      <th>4</th>\n",
              "      <td>4</td>\n",
              "      <td>У меня первотелка, на днях отёл, у неё левый п...</td>\n",
              "      <td>сосок как будто пустой</td>\n",
              "      <td>0</td>\n",
              "      <td>0</td>\n",
              "      <td>0</td>\n",
              "      <td>0</td>\n",
              "      <td>1</td>\n",
              "      <td>0</td>\n",
              "      <td>0</td>\n",
              "      <td>0</td>\n",
              "      <td>0</td>\n",
              "      <td>0</td>\n",
              "      <td>0</td>\n",
              "    </tr>\n",
              "    <tr>\n",
              "      <th>...</th>\n",
              "      <td>...</td>\n",
              "      <td>...</td>\n",
              "      <td>...</td>\n",
              "      <td>...</td>\n",
              "      <td>...</td>\n",
              "      <td>...</td>\n",
              "      <td>...</td>\n",
              "      <td>...</td>\n",
              "      <td>...</td>\n",
              "      <td>...</td>\n",
              "      <td>...</td>\n",
              "      <td>...</td>\n",
              "      <td>...</td>\n",
              "      <td>...</td>\n",
              "    </tr>\n",
              "    <tr>\n",
              "      <th>291</th>\n",
              "      <td>292</td>\n",
              "      <td>Привет всем,корова сегодня отела отек вымени н...</td>\n",
              "      <td>Отек вымени</td>\n",
              "      <td>0</td>\n",
              "      <td>0</td>\n",
              "      <td>0</td>\n",
              "      <td>0</td>\n",
              "      <td>0</td>\n",
              "      <td>0</td>\n",
              "      <td>1</td>\n",
              "      <td>0</td>\n",
              "      <td>0</td>\n",
              "      <td>0</td>\n",
              "      <td>0</td>\n",
              "    </tr>\n",
              "    <tr>\n",
              "      <th>292</th>\n",
              "      <td>293</td>\n",
              "      <td>Бычок не есть, что делать? Добрый день, я бычо...</td>\n",
              "      <td>не ест</td>\n",
              "      <td>1</td>\n",
              "      <td>0</td>\n",
              "      <td>0</td>\n",
              "      <td>0</td>\n",
              "      <td>0</td>\n",
              "      <td>0</td>\n",
              "      <td>0</td>\n",
              "      <td>0</td>\n",
              "      <td>0</td>\n",
              "      <td>0</td>\n",
              "      <td>1</td>\n",
              "    </tr>\n",
              "    <tr>\n",
              "      <th>0</th>\n",
              "      <td>0</td>\n",
              "      <td>Добрый вечер, кто знает, что такое заболевание...</td>\n",
              "      <td>раздавила себе сосок', 'постоянно бежит молоко'</td>\n",
              "      <td>0</td>\n",
              "      <td>0</td>\n",
              "      <td>0</td>\n",
              "      <td>0</td>\n",
              "      <td>1</td>\n",
              "      <td>0</td>\n",
              "      <td>0</td>\n",
              "      <td>0</td>\n",
              "      <td>0</td>\n",
              "      <td>0</td>\n",
              "      <td>0</td>\n",
              "    </tr>\n",
              "    <tr>\n",
              "      <th>1</th>\n",
              "      <td>1</td>\n",
              "      <td>Добрый вечер, кто знает, что такое заболевание...</td>\n",
              "      <td>промеж четвертей вымени появились бугорки’, ‘г...</td>\n",
              "      <td>0</td>\n",
              "      <td>0</td>\n",
              "      <td>0</td>\n",
              "      <td>0</td>\n",
              "      <td>0</td>\n",
              "      <td>0</td>\n",
              "      <td>0</td>\n",
              "      <td>0</td>\n",
              "      <td>1</td>\n",
              "      <td>1</td>\n",
              "      <td>1</td>\n",
              "    </tr>\n",
              "    <tr>\n",
              "      <th>2</th>\n",
              "      <td>2</td>\n",
              "      <td>Добрый вечер, кто знает, что такое заболевание...</td>\n",
              "      <td>Молоко течёт',\\n  x’слабые соски',\\n  'молоко ...</td>\n",
              "      <td>0</td>\n",
              "      <td>0</td>\n",
              "      <td>0</td>\n",
              "      <td>0</td>\n",
              "      <td>1</td>\n",
              "      <td>0</td>\n",
              "      <td>1</td>\n",
              "      <td>0</td>\n",
              "      <td>0</td>\n",
              "      <td>0</td>\n",
              "      <td>0</td>\n",
              "    </tr>\n",
              "  </tbody>\n",
              "</table>\n",
              "<p>592 rows × 14 columns</p>\n",
              "</div>"
            ],
            "text/plain": [
              "     text_id                                               text  ... лишай  другое\n",
              "0          0  Корова, видимо вставая, раздавила себе сосок. ...  ...     0       0\n",
              "1          1  Корове 8 лет! Месяц назад промеж четвертей вым...  ...     1       1\n",
              "2          2  Молоко течёт само у коровы. Что делать, если у...  ...     0       0\n",
              "3          3  У нетели болячки на вымени.\\nЗдравствуйте. Нет...  ...     1       1\n",
              "4          4  У меня первотелка, на днях отёл, у неё левый п...  ...     0       0\n",
              "..       ...                                                ...  ...   ...     ...\n",
              "291      292  Привет всем,корова сегодня отела отек вымени н...  ...     0       0\n",
              "292      293  Бычок не есть, что делать? Добрый день, я бычо...  ...     0       1\n",
              "0          0  Добрый вечер, кто знает, что такое заболевание...  ...     0       0\n",
              "1          1  Добрый вечер, кто знает, что такое заболевание...  ...     1       1\n",
              "2          2  Добрый вечер, кто знает, что такое заболевание...  ...     0       0\n",
              "\n",
              "[592 rows x 14 columns]"
            ]
          },
          "metadata": {},
          "execution_count": 34
        }
      ]
    },
    {
      "cell_type": "code",
      "metadata": {
        "id": "Lt7LWrldfBa-"
      },
      "source": [
        "df.to_csv('new_train.csv')"
      ],
      "execution_count": 35,
      "outputs": []
    },
    {
      "cell_type": "code",
      "metadata": {
        "id": "6PfeSABJMPww",
        "outputId": "7b91e424-4a6b-4f2a-d75f-93e7cee05e05",
        "colab": {
          "base_uri": "https://localhost:8080/",
          "height": 798
        }
      },
      "source": [
        "row = df.iloc[0]\n",
        "row.text = 'asd'\n",
        "df.append(row)"
      ],
      "execution_count": 30,
      "outputs": [
        {
          "output_type": "stream",
          "name": "stderr",
          "text": [
            "/usr/local/lib/python3.7/dist-packages/pandas/core/generic.py:5170: SettingWithCopyWarning: \n",
            "A value is trying to be set on a copy of a slice from a DataFrame\n",
            "\n",
            "See the caveats in the documentation: https://pandas.pydata.org/pandas-docs/stable/user_guide/indexing.html#returning-a-view-versus-a-copy\n",
            "  self[name] = value\n"
          ]
        },
        {
          "output_type": "execute_result",
          "data": {
            "text/html": [
              "<div>\n",
              "<style scoped>\n",
              "    .dataframe tbody tr th:only-of-type {\n",
              "        vertical-align: middle;\n",
              "    }\n",
              "\n",
              "    .dataframe tbody tr th {\n",
              "        vertical-align: top;\n",
              "    }\n",
              "\n",
              "    .dataframe thead th {\n",
              "        text-align: right;\n",
              "    }\n",
              "</style>\n",
              "<table border=\"1\" class=\"dataframe\">\n",
              "  <thead>\n",
              "    <tr style=\"text-align: right;\">\n",
              "      <th></th>\n",
              "      <th>text_id</th>\n",
              "      <th>text</th>\n",
              "      <th>text_to_span</th>\n",
              "      <th>эймериоз</th>\n",
              "      <th>абсцесс</th>\n",
              "      <th>диспепсия молодняка</th>\n",
              "      <th>остертагиоз</th>\n",
              "      <th>мастит</th>\n",
              "      <th>инфекционный ринотрахеит</th>\n",
              "      <th>отёк вымени</th>\n",
              "      <th>тенденит</th>\n",
              "      <th>сибирская язва</th>\n",
              "      <th>лишай</th>\n",
              "      <th>другое</th>\n",
              "    </tr>\n",
              "  </thead>\n",
              "  <tbody>\n",
              "    <tr>\n",
              "      <th>0</th>\n",
              "      <td>0</td>\n",
              "      <td>Корова, видимо вставая, раздавила себе сосок. ...</td>\n",
              "      <td>раздавила себе сосок', 'постоянно бежит молоко'</td>\n",
              "      <td>0</td>\n",
              "      <td>0</td>\n",
              "      <td>0</td>\n",
              "      <td>0</td>\n",
              "      <td>1</td>\n",
              "      <td>0</td>\n",
              "      <td>0</td>\n",
              "      <td>0</td>\n",
              "      <td>0</td>\n",
              "      <td>0</td>\n",
              "      <td>0</td>\n",
              "    </tr>\n",
              "    <tr>\n",
              "      <th>1</th>\n",
              "      <td>1</td>\n",
              "      <td>Корове 8 лет! Месяц назад промеж четвертей вым...</td>\n",
              "      <td>промеж четвертей вымени появились бугорки’, ‘г...</td>\n",
              "      <td>0</td>\n",
              "      <td>0</td>\n",
              "      <td>0</td>\n",
              "      <td>0</td>\n",
              "      <td>0</td>\n",
              "      <td>0</td>\n",
              "      <td>0</td>\n",
              "      <td>0</td>\n",
              "      <td>1</td>\n",
              "      <td>1</td>\n",
              "      <td>1</td>\n",
              "    </tr>\n",
              "    <tr>\n",
              "      <th>2</th>\n",
              "      <td>2</td>\n",
              "      <td>Молоко течёт само у коровы. Что делать, если у...</td>\n",
              "      <td>Молоко течёт',\\n  x’слабые соски',\\n  'молоко ...</td>\n",
              "      <td>0</td>\n",
              "      <td>0</td>\n",
              "      <td>0</td>\n",
              "      <td>0</td>\n",
              "      <td>1</td>\n",
              "      <td>0</td>\n",
              "      <td>1</td>\n",
              "      <td>0</td>\n",
              "      <td>0</td>\n",
              "      <td>0</td>\n",
              "      <td>0</td>\n",
              "    </tr>\n",
              "    <tr>\n",
              "      <th>3</th>\n",
              "      <td>3</td>\n",
              "      <td>У нетели болячки на вымени.\\nЗдравствуйте. Нет...</td>\n",
              "      <td>болячки на вымени',\\n  'вымя покрылось маленьк...</td>\n",
              "      <td>0</td>\n",
              "      <td>0</td>\n",
              "      <td>0</td>\n",
              "      <td>0</td>\n",
              "      <td>0</td>\n",
              "      <td>0</td>\n",
              "      <td>0</td>\n",
              "      <td>0</td>\n",
              "      <td>1</td>\n",
              "      <td>1</td>\n",
              "      <td>1</td>\n",
              "    </tr>\n",
              "    <tr>\n",
              "      <th>4</th>\n",
              "      <td>4</td>\n",
              "      <td>У меня первотелка, на днях отёл, у неё левый п...</td>\n",
              "      <td>сосок как будто пустой</td>\n",
              "      <td>0</td>\n",
              "      <td>0</td>\n",
              "      <td>0</td>\n",
              "      <td>0</td>\n",
              "      <td>1</td>\n",
              "      <td>0</td>\n",
              "      <td>0</td>\n",
              "      <td>0</td>\n",
              "      <td>0</td>\n",
              "      <td>0</td>\n",
              "      <td>0</td>\n",
              "    </tr>\n",
              "    <tr>\n",
              "      <th>...</th>\n",
              "      <td>...</td>\n",
              "      <td>...</td>\n",
              "      <td>...</td>\n",
              "      <td>...</td>\n",
              "      <td>...</td>\n",
              "      <td>...</td>\n",
              "      <td>...</td>\n",
              "      <td>...</td>\n",
              "      <td>...</td>\n",
              "      <td>...</td>\n",
              "      <td>...</td>\n",
              "      <td>...</td>\n",
              "      <td>...</td>\n",
              "      <td>...</td>\n",
              "    </tr>\n",
              "    <tr>\n",
              "      <th>289</th>\n",
              "      <td>290</td>\n",
              "      <td>Чем лечить понос с кровью у телёнка?\\nУ телёнк...</td>\n",
              "      <td>Понос с кровью</td>\n",
              "      <td>1</td>\n",
              "      <td>0</td>\n",
              "      <td>0</td>\n",
              "      <td>0</td>\n",
              "      <td>0</td>\n",
              "      <td>0</td>\n",
              "      <td>0</td>\n",
              "      <td>0</td>\n",
              "      <td>0</td>\n",
              "      <td>0</td>\n",
              "      <td>1</td>\n",
              "    </tr>\n",
              "    <tr>\n",
              "      <th>290</th>\n",
              "      <td>291</td>\n",
              "      <td>Здравствуйте!\\n Умер бык, возрастом 1 год 3 ме...</td>\n",
              "      <td>Следы конвульсий</td>\n",
              "      <td>0</td>\n",
              "      <td>0</td>\n",
              "      <td>0</td>\n",
              "      <td>0</td>\n",
              "      <td>0</td>\n",
              "      <td>1</td>\n",
              "      <td>0</td>\n",
              "      <td>0</td>\n",
              "      <td>0</td>\n",
              "      <td>0</td>\n",
              "      <td>1</td>\n",
              "    </tr>\n",
              "    <tr>\n",
              "      <th>291</th>\n",
              "      <td>292</td>\n",
              "      <td>всем привет,корова сегодня отелилась отек выме...</td>\n",
              "      <td>Отек вымени</td>\n",
              "      <td>0</td>\n",
              "      <td>0</td>\n",
              "      <td>0</td>\n",
              "      <td>0</td>\n",
              "      <td>0</td>\n",
              "      <td>0</td>\n",
              "      <td>1</td>\n",
              "      <td>0</td>\n",
              "      <td>0</td>\n",
              "      <td>0</td>\n",
              "      <td>0</td>\n",
              "    </tr>\n",
              "    <tr>\n",
              "      <th>292</th>\n",
              "      <td>293</td>\n",
              "      <td>Бычок не ест, что делать?\\nЗдравствуйте, у мен...</td>\n",
              "      <td>не ест</td>\n",
              "      <td>1</td>\n",
              "      <td>0</td>\n",
              "      <td>0</td>\n",
              "      <td>0</td>\n",
              "      <td>0</td>\n",
              "      <td>0</td>\n",
              "      <td>0</td>\n",
              "      <td>0</td>\n",
              "      <td>0</td>\n",
              "      <td>0</td>\n",
              "      <td>1</td>\n",
              "    </tr>\n",
              "    <tr>\n",
              "      <th>0</th>\n",
              "      <td>0</td>\n",
              "      <td>asd</td>\n",
              "      <td>раздавила себе сосок', 'постоянно бежит молоко'</td>\n",
              "      <td>0</td>\n",
              "      <td>0</td>\n",
              "      <td>0</td>\n",
              "      <td>0</td>\n",
              "      <td>1</td>\n",
              "      <td>0</td>\n",
              "      <td>0</td>\n",
              "      <td>0</td>\n",
              "      <td>0</td>\n",
              "      <td>0</td>\n",
              "      <td>0</td>\n",
              "    </tr>\n",
              "  </tbody>\n",
              "</table>\n",
              "<p>294 rows × 14 columns</p>\n",
              "</div>"
            ],
            "text/plain": [
              "     text_id                                               text  ... лишай  другое\n",
              "0          0  Корова, видимо вставая, раздавила себе сосок. ...  ...     0       0\n",
              "1          1  Корове 8 лет! Месяц назад промеж четвертей вым...  ...     1       1\n",
              "2          2  Молоко течёт само у коровы. Что делать, если у...  ...     0       0\n",
              "3          3  У нетели болячки на вымени.\\nЗдравствуйте. Нет...  ...     1       1\n",
              "4          4  У меня первотелка, на днях отёл, у неё левый п...  ...     0       0\n",
              "..       ...                                                ...  ...   ...     ...\n",
              "289      290  Чем лечить понос с кровью у телёнка?\\nУ телёнк...  ...     0       1\n",
              "290      291  Здравствуйте!\\n Умер бык, возрастом 1 год 3 ме...  ...     0       1\n",
              "291      292  всем привет,корова сегодня отелилась отек выме...  ...     0       0\n",
              "292      293  Бычок не ест, что делать?\\nЗдравствуйте, у мен...  ...     0       1\n",
              "0          0                                                asd  ...     0       0\n",
              "\n",
              "[294 rows x 14 columns]"
            ]
          },
          "metadata": {},
          "execution_count": 30
        }
      ]
    },
    {
      "cell_type": "code",
      "metadata": {
        "id": "V_eoPgnSlAq6"
      },
      "source": [
        "import json"
      ],
      "execution_count": 1,
      "outputs": []
    },
    {
      "cell_type": "code",
      "metadata": {
        "id": "k0Ne2bLxlsA5"
      },
      "source": [
        "with open ('new_data.json','r') as f:\n",
        "  tag_data = json.load(f)"
      ],
      "execution_count": 53,
      "outputs": []
    },
    {
      "cell_type": "code",
      "metadata": {
        "id": "ZORFgDZsl2sj"
      },
      "source": [
        "spans = {}\n",
        "for item in a:\n",
        "  if len(item['annotations']) not in spans:\n",
        "    spans[len(item['annotations'])] = 0\n",
        "  spans[len(item['annotations'])] += 1"
      ],
      "execution_count": 24,
      "outputs": []
    },
    {
      "cell_type": "code",
      "metadata": {
        "id": "HxR7JP6St2Lk"
      },
      "source": [
        "import pandas as pd\n",
        "df = pd.read_csv('new_train.csv',sep=';').drop('Unnamed: 0',axis=1).drop_duplicates(subset=['text']).reset_index(drop=True)"
      ],
      "execution_count": 46,
      "outputs": []
    },
    {
      "cell_type": "code",
      "metadata": {
        "id": "aY8AfqumzHTx",
        "outputId": "d6716001-e2e5-4114-c890-ec63b45ec0a1",
        "colab": {
          "base_uri": "https://localhost:8080/"
        }
      },
      "source": [
        "tag_data[0]"
      ],
      "execution_count": 54,
      "outputs": [
        {
          "output_type": "execute_result",
          "data": {
            "text/plain": [
              "{'annotations': [{'completed_by': {'email': 'trashdmk01@gmail.com',\n",
              "    'first_name': '',\n",
              "    'id': 1,\n",
              "    'last_name': ''},\n",
              "   'created_at': '2021-11-06T13:45:26.226676Z',\n",
              "   'ground_truth': False,\n",
              "   'id': 534,\n",
              "   'lead_time': 92535.76,\n",
              "   'parent_annotation': None,\n",
              "   'parent_prediction': None,\n",
              "   'prediction': {},\n",
              "   'result': [{'from_name': 'label',\n",
              "     'id': '7BrQjnhinF',\n",
              "     'to_name': 'text',\n",
              "     'type': 'labels',\n",
              "     'value': {'end': 198,\n",
              "      'labels': ['B'],\n",
              "      'start': 173,\n",
              "      'text': 'не может вставать на ноги'}}],\n",
              "   'result_count': 0,\n",
              "   'task': 550,\n",
              "   'updated_at': '2021-11-06T13:45:31.887990Z',\n",
              "   'was_cancelled': False}],\n",
              " 'created_at': '2021-11-05T12:03:47.081977Z',\n",
              " 'data': {'Unnamed: 0': 253,\n",
              "  'text': 'Здравствуйте, помогите, теленку больше месяца всё было нормально, давали утро и вечер молока по 3 л молока, дня три назад стали добавлять геркулесовую кашу, сегодня теленок не может вставать на ноги, что делать?',\n",
              "  'text_id': 254,\n",
              "  'text_to_span': 'Не может встать на ноги',\n",
              "  'абсцесс': 0,\n",
              "  'диспепсия молодняка': 0,\n",
              "  'другое': 1,\n",
              "  'инфекционный ринотрахеит': 0,\n",
              "  'лишай': 0,\n",
              "  'мастит': 0,\n",
              "  'остертагиоз': 0,\n",
              "  'отёк вымени': 0,\n",
              "  'сибирская язва': 0,\n",
              "  'тенденит': 1,\n",
              "  'эймериоз': 0},\n",
              " 'file_upload': '48e888f0-new_train.tsv',\n",
              " 'id': 550,\n",
              " 'meta': {},\n",
              " 'predictions': [],\n",
              " 'project': 1,\n",
              " 'updated_at': '2021-11-06T13:45:31.867924Z'}"
            ]
          },
          "metadata": {},
          "execution_count": 54
        }
      ]
    },
    {
      "cell_type": "code",
      "metadata": {
        "id": "B1KHm_88zMYV",
        "outputId": "2a597653-40f6-4c89-cfd9-bfd879f2408b",
        "colab": {
          "base_uri": "https://localhost:8080/"
        }
      },
      "source": [
        "tag_data[1]"
      ],
      "execution_count": 57,
      "outputs": [
        {
          "output_type": "execute_result",
          "data": {
            "text/plain": [
              "{'annotations': [{'completed_by': {'email': 'trashdmk01@gmail.com',\n",
              "    'first_name': '',\n",
              "    'id': 1,\n",
              "    'last_name': ''},\n",
              "   'created_at': '2021-11-06T13:43:43.831584Z',\n",
              "   'ground_truth': False,\n",
              "   'id': 529,\n",
              "   'lead_time': 92434.709,\n",
              "   'parent_annotation': None,\n",
              "   'parent_prediction': None,\n",
              "   'prediction': {},\n",
              "   'result': [{'from_name': 'label',\n",
              "     'id': 'X12VIvYDZn',\n",
              "     'to_name': 'text',\n",
              "     'type': 'labels',\n",
              "     'value': {'end': 32, 'labels': ['B'], 'start': 23, 'text': 'поносится'}},\n",
              "    {'from_name': 'label',\n",
              "     'id': 'K16wsOR7lS',\n",
              "     'to_name': 'text',\n",
              "     'type': 'labels',\n",
              "     'value': {'end': 85, 'labels': ['B'], 'start': 78, 'text': 'поносит'}}],\n",
              "   'result_count': 0,\n",
              "   'task': 543,\n",
              "   'updated_at': '2021-11-06T13:43:50.836805Z',\n",
              "   'was_cancelled': False}],\n",
              " 'created_at': '2021-11-05T12:03:47.081977Z',\n",
              " 'data': {'Unnamed: 0': 246,\n",
              "  'text': 'Что делать если корова поносится? Здравствуйте, подскажите пожалуйста, корова поносит что делать?',\n",
              "  'text_id': 247,\n",
              "  'text_to_span': 'Корова поносит',\n",
              "  'абсцесс': 0,\n",
              "  'диспепсия молодняка': 0,\n",
              "  'другое': 1,\n",
              "  'инфекционный ринотрахеит': 0,\n",
              "  'лишай': 0,\n",
              "  'мастит': 0,\n",
              "  'остертагиоз': 0,\n",
              "  'отёк вымени': 0,\n",
              "  'сибирская язва': 0,\n",
              "  'тенденит': 0,\n",
              "  'эймериоз': 1},\n",
              " 'file_upload': '48e888f0-new_train.tsv',\n",
              " 'id': 543,\n",
              " 'meta': {},\n",
              " 'predictions': [],\n",
              " 'project': 1,\n",
              " 'updated_at': '2021-11-06T13:43:50.817781Z'}"
            ]
          },
          "metadata": {},
          "execution_count": 57
        }
      ]
    },
    {
      "cell_type": "code",
      "metadata": {
        "id": "bQlAOqFtywyc"
      },
      "source": [
        "data = []\n",
        "for item in tag_data:\n",
        "  if len(df[df['text'] == item['data']['text']]) > 0:\n",
        "    data.append({'text':item['data']['text'],'sentence_id':df[df['text'] == item['data']['text']].index[0],'entities':[]})\n",
        "    count = -1\n",
        "    for tag in item['annotations'][0]['result']:\n",
        "      count += 1\n",
        "      data_ent = {'entity_id':count,'entity_text':tag['value']['text'],'entity_type':'B',\n",
        "                                        'start':tag['value']['start'],'end':tag['value']['end']}\n",
        "      data[-1]['entities'].append(data_ent)"
      ],
      "execution_count": 76,
      "outputs": []
    },
    {
      "cell_type": "code",
      "metadata": {
        "id": "l5U5aD0Wt6GJ",
        "outputId": "7bc285e9-3f39-4881-8712-bd1804fe8b03",
        "colab": {
          "base_uri": "https://localhost:8080/"
        }
      },
      "source": [
        "df.iloc[546]"
      ],
      "execution_count": 79,
      "outputs": [
        {
          "output_type": "execute_result",
          "data": {
            "text/plain": [
              "text_id                                                                   254\n",
              "text                        Здравствуйте, помогите, теленку больше месяца ...\n",
              "text_to_span                                          Не может встать на ноги\n",
              "эймериоз                                                                    0\n",
              "абсцесс                                                                     0\n",
              "диспепсия молодняка                                                         0\n",
              "остертагиоз                                                                 0\n",
              "мастит                                                                      0\n",
              "инфекционный ринотрахеит                                                    0\n",
              "отёк вымени                                                                 0\n",
              "тенденит                                                                    1\n",
              "сибирская язва                                                              0\n",
              "лишай                                                                       0\n",
              "другое                                                                      1\n",
              "Name: 546, dtype: object"
            ]
          },
          "metadata": {},
          "execution_count": 79
        }
      ]
    }
  ]
}